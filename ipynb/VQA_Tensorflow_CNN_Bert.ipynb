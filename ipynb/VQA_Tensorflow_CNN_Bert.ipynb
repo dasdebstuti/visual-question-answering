{
  "cells": [
    {
      "cell_type": "markdown",
      "source": [
        "# Load the Data"
      ],
      "metadata": {
        "id": "buY-59Qgi6z4"
      }
    },
    {
      "cell_type": "code",
      "execution_count": 2,
      "metadata": {
        "id": "3bkxTPFIkbSZ",
        "colab": {
          "base_uri": "https://localhost:8080/"
        },
        "outputId": "32f76cab-2882-41ea-9f07-b439c3b35ad1"
      },
      "outputs": [
        {
          "output_type": "stream",
          "name": "stdout",
          "text": [
            "\u001b[2K     \u001b[90m━━━━━━━━━━━━━━━━━━━━━━━━━━━━━━━━━━━━━━━━\u001b[0m \u001b[32m3.2/3.2 MB\u001b[0m \u001b[31m29.8 MB/s\u001b[0m eta \u001b[36m0:00:00\u001b[0m\n",
            "\u001b[2K     \u001b[90m━━━━━━━━━━━━━━━━━━━━━━━━━━━━━━━━━━━━━━━━\u001b[0m \u001b[32m227.1/227.1 kB\u001b[0m \u001b[31m7.0 MB/s\u001b[0m eta \u001b[36m0:00:00\u001b[0m\n",
            "\u001b[?25h\u001b[31mERROR: Could not find a version that satisfies the requirement transformer (from versions: none)\u001b[0m\u001b[31m\n",
            "\u001b[0m\u001b[31mERROR: No matching distribution found for transformer\u001b[0m\u001b[31m\n",
            "\u001b[0m"
          ]
        }
      ],
      "source": [
        "!pip install -qqq easy-vqa\n",
        "!pip install -qqq sentence_transformers transformer\n"
      ]
    },
    {
      "cell_type": "code",
      "execution_count": 3,
      "metadata": {
        "id": "w_lYv0ndkpgE"
      },
      "outputs": [],
      "source": [
        "from easy_vqa import get_train_questions, get_test_questions\n",
        "\n",
        "train_questions, train_answers, train_image_ids = get_train_questions()\n",
        "test_questions, test_answers, test_image_ids = get_test_questions()"
      ]
    },
    {
      "cell_type": "code",
      "execution_count": 4,
      "metadata": {
        "colab": {
          "base_uri": "https://localhost:8080/"
        },
        "id": "sAEveZC3pxsz",
        "outputId": "0733d8b3-730d-4941-96c1-0bd0b3b6117f"
      },
      "outputs": [
        {
          "output_type": "execute_result",
          "data": {
            "text/plain": [
              "(38575, 9673)"
            ]
          },
          "metadata": {},
          "execution_count": 4
        }
      ],
      "source": [
        "len(train_questions), len(test_questions)"
      ]
    },
    {
      "cell_type": "markdown",
      "source": [
        "#Visualize the Data"
      ],
      "metadata": {
        "id": "2ojsvk9TW_Y9"
      }
    },
    {
      "cell_type": "code",
      "execution_count": 5,
      "metadata": {
        "colab": {
          "base_uri": "https://localhost:8080/"
        },
        "id": "G5-Mf9oek2eg",
        "outputId": "e77dfe8d-05f4-434e-c5e3-b1335afb596d"
      },
      "outputs": [
        {
          "output_type": "stream",
          "name": "stdout",
          "text": [
            "Question:  what is the blue shape?, Answer:  rectangle, Image Id:  0\n",
            "Question:  what color is the shape?, Answer:  blue, Image Id:  0\n",
            "Question:  does the image contain a rectangle?, Answer:  yes, Image Id:  0\n",
            "Question:  is there a triangle in the image?, Answer:  no, Image Id:  0\n",
            "Question:  is there a black shape?, Answer:  no, Image Id:  0\n",
            "Question:  does the image not contain a gray shape?, Answer:  yes, Image Id:  0\n",
            "Question:  is there a red shape in the image?, Answer:  no, Image Id:  0\n",
            "Question:  does the image not contain a red shape?, Answer:  yes, Image Id:  0\n",
            "Question:  is there not a blue shape?, Answer:  no, Image Id:  0\n",
            "Question:  is there not a blue shape in the image?, Answer:  no, Image Id:  0\n",
            "Question:  is there not a yellow shape?, Answer:  yes, Image Id:  0\n",
            "Question:  is a teal shape present?, Answer:  no, Image Id:  0\n",
            "Question:  what color is the triangle?, Answer:  blue, Image Id:  1\n",
            "Question:  what color is the shape?, Answer:  blue, Image Id:  1\n",
            "Question:  is there not a rectangle in the image?, Answer:  yes, Image Id:  1\n",
            "Question:  is there a red shape?, Answer:  no, Image Id:  1\n",
            "Question:  is there a green shape in the image?, Answer:  no, Image Id:  1\n",
            "Question:  is there not a teal shape?, Answer:  yes, Image Id:  1\n",
            "Question:  what shape is in the image?, Answer:  triangle, Image Id:  2\n",
            "Question:  what shape does the image contain?, Answer:  triangle, Image Id:  2\n"
          ]
        }
      ],
      "source": [
        "# Verify the quesion, answers for Images\n",
        "\n",
        "for idx in range(20):\n",
        "  print('Question: ', train_questions[idx], end=', ')\n",
        "  print('Answer: ', train_answers[idx], end=', ')\n",
        "  print('Image Id: ', train_image_ids[idx])\n"
      ]
    },
    {
      "cell_type": "code",
      "execution_count": 6,
      "metadata": {
        "id": "I17KfZhjopZe"
      },
      "outputs": [],
      "source": [
        "# write a function to display the image\n",
        "\n",
        "def display_image(image_id):\n",
        "  from IPython.display import Image\n",
        "  from PIL import Image\n",
        "  image_path = f\"/usr/local/lib/python3.10/dist-packages/easy_vqa/data/train/images/{image_id}.png\"\n",
        "  display(Image.open(image_path))\n"
      ]
    },
    {
      "cell_type": "code",
      "execution_count": 7,
      "metadata": {
        "id": "BDm0ZZZBl4cr"
      },
      "outputs": [],
      "source": [
        "# Visualize the data\n",
        "\n",
        "# Map questions for one particular image\n",
        "from collections import defaultdict\n",
        "\n",
        "image_qna_map = defaultdict(list)\n",
        "\n",
        "for idx in range(len(train_questions)):\n",
        "  image_qna_map[train_image_ids[idx]].append({'question': train_questions[idx], 'answer': train_answers[idx]})"
      ]
    },
    {
      "cell_type": "code",
      "execution_count": 8,
      "metadata": {
        "colab": {
          "base_uri": "https://localhost:8080/",
          "height": 1000
        },
        "id": "m31kFVNuqJvZ",
        "outputId": "55548b9f-e61b-4af3-b7c3-d32b6e672638"
      },
      "outputs": [
        {
          "output_type": "stream",
          "name": "stdout",
          "text": [
            "Image Id:  0\n"
          ]
        },
        {
          "output_type": "display_data",
          "data": {
            "text/plain": [
              "<PIL.PngImagePlugin.PngImageFile image mode=RGB size=64x64>"
            ],
            "image/png": "[encoded data removed]"
          },
          "metadata": {}
        },
        {
          "output_type": "stream",
          "name": "stdout",
          "text": [
            "{'question': 'what is the blue shape?', 'answer': 'rectangle'}\n",
            "{'question': 'what color is the shape?', 'answer': 'blue'}\n",
            "{'question': 'does the image contain a rectangle?', 'answer': 'yes'}\n",
            "{'question': 'is there a triangle in the image?', 'answer': 'no'}\n",
            "{'question': 'is there a black shape?', 'answer': 'no'}\n",
            "{'question': 'does the image not contain a gray shape?', 'answer': 'yes'}\n",
            "{'question': 'is there a red shape in the image?', 'answer': 'no'}\n",
            "{'question': 'does the image not contain a red shape?', 'answer': 'yes'}\n",
            "{'question': 'is there not a blue shape?', 'answer': 'no'}\n",
            "{'question': 'is there not a blue shape in the image?', 'answer': 'no'}\n",
            "{'question': 'is there not a yellow shape?', 'answer': 'yes'}\n",
            "{'question': 'is a teal shape present?', 'answer': 'no'}\n",
            "Image Id:  1\n"
          ]
        },
        {
          "output_type": "display_data",
          "data": {
            "text/plain": [
              "<PIL.PngImagePlugin.PngImageFile image mode=RGB size=64x64>"
            ],
            "image/png": "[encoded data removed]"
          },
          "metadata": {}
        },
        {
          "output_type": "stream",
          "name": "stdout",
          "text": [
            "{'question': 'what color is the triangle?', 'answer': 'blue'}\n",
            "{'question': 'what color is the shape?', 'answer': 'blue'}\n",
            "{'question': 'is there not a rectangle in the image?', 'answer': 'yes'}\n",
            "{'question': 'is there a red shape?', 'answer': 'no'}\n",
            "{'question': 'is there a green shape in the image?', 'answer': 'no'}\n",
            "{'question': 'is there not a teal shape?', 'answer': 'yes'}\n",
            "Image Id:  2\n"
          ]
        },
        {
          "output_type": "display_data",
          "data": {
            "text/plain": [
              "<PIL.PngImagePlugin.PngImageFile image mode=RGB size=64x64>"
            ],
            "image/png": "[encoded data removed]"
          },
          "metadata": {}
        },
        {
          "output_type": "stream",
          "name": "stdout",
          "text": [
            "{'question': 'what shape is in the image?', 'answer': 'triangle'}\n",
            "{'question': 'what shape does the image contain?', 'answer': 'triangle'}\n",
            "{'question': 'what color is the triangle?', 'answer': 'red'}\n",
            "{'question': 'what is the color of the triangle?', 'answer': 'red'}\n",
            "{'question': 'is there a circle?', 'answer': 'no'}\n",
            "{'question': 'does the image contain a green shape?', 'answer': 'no'}\n",
            "{'question': 'is there a blue shape in the image?', 'answer': 'no'}\n",
            "{'question': 'is there a teal shape?', 'answer': 'no'}\n",
            "{'question': 'is there not a teal shape in the image?', 'answer': 'yes'}\n",
            "Image Id:  3\n"
          ]
        },
        {
          "output_type": "display_data",
          "data": {
            "text/plain": [
              "<PIL.PngImagePlugin.PngImageFile image mode=RGB size=64x64>"
            ],
            "image/png": "[encoded data removed]"
          },
          "metadata": {}
        },
        {
          "output_type": "stream",
          "name": "stdout",
          "text": [
            "{'question': 'what shape is present?', 'answer': 'rectangle'}\n",
            "{'question': 'what shape does the image contain?', 'answer': 'rectangle'}\n",
            "{'question': 'what color is the rectangle?', 'answer': 'brown'}\n",
            "{'question': 'what is the color of the rectangle?', 'answer': 'brown'}\n",
            "{'question': 'what is the color of the shape?', 'answer': 'brown'}\n",
            "{'question': 'does the image not contain a circle?', 'answer': 'yes'}\n",
            "{'question': 'does the image contain a triangle?', 'answer': 'no'}\n",
            "{'question': 'does the image contain a gray shape?', 'answer': 'no'}\n",
            "{'question': 'is there a blue shape?', 'answer': 'no'}\n",
            "{'question': 'is no yellow shape present?', 'answer': 'yes'}\n",
            "{'question': 'is there not a brown shape?', 'answer': 'no'}\n",
            "Image Id:  4\n"
          ]
        },
        {
          "output_type": "display_data",
          "data": {
            "text/plain": [
              "<PIL.PngImagePlugin.PngImageFile image mode=RGB size=64x64>"
            ],
            "image/png": "[encoded data removed]"
          },
          "metadata": {}
        },
        {
          "output_type": "stream",
          "name": "stdout",
          "text": [
            "{'question': 'what is the red shape?', 'answer': 'circle'}\n",
            "{'question': 'what is the color of the circle?', 'answer': 'red'}\n",
            "{'question': 'what is the color of the shape?', 'answer': 'red'}\n",
            "{'question': 'is there not a rectangle in the image?', 'answer': 'yes'}\n",
            "{'question': 'is a circle present?', 'answer': 'yes'}\n",
            "{'question': 'does the image not contain a circle?', 'answer': 'no'}\n",
            "{'question': 'is there a black shape?', 'answer': 'no'}\n",
            "{'question': 'is there not a gray shape?', 'answer': 'yes'}\n",
            "{'question': 'does the image contain a red shape?', 'answer': 'yes'}\n",
            "{'question': 'does the image contain a yellow shape?', 'answer': 'no'}\n",
            "{'question': 'is there not a yellow shape in the image?', 'answer': 'yes'}\n",
            "{'question': 'is there a teal shape?', 'answer': 'no'}\n",
            "{'question': 'is there a brown shape in the image?', 'answer': 'no'}\n",
            "{'question': 'is there not a brown shape in the image?', 'answer': 'yes'}\n",
            "Image Id:  5\n"
          ]
        },
        {
          "output_type": "display_data",
          "data": {
            "text/plain": [
              "<PIL.PngImagePlugin.PngImageFile image mode=RGB size=64x64>"
            ],
            "image/png": "[encoded data removed]"
          },
          "metadata": {}
        },
        {
          "output_type": "stream",
          "name": "stdout",
          "text": [
            "{'question': 'what is the yellow shape?', 'answer': 'triangle'}\n",
            "{'question': 'what color is the triangle?', 'answer': 'yellow'}\n",
            "{'question': 'what is the color of the triangle?', 'answer': 'yellow'}\n",
            "{'question': 'is a rectangle present?', 'answer': 'no'}\n",
            "{'question': 'is there not a circle?', 'answer': 'yes'}\n",
            "{'question': 'is there a triangle?', 'answer': 'yes'}\n",
            "{'question': 'is a green shape present?', 'answer': 'no'}\n",
            "{'question': 'does the image contain a yellow shape?', 'answer': 'yes'}\n",
            "{'question': 'is there a brown shape in the image?', 'answer': 'no'}\n",
            "Image Id:  6\n"
          ]
        },
        {
          "output_type": "display_data",
          "data": {
            "text/plain": [
              "<PIL.PngImagePlugin.PngImageFile image mode=RGB size=64x64>"
            ],
            "image/png": "[encoded data removed]"
          },
          "metadata": {}
        },
        {
          "output_type": "stream",
          "name": "stdout",
          "text": [
            "{'question': 'what is the red shape?', 'answer': 'circle'}\n",
            "{'question': 'what is the color of the circle?', 'answer': 'red'}\n",
            "{'question': 'what is the color of the shape?', 'answer': 'red'}\n",
            "{'question': 'is no rectangle present?', 'answer': 'yes'}\n",
            "{'question': 'does the image contain a circle?', 'answer': 'yes'}\n",
            "{'question': 'is there not a circle?', 'answer': 'no'}\n",
            "{'question': 'is there not a triangle in the image?', 'answer': 'yes'}\n",
            "{'question': 'does the image not contain a gray shape?', 'answer': 'yes'}\n",
            "{'question': 'is there a green shape?', 'answer': 'no'}\n",
            "{'question': 'is there a blue shape?', 'answer': 'no'}\n",
            "{'question': 'is a blue shape present?', 'answer': 'no'}\n",
            "{'question': 'is a yellow shape present?', 'answer': 'no'}\n",
            "{'question': 'is no teal shape present?', 'answer': 'yes'}\n",
            "Image Id:  7\n"
          ]
        },
        {
          "output_type": "display_data",
          "data": {
            "text/plain": [
              "<PIL.PngImagePlugin.PngImageFile image mode=RGB size=64x64>"
            ],
            "image/png": "[encoded data removed]"
          },
          "metadata": {}
        },
        {
          "output_type": "stream",
          "name": "stdout",
          "text": [
            "{'question': 'what is the color of the circle?', 'answer': 'black'}\n",
            "{'question': 'is a rectangle present?', 'answer': 'no'}\n",
            "{'question': 'is there not a triangle?', 'answer': 'yes'}\n",
            "{'question': 'is there not a gray shape?', 'answer': 'yes'}\n",
            "{'question': 'is there not a gray shape in the image?', 'answer': 'yes'}\n",
            "{'question': 'is there a red shape?', 'answer': 'no'}\n",
            "{'question': 'is there not a brown shape?', 'answer': 'yes'}\n",
            "Image Id:  8\n"
          ]
        },
        {
          "output_type": "display_data",
          "data": {
            "text/plain": [
              "<PIL.PngImagePlugin.PngImageFile image mode=RGB size=64x64>"
            ],
            "image/png": "[encoded data removed]"
          },
          "metadata": {}
        },
        {
          "output_type": "stream",
          "name": "stdout",
          "text": [
            "{'question': 'what is the color of the rectangle?', 'answer': 'brown'}\n",
            "{'question': 'does the image not contain a circle?', 'answer': 'yes'}\n",
            "{'question': 'is no gray shape present?', 'answer': 'yes'}\n",
            "{'question': 'does the image contain a red shape?', 'answer': 'no'}\n",
            "{'question': 'is no red shape present?', 'answer': 'yes'}\n",
            "{'question': 'does the image not contain a green shape?', 'answer': 'yes'}\n",
            "{'question': 'is there a blue shape in the image?', 'answer': 'no'}\n",
            "{'question': 'does the image not contain a blue shape?', 'answer': 'yes'}\n",
            "{'question': 'is there a teal shape in the image?', 'answer': 'no'}\n",
            "{'question': 'is there a brown shape in the image?', 'answer': 'yes'}\n",
            "Image Id:  9\n"
          ]
        },
        {
          "output_type": "display_data",
          "data": {
            "text/plain": [
              "<PIL.PngImagePlugin.PngImageFile image mode=RGB size=64x64>"
            ],
            "image/png": "[encoded data removed]"
          },
          "metadata": {}
        },
        {
          "output_type": "stream",
          "name": "stdout",
          "text": [
            "{'question': 'what shape is in the image?', 'answer': 'rectangle'}\n",
            "{'question': 'what is the yellow shape?', 'answer': 'rectangle'}\n",
            "{'question': 'what is the color of the rectangle?', 'answer': 'yellow'}\n",
            "{'question': 'what color is the shape?', 'answer': 'yellow'}\n",
            "{'question': 'is there a rectangle?', 'answer': 'yes'}\n",
            "{'question': 'is a gray shape present?', 'answer': 'no'}\n",
            "{'question': 'is a red shape present?', 'answer': 'no'}\n",
            "{'question': 'is no red shape present?', 'answer': 'yes'}\n",
            "{'question': 'does the image not contain a blue shape?', 'answer': 'yes'}\n",
            "{'question': 'is there a brown shape?', 'answer': 'no'}\n",
            "{'question': 'does the image not contain a brown shape?', 'answer': 'yes'}\n"
          ]
        }
      ],
      "source": [
        "# Display Image and question-answers\n",
        "for idx in range(10):\n",
        "  print('Image Id: ', idx)\n",
        "  display_image(idx)\n",
        "  for qna in image_qna_map[idx]:\n",
        "    print(qna)\n"
      ]
    },
    {
      "cell_type": "code",
      "execution_count": 9,
      "metadata": {
        "colab": {
          "base_uri": "https://localhost:8080/"
        },
        "id": "LT2Tt5rnJEh7",
        "outputId": "fcee6518-c24d-4b3a-c11c-d67b1b2cc00c"
      },
      "outputs": [
        {
          "output_type": "execute_result",
          "data": {
            "text/plain": [
              "['circle',\n",
              " 'green',\n",
              " 'red',\n",
              " 'gray',\n",
              " 'yes',\n",
              " 'teal',\n",
              " 'black',\n",
              " 'rectangle',\n",
              " 'yellow',\n",
              " 'triangle',\n",
              " 'brown',\n",
              " 'blue',\n",
              " 'no']"
            ]
          },
          "metadata": {},
          "execution_count": 9
        }
      ],
      "source": [
        "# Find all the possible answers\n",
        "\n",
        "from easy_vqa import get_answers\n",
        "\n",
        "all_answers = get_answers()\n",
        "all_answers"
      ]
    },
    {
      "cell_type": "code",
      "execution_count": 10,
      "metadata": {
        "colab": {
          "base_uri": "https://localhost:8080/"
        },
        "id": "khhTfV9OJWTL",
        "outputId": "26859325-dbf4-434b-ff0d-eb205832c138"
      },
      "outputs": [
        {
          "output_type": "execute_result",
          "data": {
            "text/plain": [
              "{'circle': 0,\n",
              " 'green': 1,\n",
              " 'red': 2,\n",
              " 'gray': 3,\n",
              " 'yes': 4,\n",
              " 'teal': 5,\n",
              " 'black': 6,\n",
              " 'rectangle': 7,\n",
              " 'yellow': 8,\n",
              " 'triangle': 9,\n",
              " 'brown': 10,\n",
              " 'blue': 11,\n",
              " 'no': 12}"
            ]
          },
          "metadata": {},
          "execution_count": 10
        }
      ],
      "source": [
        "# Get index mapping for the answer labels\n",
        "label2Index = {label: idx for idx, label in enumerate(all_answers)}\n",
        "label2Index"
      ]
    },
    {
      "cell_type": "code",
      "source": [
        "# Get Label to Index mapping for the answer labels\n",
        "index2Label = {idx: label for label, idx in label2Index.items()}\n",
        "index2Label"
      ],
      "metadata": {
        "id": "QgfIFU2jIvnV",
        "colab": {
          "base_uri": "https://localhost:8080/"
        },
        "outputId": "4ac78351-0854-4503-841f-cf99017ab55e"
      },
      "execution_count": 11,
      "outputs": [
        {
          "output_type": "execute_result",
          "data": {
            "text/plain": [
              "{0: 'circle',\n",
              " 1: 'green',\n",
              " 2: 'red',\n",
              " 3: 'gray',\n",
              " 4: 'yes',\n",
              " 5: 'teal',\n",
              " 6: 'black',\n",
              " 7: 'rectangle',\n",
              " 8: 'yellow',\n",
              " 9: 'triangle',\n",
              " 10: 'brown',\n",
              " 11: 'blue',\n",
              " 12: 'no'}"
            ]
          },
          "metadata": {},
          "execution_count": 11
        }
      ]
    },
    {
      "cell_type": "markdown",
      "source": [
        "# Preprocess the Data"
      ],
      "metadata": {
        "id": "AoKA4qdlXRDH"
      }
    },
    {
      "cell_type": "code",
      "execution_count": 12,
      "metadata": {
        "colab": {
          "base_uri": "https://localhost:8080/",
          "height": 206
        },
        "id": "ifTKqBJ-m0cI",
        "outputId": "42a5479e-ead3-4460-b150-e9c48b43d126"
      },
      "outputs": [
        {
          "output_type": "execute_result",
          "data": {
            "text/plain": [
              "                              question  answer  \\\n",
              "0              what is the blue shape?       7   \n",
              "1             what color is the shape?      11   \n",
              "2  does the image contain a rectangle?       4   \n",
              "3    is there a triangle in the image?      12   \n",
              "4              is there a black shape?      12   \n",
              "\n",
              "                                          image_path  \n",
              "0  /usr/local/lib/python3.10/dist-packages/easy_v...  \n",
              "1  /usr/local/lib/python3.10/dist-packages/easy_v...  \n",
              "2  /usr/local/lib/python3.10/dist-packages/easy_v...  \n",
              "3  /usr/local/lib/python3.10/dist-packages/easy_v...  \n",
              "4  /usr/local/lib/python3.10/dist-packages/easy_v...  "
            ],
            "text/html": [
              "\n",
              "  <div id=\"df-816af3ca-f1e7-40b9-b378-d64a4cec37a2\" class=\"colab-df-container\">\n",
              "    <div>\n",
              "<style scoped>\n",
              "    .dataframe tbody tr th:only-of-type {\n",
              "        vertical-align: middle;\n",
              "    }\n",
              "\n",
              "    .dataframe tbody tr th {\n",
              "        vertical-align: top;\n",
              "    }\n",
              "\n",
              "    .dataframe thead th {\n",
              "        text-align: right;\n",
              "    }\n",
              "</style>\n",
              "<table border=\"1\" class=\"dataframe\">\n",
              "  <thead>\n",
              "    <tr style=\"text-align: right;\">\n",
              "      <th></th>\n",
              "      <th>question</th>\n",
              "      <th>answer</th>\n",
              "      <th>image_path</th>\n",
              "    </tr>\n",
              "  </thead>\n",
              "  <tbody>\n",
              "    <tr>\n",
              "      <th>0</th>\n",
              "      <td>what is the blue shape?</td>\n",
              "      <td>7</td>\n",
              "      <td>/usr/local/lib/python3.10/dist-packages/easy_v...</td>\n",
              "    </tr>\n",
              "    <tr>\n",
              "      <th>1</th>\n",
              "      <td>what color is the shape?</td>\n",
              "      <td>11</td>\n",
              "      <td>/usr/local/lib/python3.10/dist-packages/easy_v...</td>\n",
              "    </tr>\n",
              "    <tr>\n",
              "      <th>2</th>\n",
              "      <td>does the image contain a rectangle?</td>\n",
              "      <td>4</td>\n",
              "      <td>/usr/local/lib/python3.10/dist-packages/easy_v...</td>\n",
              "    </tr>\n",
              "    <tr>\n",
              "      <th>3</th>\n",
              "      <td>is there a triangle in the image?</td>\n",
              "      <td>12</td>\n",
              "      <td>/usr/local/lib/python3.10/dist-packages/easy_v...</td>\n",
              "    </tr>\n",
              "    <tr>\n",
              "      <th>4</th>\n",
              "      <td>is there a black shape?</td>\n",
              "      <td>12</td>\n",
              "      <td>/usr/local/lib/python3.10/dist-packages/easy_v...</td>\n",
              "    </tr>\n",
              "  </tbody>\n",
              "</table>\n",
              "</div>\n",
              "    <div class=\"colab-df-buttons\">\n",
              "\n",
              "  <div class=\"colab-df-container\">\n",
              "    <button class=\"colab-df-convert\" onclick=\"convertToInteractive('df-816af3ca-f1e7-40b9-b378-d64a4cec37a2')\"\n",
              "            title=\"Convert this dataframe to an interactive table.\"\n",
              "            style=\"display:none;\">\n",
              "\n",
              "  <svg xmlns=\"http://www.w3.org/2000/svg\" height=\"24px\" viewBox=\"0 -960 960 960\">\n",
              "    <path d=\"M120-120v-720h720v720H120Zm60-500h600v-160H180v160Zm220 220h160v-160H400v160Zm0 220h160v-160H400v160ZM180-400h160v-160H180v160Zm440 0h160v-160H620v160ZM180-180h160v-160H180v160Zm440 0h160v-160H620v160Z\"/>\n",
              "  </svg>\n",
              "    </button>\n",
              "\n",
              "  <style>\n",
              "    .colab-df-container {\n",
              "      display:flex;\n",
              "      gap: 12px;\n",
              "    }\n",
              "\n",
              "    .colab-df-convert {\n",
              "      background-color: #E8F0FE;\n",
              "      border: none;\n",
              "      border-radius: 50%;\n",
              "      cursor: pointer;\n",
              "      display: none;\n",
              "      fill: #1967D2;\n",
              "      height: 32px;\n",
              "      padding: 0 0 0 0;\n",
              "      width: 32px;\n",
              "    }\n",
              "\n",
              "    .colab-df-convert:hover {\n",
              "      background-color: #E2EBFA;\n",
              "      box-shadow: 0px 1px 2px rgba(60, 64, 67, 0.3), 0px 1px 3px 1px rgba(60, 64, 67, 0.15);\n",
              "      fill: #174EA6;\n",
              "    }\n",
              "\n",
              "    .colab-df-buttons div {\n",
              "      margin-bottom: 4px;\n",
              "    }\n",
              "\n",
              "    [theme=dark] .colab-df-convert {\n",
              "      background-color: #3B4455;\n",
              "      fill: #D2E3FC;\n",
              "    }\n",
              "\n",
              "    [theme=dark] .colab-df-convert:hover {\n",
              "      background-color: #434B5C;\n",
              "      box-shadow: 0px 1px 3px 1px rgba(0, 0, 0, 0.15);\n",
              "      filter: drop-shadow(0px 1px 2px rgba(0, 0, 0, 0.3));\n",
              "      fill: #FFFFFF;\n",
              "    }\n",
              "  </style>\n",
              "\n",
              "    <script>\n",
              "      const buttonEl =\n",
              "        document.querySelector('#df-816af3ca-f1e7-40b9-b378-d64a4cec37a2 button.colab-df-convert');\n",
              "      buttonEl.style.display =\n",
              "        google.colab.kernel.accessAllowed ? 'block' : 'none';\n",
              "\n",
              "      async function convertToInteractive(key) {\n",
              "        const element = document.querySelector('#df-816af3ca-f1e7-40b9-b378-d64a4cec37a2');\n",
              "        const dataTable =\n",
              "          await google.colab.kernel.invokeFunction('convertToInteractive',\n",
              "                                                    [key], {});\n",
              "        if (!dataTable) return;\n",
              "\n",
              "        const docLinkHtml = 'Like what you see? Visit the ' +\n",
              "          '<a target=\"_blank\" href=https://colab.research.google.com/notebooks/data_table.ipynb>data table notebook</a>'\n",
              "          + ' to learn more about interactive tables.';\n",
              "        element.innerHTML = '';\n",
              "        dataTable['output_type'] = 'display_data';\n",
              "        await google.colab.output.renderOutput(dataTable, element);\n",
              "        const docLink = document.createElement('div');\n",
              "        docLink.innerHTML = docLinkHtml;\n",
              "        element.appendChild(docLink);\n",
              "      }\n",
              "    </script>\n",
              "  </div>\n",
              "\n",
              "\n",
              "<div id=\"df-a2dc3065-4fbc-4d82-8fba-6ec8d79819e7\">\n",
              "  <button class=\"colab-df-quickchart\" onclick=\"quickchart('df-a2dc3065-4fbc-4d82-8fba-6ec8d79819e7')\"\n",
              "            title=\"Suggest charts\"\n",
              "            style=\"display:none;\">\n",
              "\n",
              "<svg xmlns=\"http://www.w3.org/2000/svg\" height=\"24px\"viewBox=\"0 0 24 24\"\n",
              "     width=\"24px\">\n",
              "    <g>\n",
              "        <path d=\"M19 3H5c-1.1 0-2 .9-2 2v14c0 1.1.9 2 2 2h14c1.1 0 2-.9 2-2V5c0-1.1-.9-2-2-2zM9 17H7v-7h2v7zm4 0h-2V7h2v10zm4 0h-2v-4h2v4z\"/>\n",
              "    </g>\n",
              "</svg>\n",
              "  </button>\n",
              "\n",
              "<style>\n",
              "  .colab-df-quickchart {\n",
              "      --bg-color: #E8F0FE;\n",
              "      --fill-color: #1967D2;\n",
              "      --hover-bg-color: #E2EBFA;\n",
              "      --hover-fill-color: #174EA6;\n",
              "      --disabled-fill-color: #AAA;\n",
              "      --disabled-bg-color: #DDD;\n",
              "  }\n",
              "\n",
              "  [theme=dark] .colab-df-quickchart {\n",
              "      --bg-color: #3B4455;\n",
              "      --fill-color: #D2E3FC;\n",
              "      --hover-bg-color: #434B5C;\n",
              "      --hover-fill-color: #FFFFFF;\n",
              "      --disabled-bg-color: #3B4455;\n",
              "      --disabled-fill-color: #666;\n",
              "  }\n",
              "\n",
              "  .colab-df-quickchart {\n",
              "    background-color: var(--bg-color);\n",
              "    border: none;\n",
              "    border-radius: 50%;\n",
              "    cursor: pointer;\n",
              "    display: none;\n",
              "    fill: var(--fill-color);\n",
              "    height: 32px;\n",
              "    padding: 0;\n",
              "    width: 32px;\n",
              "  }\n",
              "\n",
              "  .colab-df-quickchart:hover {\n",
              "    background-color: var(--hover-bg-color);\n",
              "    box-shadow: 0 1px 2px rgba(60, 64, 67, 0.3), 0 1px 3px 1px rgba(60, 64, 67, 0.15);\n",
              "    fill: var(--button-hover-fill-color);\n",
              "  }\n",
              "\n",
              "  .colab-df-quickchart-complete:disabled,\n",
              "  .colab-df-quickchart-complete:disabled:hover {\n",
              "    background-color: var(--disabled-bg-color);\n",
              "    fill: var(--disabled-fill-color);\n",
              "    box-shadow: none;\n",
              "  }\n",
              "\n",
              "  .colab-df-spinner {\n",
              "    border: 2px solid var(--fill-color);\n",
              "    border-color: transparent;\n",
              "    border-bottom-color: var(--fill-color);\n",
              "    animation:\n",
              "      spin 1s steps(1) infinite;\n",
              "  }\n",
              "\n",
              "  @keyframes spin {\n",
              "    0% {\n",
              "      border-color: transparent;\n",
              "      border-bottom-color: var(--fill-color);\n",
              "      border-left-color: var(--fill-color);\n",
              "    }\n",
              "    20% {\n",
              "      border-color: transparent;\n",
              "      border-left-color: var(--fill-color);\n",
              "      border-top-color: var(--fill-color);\n",
              "    }\n",
              "    30% {\n",
              "      border-color: transparent;\n",
              "      border-left-color: var(--fill-color);\n",
              "      border-top-color: var(--fill-color);\n",
              "      border-right-color: var(--fill-color);\n",
              "    }\n",
              "    40% {\n",
              "      border-color: transparent;\n",
              "      border-right-color: var(--fill-color);\n",
              "      border-top-color: var(--fill-color);\n",
              "    }\n",
              "    60% {\n",
              "      border-color: transparent;\n",
              "      border-right-color: var(--fill-color);\n",
              "    }\n",
              "    80% {\n",
              "      border-color: transparent;\n",
              "      border-right-color: var(--fill-color);\n",
              "      border-bottom-color: var(--fill-color);\n",
              "    }\n",
              "    90% {\n",
              "      border-color: transparent;\n",
              "      border-bottom-color: var(--fill-color);\n",
              "    }\n",
              "  }\n",
              "</style>\n",
              "\n",
              "  <script>\n",
              "    async function quickchart(key) {\n",
              "      const quickchartButtonEl =\n",
              "        document.querySelector('#' + key + ' button');\n",
              "      quickchartButtonEl.disabled = true;  // To prevent multiple clicks.\n",
              "      quickchartButtonEl.classList.add('colab-df-spinner');\n",
              "      try {\n",
              "        const charts = await google.colab.kernel.invokeFunction(\n",
              "            'suggestCharts', [key], {});\n",
              "      } catch (error) {\n",
              "        console.error('Error during call to suggestCharts:', error);\n",
              "      }\n",
              "      quickchartButtonEl.classList.remove('colab-df-spinner');\n",
              "      quickchartButtonEl.classList.add('colab-df-quickchart-complete');\n",
              "    }\n",
              "    (() => {\n",
              "      let quickchartButtonEl =\n",
              "        document.querySelector('#df-a2dc3065-4fbc-4d82-8fba-6ec8d79819e7 button');\n",
              "      quickchartButtonEl.style.display =\n",
              "        google.colab.kernel.accessAllowed ? 'block' : 'none';\n",
              "    })();\n",
              "  </script>\n",
              "</div>\n",
              "\n",
              "    </div>\n",
              "  </div>\n"
            ],
            "application/vnd.google.colaboratory.intrinsic+json": {
              "type": "dataframe",
              "variable_name": "train_df",
              "summary": "{\n  \"name\": \"train_df\",\n  \"rows\": 38575,\n  \"fields\": [\n    {\n      \"column\": \"question\",\n      \"properties\": {\n        \"dtype\": \"category\",\n        \"num_unique_values\": 107,\n        \"samples\": [\n          \"is there a black shape in the image?\",\n          \"is there not a yellow shape?\",\n          \"is there a black shape?\"\n        ],\n        \"semantic_type\": \"\",\n        \"description\": \"\"\n      }\n    },\n    {\n      \"column\": \"answer\",\n      \"properties\": {\n        \"dtype\": \"number\",\n        \"std\": 4,\n        \"min\": 0,\n        \"max\": 12,\n        \"num_unique_values\": 13,\n        \"samples\": [\n          5,\n          6,\n          7\n        ],\n        \"semantic_type\": \"\",\n        \"description\": \"\"\n      }\n    },\n    {\n      \"column\": \"image_path\",\n      \"properties\": {\n        \"dtype\": \"category\",\n        \"num_unique_values\": 4000,\n        \"samples\": [\n          \"/usr/local/lib/python3.10/dist-packages/easy_vqa/data/train/images/555.png\",\n          \"/usr/local/lib/python3.10/dist-packages/easy_vqa/data/train/images/3491.png\",\n          \"/usr/local/lib/python3.10/dist-packages/easy_vqa/data/train/images/527.png\"\n        ],\n        \"semantic_type\": \"\",\n        \"description\": \"\"\n      }\n    }\n  ]\n}"
            }
          },
          "metadata": {},
          "execution_count": 12
        }
      ],
      "source": [
        "# Generate a Train dataframe\n",
        "\n",
        "import pandas as pd\n",
        "\n",
        "image_paths = [f\"/usr/local/lib/python3.10/dist-packages/easy_vqa/data/train/images/{image_id}.png\" for image_id in train_image_ids]\n",
        "train_answer_labels = [label2Index[answer] for answer in train_answers]\n",
        "\n",
        "train_df = pd.DataFrame({'question': train_questions, 'answer': train_answer_labels, 'image_path': image_paths})\n",
        "train_df.head()"
      ]
    },
    {
      "cell_type": "code",
      "source": [
        "# Generate a Test dataframe\n",
        "\n",
        "import pandas as pd\n",
        "\n",
        "image_paths = [f\"/usr/local/lib/python3.10/dist-packages/easy_vqa/data/test/images/{image_id}.png\" for image_id in test_image_ids]\n",
        "test_answer_labels = [label2Index[answer] for answer in test_answers]\n",
        "\n",
        "test_df = pd.DataFrame({'question': test_questions, 'answer': test_answer_labels, 'image_path': image_paths})\n",
        "test_df.head()"
      ],
      "metadata": {
        "colab": {
          "base_uri": "https://localhost:8080/",
          "height": 206
        },
        "id": "1bIp-Ve87v_l",
        "outputId": "b170732f-a13a-4d25-9799-488968a64fde"
      },
      "execution_count": 13,
      "outputs": [
        {
          "output_type": "execute_result",
          "data": {
            "text/plain": [
              "                                   question  answer  \\\n",
              "0                    what is the red shape?       9   \n",
              "1        what is the color of the triangle?       2   \n",
              "2           what is the color of the shape?       2   \n",
              "3          does the image contain a circle?      12   \n",
              "4  is there not a black shape in the image?       4   \n",
              "\n",
              "                                          image_path  \n",
              "0  /usr/local/lib/python3.10/dist-packages/easy_v...  \n",
              "1  /usr/local/lib/python3.10/dist-packages/easy_v...  \n",
              "2  /usr/local/lib/python3.10/dist-packages/easy_v...  \n",
              "3  /usr/local/lib/python3.10/dist-packages/easy_v...  \n",
              "4  /usr/local/lib/python3.10/dist-packages/easy_v...  "
            ],
            "text/html": [
              "\n",
              "  <div id=\"df-f2071e11-9fb5-4d5d-a0ec-7b6ddbb40324\" class=\"colab-df-container\">\n",
              "    <div>\n",
              "<style scoped>\n",
              "    .dataframe tbody tr th:only-of-type {\n",
              "        vertical-align: middle;\n",
              "    }\n",
              "\n",
              "    .dataframe tbody tr th {\n",
              "        vertical-align: top;\n",
              "    }\n",
              "\n",
              "    .dataframe thead th {\n",
              "        text-align: right;\n",
              "    }\n",
              "</style>\n",
              "<table border=\"1\" class=\"dataframe\">\n",
              "  <thead>\n",
              "    <tr style=\"text-align: right;\">\n",
              "      <th></th>\n",
              "      <th>question</th>\n",
              "      <th>answer</th>\n",
              "      <th>image_path</th>\n",
              "    </tr>\n",
              "  </thead>\n",
              "  <tbody>\n",
              "    <tr>\n",
              "      <th>0</th>\n",
              "      <td>what is the red shape?</td>\n",
              "      <td>9</td>\n",
              "      <td>/usr/local/lib/python3.10/dist-packages/easy_v...</td>\n",
              "    </tr>\n",
              "    <tr>\n",
              "      <th>1</th>\n",
              "      <td>what is the color of the triangle?</td>\n",
              "      <td>2</td>\n",
              "      <td>/usr/local/lib/python3.10/dist-packages/easy_v...</td>\n",
              "    </tr>\n",
              "    <tr>\n",
              "      <th>2</th>\n",
              "      <td>what is the color of the shape?</td>\n",
              "      <td>2</td>\n",
              "      <td>/usr/local/lib/python3.10/dist-packages/easy_v...</td>\n",
              "    </tr>\n",
              "    <tr>\n",
              "      <th>3</th>\n",
              "      <td>does the image contain a circle?</td>\n",
              "      <td>12</td>\n",
              "      <td>/usr/local/lib/python3.10/dist-packages/easy_v...</td>\n",
              "    </tr>\n",
              "    <tr>\n",
              "      <th>4</th>\n",
              "      <td>is there not a black shape in the image?</td>\n",
              "      <td>4</td>\n",
              "      <td>/usr/local/lib/python3.10/dist-packages/easy_v...</td>\n",
              "    </tr>\n",
              "  </tbody>\n",
              "</table>\n",
              "</div>\n",
              "    <div class=\"colab-df-buttons\">\n",
              "\n",
              "  <div class=\"colab-df-container\">\n",
              "    <button class=\"colab-df-convert\" onclick=\"convertToInteractive('df-f2071e11-9fb5-4d5d-a0ec-7b6ddbb40324')\"\n",
              "            title=\"Convert this dataframe to an interactive table.\"\n",
              "            style=\"display:none;\">\n",
              "\n",
              "  <svg xmlns=\"http://www.w3.org/2000/svg\" height=\"24px\" viewBox=\"0 -960 960 960\">\n",
              "    <path d=\"M120-120v-720h720v720H120Zm60-500h600v-160H180v160Zm220 220h160v-160H400v160Zm0 220h160v-160H400v160ZM180-400h160v-160H180v160Zm440 0h160v-160H620v160ZM180-180h160v-160H180v160Zm440 0h160v-160H620v160Z\"/>\n",
              "  </svg>\n",
              "    </button>\n",
              "\n",
              "  <style>\n",
              "    .colab-df-container {\n",
              "      display:flex;\n",
              "      gap: 12px;\n",
              "    }\n",
              "\n",
              "    .colab-df-convert {\n",
              "      background-color: #E8F0FE;\n",
              "      border: none;\n",
              "      border-radius: 50%;\n",
              "      cursor: pointer;\n",
              "      display: none;\n",
              "      fill: #1967D2;\n",
              "      height: 32px;\n",
              "      padding: 0 0 0 0;\n",
              "      width: 32px;\n",
              "    }\n",
              "\n",
              "    .colab-df-convert:hover {\n",
              "      background-color: #E2EBFA;\n",
              "      box-shadow: 0px 1px 2px rgba(60, 64, 67, 0.3), 0px 1px 3px 1px rgba(60, 64, 67, 0.15);\n",
              "      fill: #174EA6;\n",
              "    }\n",
              "\n",
              "    .colab-df-buttons div {\n",
              "      margin-bottom: 4px;\n",
              "    }\n",
              "\n",
              "    [theme=dark] .colab-df-convert {\n",
              "      background-color: #3B4455;\n",
              "      fill: #D2E3FC;\n",
              "    }\n",
              "\n",
              "    [theme=dark] .colab-df-convert:hover {\n",
              "      background-color: #434B5C;\n",
              "      box-shadow: 0px 1px 3px 1px rgba(0, 0, 0, 0.15);\n",
              "      filter: drop-shadow(0px 1px 2px rgba(0, 0, 0, 0.3));\n",
              "      fill: #FFFFFF;\n",
              "    }\n",
              "  </style>\n",
              "\n",
              "    <script>\n",
              "      const buttonEl =\n",
              "        document.querySelector('#df-f2071e11-9fb5-4d5d-a0ec-7b6ddbb40324 button.colab-df-convert');\n",
              "      buttonEl.style.display =\n",
              "        google.colab.kernel.accessAllowed ? 'block' : 'none';\n",
              "\n",
              "      async function convertToInteractive(key) {\n",
              "        const element = document.querySelector('#df-f2071e11-9fb5-4d5d-a0ec-7b6ddbb40324');\n",
              "        const dataTable =\n",
              "          await google.colab.kernel.invokeFunction('convertToInteractive',\n",
              "                                                    [key], {});\n",
              "        if (!dataTable) return;\n",
              "\n",
              "        const docLinkHtml = 'Like what you see? Visit the ' +\n",
              "          '<a target=\"_blank\" href=https://colab.research.google.com/notebooks/data_table.ipynb>data table notebook</a>'\n",
              "          + ' to learn more about interactive tables.';\n",
              "        element.innerHTML = '';\n",
              "        dataTable['output_type'] = 'display_data';\n",
              "        await google.colab.output.renderOutput(dataTable, element);\n",
              "        const docLink = document.createElement('div');\n",
              "        docLink.innerHTML = docLinkHtml;\n",
              "        element.appendChild(docLink);\n",
              "      }\n",
              "    </script>\n",
              "  </div>\n",
              "\n",
              "\n",
              "<div id=\"df-d7a59836-feec-4d5b-b0a3-19369900a3b9\">\n",
              "  <button class=\"colab-df-quickchart\" onclick=\"quickchart('df-d7a59836-feec-4d5b-b0a3-19369900a3b9')\"\n",
              "            title=\"Suggest charts\"\n",
              "            style=\"display:none;\">\n",
              "\n",
              "<svg xmlns=\"http://www.w3.org/2000/svg\" height=\"24px\"viewBox=\"0 0 24 24\"\n",
              "     width=\"24px\">\n",
              "    <g>\n",
              "        <path d=\"M19 3H5c-1.1 0-2 .9-2 2v14c0 1.1.9 2 2 2h14c1.1 0 2-.9 2-2V5c0-1.1-.9-2-2-2zM9 17H7v-7h2v7zm4 0h-2V7h2v10zm4 0h-2v-4h2v4z\"/>\n",
              "    </g>\n",
              "</svg>\n",
              "  </button>\n",
              "\n",
              "<style>\n",
              "  .colab-df-quickchart {\n",
              "      --bg-color: #E8F0FE;\n",
              "      --fill-color: #1967D2;\n",
              "      --hover-bg-color: #E2EBFA;\n",
              "      --hover-fill-color: #174EA6;\n",
              "      --disabled-fill-color: #AAA;\n",
              "      --disabled-bg-color: #DDD;\n",
              "  }\n",
              "\n",
              "  [theme=dark] .colab-df-quickchart {\n",
              "      --bg-color: #3B4455;\n",
              "      --fill-color: #D2E3FC;\n",
              "      --hover-bg-color: #434B5C;\n",
              "      --hover-fill-color: #FFFFFF;\n",
              "      --disabled-bg-color: #3B4455;\n",
              "      --disabled-fill-color: #666;\n",
              "  }\n",
              "\n",
              "  .colab-df-quickchart {\n",
              "    background-color: var(--bg-color);\n",
              "    border: none;\n",
              "    border-radius: 50%;\n",
              "    cursor: pointer;\n",
              "    display: none;\n",
              "    fill: var(--fill-color);\n",
              "    height: 32px;\n",
              "    padding: 0;\n",
              "    width: 32px;\n",
              "  }\n",
              "\n",
              "  .colab-df-quickchart:hover {\n",
              "    background-color: var(--hover-bg-color);\n",
              "    box-shadow: 0 1px 2px rgba(60, 64, 67, 0.3), 0 1px 3px 1px rgba(60, 64, 67, 0.15);\n",
              "    fill: var(--button-hover-fill-color);\n",
              "  }\n",
              "\n",
              "  .colab-df-quickchart-complete:disabled,\n",
              "  .colab-df-quickchart-complete:disabled:hover {\n",
              "    background-color: var(--disabled-bg-color);\n",
              "    fill: var(--disabled-fill-color);\n",
              "    box-shadow: none;\n",
              "  }\n",
              "\n",
              "  .colab-df-spinner {\n",
              "    border: 2px solid var(--fill-color);\n",
              "    border-color: transparent;\n",
              "    border-bottom-color: var(--fill-color);\n",
              "    animation:\n",
              "      spin 1s steps(1) infinite;\n",
              "  }\n",
              "\n",
              "  @keyframes spin {\n",
              "    0% {\n",
              "      border-color: transparent;\n",
              "      border-bottom-color: var(--fill-color);\n",
              "      border-left-color: var(--fill-color);\n",
              "    }\n",
              "    20% {\n",
              "      border-color: transparent;\n",
              "      border-left-color: var(--fill-color);\n",
              "      border-top-color: var(--fill-color);\n",
              "    }\n",
              "    30% {\n",
              "      border-color: transparent;\n",
              "      border-left-color: var(--fill-color);\n",
              "      border-top-color: var(--fill-color);\n",
              "      border-right-color: var(--fill-color);\n",
              "    }\n",
              "    40% {\n",
              "      border-color: transparent;\n",
              "      border-right-color: var(--fill-color);\n",
              "      border-top-color: var(--fill-color);\n",
              "    }\n",
              "    60% {\n",
              "      border-color: transparent;\n",
              "      border-right-color: var(--fill-color);\n",
              "    }\n",
              "    80% {\n",
              "      border-color: transparent;\n",
              "      border-right-color: var(--fill-color);\n",
              "      border-bottom-color: var(--fill-color);\n",
              "    }\n",
              "    90% {\n",
              "      border-color: transparent;\n",
              "      border-bottom-color: var(--fill-color);\n",
              "    }\n",
              "  }\n",
              "</style>\n",
              "\n",
              "  <script>\n",
              "    async function quickchart(key) {\n",
              "      const quickchartButtonEl =\n",
              "        document.querySelector('#' + key + ' button');\n",
              "      quickchartButtonEl.disabled = true;  // To prevent multiple clicks.\n",
              "      quickchartButtonEl.classList.add('colab-df-spinner');\n",
              "      try {\n",
              "        const charts = await google.colab.kernel.invokeFunction(\n",
              "            'suggestCharts', [key], {});\n",
              "      } catch (error) {\n",
              "        console.error('Error during call to suggestCharts:', error);\n",
              "      }\n",
              "      quickchartButtonEl.classList.remove('colab-df-spinner');\n",
              "      quickchartButtonEl.classList.add('colab-df-quickchart-complete');\n",
              "    }\n",
              "    (() => {\n",
              "      let quickchartButtonEl =\n",
              "        document.querySelector('#df-d7a59836-feec-4d5b-b0a3-19369900a3b9 button');\n",
              "      quickchartButtonEl.style.display =\n",
              "        google.colab.kernel.accessAllowed ? 'block' : 'none';\n",
              "    })();\n",
              "  </script>\n",
              "</div>\n",
              "\n",
              "    </div>\n",
              "  </div>\n"
            ],
            "application/vnd.google.colaboratory.intrinsic+json": {
              "type": "dataframe",
              "variable_name": "test_df",
              "summary": "{\n  \"name\": \"test_df\",\n  \"rows\": 9673,\n  \"fields\": [\n    {\n      \"column\": \"question\",\n      \"properties\": {\n        \"dtype\": \"category\",\n        \"num_unique_values\": 107,\n        \"samples\": [\n          \"is there a teal shape?\",\n          \"is there a brown shape?\",\n          \"is there not a black shape in the image?\"\n        ],\n        \"semantic_type\": \"\",\n        \"description\": \"\"\n      }\n    },\n    {\n      \"column\": \"answer\",\n      \"properties\": {\n        \"dtype\": \"number\",\n        \"std\": 4,\n        \"min\": 0,\n        \"max\": 12,\n        \"num_unique_values\": 13,\n        \"samples\": [\n          5,\n          7,\n          9\n        ],\n        \"semantic_type\": \"\",\n        \"description\": \"\"\n      }\n    },\n    {\n      \"column\": \"image_path\",\n      \"properties\": {\n        \"dtype\": \"category\",\n        \"num_unique_values\": 1000,\n        \"samples\": [\n          \"/usr/local/lib/python3.10/dist-packages/easy_vqa/data/test/images/521.png\",\n          \"/usr/local/lib/python3.10/dist-packages/easy_vqa/data/test/images/737.png\",\n          \"/usr/local/lib/python3.10/dist-packages/easy_vqa/data/test/images/740.png\"\n        ],\n        \"semantic_type\": \"\",\n        \"description\": \"\"\n      }\n    }\n  ]\n}"
            }
          },
          "metadata": {},
          "execution_count": 13
        }
      ]
    },
    {
      "cell_type": "code",
      "execution_count": 14,
      "metadata": {
        "id": "DPMCLsQVuwDG"
      },
      "outputs": [],
      "source": [
        "import os\n",
        "import numpy as np\n",
        "import tensorflow as tf\n",
        "from tensorflow import keras"
      ]
    },
    {
      "cell_type": "code",
      "execution_count": 15,
      "metadata": {
        "colab": {
          "base_uri": "https://localhost:8080/"
        },
        "id": "iXJ3iZeULc-4",
        "outputId": "8138670f-b440-458e-b0c8-4df12ae8945e"
      },
      "outputs": [
        {
          "output_type": "execute_result",
          "data": {
            "text/plain": [
              "(38575, 64, 64, 3)"
            ]
          },
          "metadata": {},
          "execution_count": 15
        }
      ],
      "source": [
        "train_image_dir = \"/usr/local/lib/python3.10/dist-packages/easy_vqa/data/train/images\"\n",
        "\n",
        "image_map = dict()\n",
        "\n",
        "IMAGE_SHAPE = (64, 64)\n",
        "BATCH_SIZE = 32\n",
        "\n",
        "def load_image(image_path):\n",
        "  image = tf.io.read_file(image_path)\n",
        "  image = tf.image.decode_jpeg(image, channels=3)\n",
        "  image = tf.image.resize(image, IMAGE_SHAPE)\n",
        "  image = tf.cast(image, tf.float32) / 255.0\n",
        "  return image\n",
        "\n",
        "train_images = []\n",
        "\n",
        "for image_id in train_image_ids:\n",
        "  if image_id not in image_map:\n",
        "    image_path = os.path.join(train_image_dir, f\"{image_id}.png\")\n",
        "    image = load_image(image_path)\n",
        "    image_map[image_id] = image\n",
        "\n",
        "  # Appending the arrays\n",
        "  train_images.append(image_map[image_id]) # appending image array\n",
        "\n",
        "train_images = np.array(train_images)\n",
        "train_images.shape"
      ]
    },
    {
      "cell_type": "code",
      "execution_count": 16,
      "metadata": {
        "colab": {
          "base_uri": "https://localhost:8080/"
        },
        "id": "Jh76vmGhPijQ",
        "outputId": "844a631e-a382-4c20-8b88-f7cc98a4babb"
      },
      "outputs": [
        {
          "output_type": "execute_result",
          "data": {
            "text/plain": [
              "(9673, 64, 64, 3)"
            ]
          },
          "metadata": {},
          "execution_count": 16
        }
      ],
      "source": [
        "test_image_dir = \"/usr/local/lib/python3.10/dist-packages/easy_vqa/data/test/images\"\n",
        "\n",
        "test_image_map = dict()\n",
        "\n",
        "test_images = []\n",
        "\n",
        "for image_id in test_image_ids:\n",
        "  if image_id not in test_image_map:\n",
        "    image_path = os.path.join(train_image_dir, f\"{image_id}.png\")\n",
        "    image = load_image(image_path)\n",
        "    test_image_map[image_id] = image\n",
        "\n",
        "  # Appending the arrays\n",
        "  test_images.append(test_image_map[image_id]) # appending image array\n",
        "\n",
        "test_images = np.array(test_images)\n",
        "test_images.shape"
      ]
    },
    {
      "cell_type": "code",
      "source": [
        "train_questions = list(train_df['question'].values)\n",
        "\n",
        "train_questions[:10]"
      ],
      "metadata": {
        "colab": {
          "base_uri": "https://localhost:8080/"
        },
        "id": "25zp-kTVlJbK",
        "outputId": "eb10961a-2e74-44c0-80d3-64c7be1ade75"
      },
      "execution_count": 17,
      "outputs": [
        {
          "output_type": "execute_result",
          "data": {
            "text/plain": [
              "['what is the blue shape?',\n",
              " 'what color is the shape?',\n",
              " 'does the image contain a rectangle?',\n",
              " 'is there a triangle in the image?',\n",
              " 'is there a black shape?',\n",
              " 'does the image not contain a gray shape?',\n",
              " 'is there a red shape in the image?',\n",
              " 'does the image not contain a red shape?',\n",
              " 'is there not a blue shape?',\n",
              " 'is there not a blue shape in the image?']"
            ]
          },
          "metadata": {},
          "execution_count": 17
        }
      ]
    },
    {
      "cell_type": "code",
      "source": [
        "train_output_labels = train_df['answer'].values\n",
        "\n",
        "train_output_labels.shape"
      ],
      "metadata": {
        "colab": {
          "base_uri": "https://localhost:8080/"
        },
        "id": "560TZ31Y55MK",
        "outputId": "2491a3cb-7850-4d08-a4ac-645e6f7d0aff"
      },
      "execution_count": 18,
      "outputs": [
        {
          "output_type": "execute_result",
          "data": {
            "text/plain": [
              "(38575,)"
            ]
          },
          "metadata": {},
          "execution_count": 18
        }
      ]
    },
    {
      "cell_type": "code",
      "source": [
        "train_output_labels[:10], list(map(lambda x: index2Label[x], train_output_labels))[:10]"
      ],
      "metadata": {
        "id": "xvmRkDg9IdXM",
        "colab": {
          "base_uri": "https://localhost:8080/"
        },
        "outputId": "67191939-1bc2-410b-a201-1cf737647464"
      },
      "execution_count": 19,
      "outputs": [
        {
          "output_type": "execute_result",
          "data": {
            "text/plain": [
              "(array([ 7, 11,  4, 12, 12,  4, 12,  4, 12, 12]),\n",
              " ['rectangle', 'blue', 'yes', 'no', 'no', 'yes', 'no', 'yes', 'no', 'no'])"
            ]
          },
          "metadata": {},
          "execution_count": 19
        }
      ]
    },
    {
      "cell_type": "code",
      "source": [
        "test_questions = list(test_df['question'].values)\n",
        "\n",
        "test_questions[:10]"
      ],
      "metadata": {
        "colab": {
          "base_uri": "https://localhost:8080/"
        },
        "id": "4r6M_4EOAO4Y",
        "outputId": "6a3b80c2-9de6-4492-bc79-6359016cca2e"
      },
      "execution_count": 20,
      "outputs": [
        {
          "output_type": "execute_result",
          "data": {
            "text/plain": [
              "['what is the red shape?',\n",
              " 'what is the color of the triangle?',\n",
              " 'what is the color of the shape?',\n",
              " 'does the image contain a circle?',\n",
              " 'is there not a black shape in the image?',\n",
              " 'does the image contain a green shape?',\n",
              " 'is a green shape present?',\n",
              " 'is there a blue shape in the image?',\n",
              " 'is no blue shape present?',\n",
              " 'is a yellow shape present?']"
            ]
          },
          "metadata": {},
          "execution_count": 20
        }
      ]
    },
    {
      "cell_type": "code",
      "source": [
        "test_output_labels = test_df['answer'].values\n",
        "\n",
        "test_output_labels.shape"
      ],
      "metadata": {
        "colab": {
          "base_uri": "https://localhost:8080/"
        },
        "id": "QiqNQd5zAXSZ",
        "outputId": "829bc369-0c87-47bd-ed54-99a58dfb644e"
      },
      "execution_count": 21,
      "outputs": [
        {
          "output_type": "execute_result",
          "data": {
            "text/plain": [
              "(9673,)"
            ]
          },
          "metadata": {},
          "execution_count": 21
        }
      ]
    },
    {
      "cell_type": "markdown",
      "source": [
        "# CNN + Bert Model"
      ],
      "metadata": {
        "id": "L7YTklLKXYNe"
      }
    },
    {
      "cell_type": "code",
      "source": [
        "import tensorflow as tf\n",
        "from tensorflow.keras.layers import Input, Dense, Conv2D, MaxPooling2D, Flatten, Embedding, LSTM, concatenate\n",
        "from tensorflow.keras.models import Model\n",
        "from tensorflow.keras.preprocessing.text import Tokenizer\n",
        "from tensorflow.keras.preprocessing.sequence import pad_sequences\n",
        "import numpy as np\n",
        "from transformers import TFBertModel, BertTokenizer"
      ],
      "metadata": {
        "id": "FwMRhIjFVzvT"
      },
      "execution_count": 25,
      "outputs": []
    },
    {
      "cell_type": "code",
      "source": [
        "IMG_SHAPE = (64, 64, 3)\n",
        "MAX_QUESTION_LENGTH = 30"
      ],
      "metadata": {
        "id": "c7Jm2O9Dx1_s"
      },
      "execution_count": 23,
      "outputs": []
    },
    {
      "cell_type": "code",
      "source": [
        "tokenizer = BertTokenizer.from_pretrained('bert-base-uncased')\n",
        "\n",
        "encoded_input = tokenizer(train_questions, return_tensors='tf', padding=\"max_length\", truncation=True, max_length=MAX_QUESTION_LENGTH)\n",
        "\n",
        "encoded_input.input_ids.shape, encoded_input.attention_mask.shape"
      ],
      "metadata": {
        "colab": {
          "base_uri": "https://localhost:8080/",
          "height": 326,
          "referenced_widgets": [
            "da6256d1c41f46e196ff3d4e0f45f6a8",
            "65e7b64882e64dddb3b2cc85b6ab16ec",
            "dcb8037c0e0348d5a0c2779c1a88f6d8",
            "e8bd98099d964d53b7733e29b7783226",
            "dbfe91b0ca6a49458d5c34e6c485f3c7",
            "549ae68c0fdb4ea9ad0588cba0ee8459",
            "8b3d7ea05c034ad8b573ffc463ef0438",
            "3ccbe561ceb14f888a0c9e2c233c2ed3",
            "3662f9c3d70744ca8256706c03dabe93",
            "2f85258df89e4853a28d415f8d87471e",
            "97b953c506e742219e71ccbb34ba80df",
            "f468cd3d075b47d484fdcbf955b485eb",
            "be8eaa0607ce45cb92e5b4e93131eeab",
            "0904e413982c4216b58178090dd22f52",
            "6b76514b41034113bcf33e0169ba8d90",
            "4e8f40e1a2e241efb7f655f223602c49",
            "82d48e616bdb4238913ca6cdbc37d039",
            "1efbe12dafbc49b2b605242040e6b0cb",
            "67c2068b04954b8abeb767a2851c2890",
            "3ceab18a599e4162a040a37f234450d7",
            "7fb29afc103e445897edb724be2fafcb",
            "aa160237174e43769a2f2c3ef522ae14",
            "8277b54cb6b24478833358d10502db17",
            "ff8a8872faa7496d8615019137cb3a5c",
            "1f006887f26545e287f138a79241d193",
            "4ba39a6dcafe441086965206f4960d39",
            "629e942e8f5b48568b7454445cb54604",
            "c0a18c9e5dc0495aa531d2a8b89bf68b",
            "f5ad037727524424b281607f4be88d8d",
            "e95b653fbddc4764a5e302920a768d21",
            "2a815bd3d88a44d2931babfb0b30a789",
            "a2118dd710b24ccab6227674be238aba",
            "1023092e12af4d87aed936fd0fae4442",
            "00573b3ef8fc4d34b19b565dc21caa24",
            "bde9f830ff87418085dc000c7c25e063",
            "97eb638bcb764626b85671571efec718",
            "88980d47df584af8bf0a28e1775b0e3f",
            "cd6071a48f864e749f2500db89ca3076",
            "5e7abfb8dc9b417cb7118c6539b86cea",
            "41cbe1e8f1884b0bb7387132524bd421",
            "75f4b5883b8a4b3ea1c9d5ce2c911940",
            "82cd670b4c4049a3bb8fdb11613210af",
            "8bcd6a46231b471993e74e8109ac2555",
            "0433d68636cc4049856fb93e8d4dddfa"
          ]
        },
        "id": "ild-VNk4x7QZ",
        "outputId": "c9523327-70d6-4e4e-8127-d9ed3be35c7d"
      },
      "execution_count": 26,
      "outputs": [
        {
          "output_type": "stream",
          "name": "stderr",
          "text": [
            "/usr/local/lib/python3.10/dist-packages/huggingface_hub/utils/_token.py:89: UserWarning: \n",
            "The secret `HF_TOKEN` does not exist in your Colab secrets.\n",
            "To authenticate with the Hugging Face Hub, create a token in your settings tab (https://huggingface.co/settings/tokens), set it as secret in your Google Colab and restart your session.\n",
            "You will be able to reuse this secret in all of your notebooks.\n",
            "Please note that authentication is recommended but still optional to access public models or datasets.\n",
            "  warnings.warn(\n"
          ]
        },
        {
          "output_type": "display_data",
          "data": {
            "text/plain": [
              "tokenizer_config.json:   0%|          | 0.00/48.0 [00:00<?, ?B/s]"
            ],
            "application/vnd.jupyter.widget-view+json": {
              "version_major": 2,
              "version_minor": 0,
              "model_id": "da6256d1c41f46e196ff3d4e0f45f6a8"
            }
          },
          "metadata": {}
        },
        {
          "output_type": "display_data",
          "data": {
            "text/plain": [
              "vocab.txt:   0%|          | 0.00/232k [00:00<?, ?B/s]"
            ],
            "application/vnd.jupyter.widget-view+json": {
              "version_major": 2,
              "version_minor": 0,
              "model_id": "f468cd3d075b47d484fdcbf955b485eb"
            }
          },
          "metadata": {}
        },
        {
          "output_type": "display_data",
          "data": {
            "text/plain": [
              "tokenizer.json:   0%|          | 0.00/466k [00:00<?, ?B/s]"
            ],
            "application/vnd.jupyter.widget-view+json": {
              "version_major": 2,
              "version_minor": 0,
              "model_id": "8277b54cb6b24478833358d10502db17"
            }
          },
          "metadata": {}
        },
        {
          "output_type": "stream",
          "name": "stderr",
          "text": [
            "/usr/local/lib/python3.10/dist-packages/huggingface_hub/file_download.py:1132: FutureWarning: `resume_download` is deprecated and will be removed in version 1.0.0. Downloads always resume when possible. If you want to force a new download, use `force_download=True`.\n",
            "  warnings.warn(\n"
          ]
        },
        {
          "output_type": "display_data",
          "data": {
            "text/plain": [
              "config.json:   0%|          | 0.00/570 [00:00<?, ?B/s]"
            ],
            "application/vnd.jupyter.widget-view+json": {
              "version_major": 2,
              "version_minor": 0,
              "model_id": "00573b3ef8fc4d34b19b565dc21caa24"
            }
          },
          "metadata": {}
        },
        {
          "output_type": "execute_result",
          "data": {
            "text/plain": [
              "(TensorShape([38575, 30]), TensorShape([38575, 30]))"
            ]
          },
          "metadata": {},
          "execution_count": 26
        }
      ]
    },
    {
      "cell_type": "code",
      "source": [
        "input_ids = encoded_input['input_ids']\n",
        "attention_mask = encoded_input['attention_mask']"
      ],
      "metadata": {
        "id": "W6dwmnLIx_iW"
      },
      "execution_count": 27,
      "outputs": []
    },
    {
      "cell_type": "code",
      "source": [
        "import tensorflow as tf\n",
        "from transformers import BertTokenizer, TFBertModel\n",
        "from tensorflow import keras\n",
        "from tensorflow.keras.layers import Dense, Add, Softmax, GlobalAveragePooling1D, Concatenate, Dropout, Input, Flatten\n",
        "\n",
        "\n",
        "\n",
        "class VQAModel(tf.keras.Model):\n",
        "    def __init__(self, label_size, img_shape, **kwargs):\n",
        "        super(VQAModel, self).__init__(**kwargs)\n",
        "        self.img_shape = img_shape\n",
        "        self.feature_dim = 64\n",
        "        self.vocab_size = 30522  # BERT's vocabulary size\n",
        "        self.label_size = label_size\n",
        "\n",
        "        # Image processing layers\n",
        "\n",
        "        self.image_conv1 = Conv2D(32, (3, 3), activation='relu')\n",
        "        self.image_conv2 = Conv2D(64, (3, 3), activation='relu')\n",
        "        self.image_pool = MaxPooling2D(pool_size=(2, 2), strides=None, padding='valid')\n",
        "        self.image_dense = Dense(64, activation='relu')\n",
        "\n",
        "\n",
        "        # Text processing layers\n",
        "        self.bert_model = TFBertModel.from_pretrained('bert-base-uncased')\n",
        "        self.global_avg_pooling1d = GlobalAveragePooling1D()\n",
        "        self.dense_text1 = Dense(128, activation='relu')\n",
        "        self.dense_text2 = Dense(self.feature_dim, activation='relu')\n",
        "\n",
        "        # Combine Image and Question Feature and Final Layers\n",
        "        self.dropout1 = Dropout(0.3)\n",
        "        self.dense1 = Dense(64, activation='relu')\n",
        "        self.dropout2 = Dropout(0.3)\n",
        "        self.dense2 = Dense(label_size, activation='softmax')\n",
        "\n",
        "    def call(self, inputs):\n",
        "        image, question, attention_masks = inputs\n",
        "\n",
        "        x = self.image_conv1(image)\n",
        "        x = self.image_conv2(x)\n",
        "        x = self.image_pool(x)\n",
        "        x = Flatten()(x)\n",
        "        x = self.image_dense(x)\n",
        "\n",
        "        # Tokenize question texts\n",
        "        question_features = self.bert_model(question, attention_mask=attention_masks)[0]\n",
        "        y = self.global_avg_pooling1d(question_features)\n",
        "        y = self.dense_text1(y)\n",
        "        y = self.dense_text2(y)\n",
        "\n",
        "        # Combine image and question features\n",
        "        combined = Concatenate()([x, y])\n",
        "        combined = self.dropout1(combined)\n",
        "        combined = self.dense1(combined)\n",
        "        combined = self.dropout2(combined)\n",
        "\n",
        "        outputs = self.dense2(combined)\n",
        "        return outputs"
      ],
      "metadata": {
        "id": "VVxXH6sL1jA-"
      },
      "execution_count": 47,
      "outputs": []
    },
    {
      "cell_type": "code",
      "source": [
        "NUM_CLASSES = 13\n",
        "IMG_SHAPE = (64, 64, 3)\n",
        "\n",
        "model = VQAModel(label_size=NUM_CLASSES, img_shape=IMG_SHAPE)"
      ],
      "metadata": {
        "id": "R1uWf2ZtVyyk",
        "colab": {
          "base_uri": "https://localhost:8080/"
        },
        "outputId": "afb63674-0313-48c3-b413-80d689fa7bc2"
      },
      "execution_count": 48,
      "outputs": [
        {
          "output_type": "stream",
          "name": "stderr",
          "text": [
            "Some weights of the PyTorch model were not used when initializing the TF 2.0 model TFBertModel: ['cls.predictions.transform.dense.weight', 'cls.seq_relationship.bias', 'cls.predictions.bias', 'cls.predictions.transform.LayerNorm.bias', 'cls.seq_relationship.weight', 'cls.predictions.transform.LayerNorm.weight', 'cls.predictions.transform.dense.bias']\n",
            "- This IS expected if you are initializing TFBertModel from a PyTorch model trained on another task or with another architecture (e.g. initializing a TFBertForSequenceClassification model from a BertForPreTraining model).\n",
            "- This IS NOT expected if you are initializing TFBertModel from a PyTorch model that you expect to be exactly identical (e.g. initializing a TFBertForSequenceClassification model from a BertForSequenceClassification model).\n",
            "All the weights of TFBertModel were initialized from the PyTorch model.\n",
            "If your task is similar to the task the model of the checkpoint was trained on, you can already use TFBertModel for predictions without further training.\n"
          ]
        }
      ]
    },
    {
      "cell_type": "code",
      "source": [
        "model.compile(optimizer='adam', loss='sparse_categorical_crossentropy', metrics=['accuracy'])"
      ],
      "metadata": {
        "id": "Oqgb5xov7rDQ"
      },
      "execution_count": 49,
      "outputs": []
    },
    {
      "cell_type": "code",
      "source": [
        "# Experiment data\n",
        "num_samples = 29000\n",
        "rest = len(train_images) - num_samples\n",
        "print(rest)\n",
        "\n",
        "# Image data\n",
        "image_data = train_images[:num_samples]\n",
        "validation_image_data = train_images[num_samples: num_samples+rest]\n",
        "\n",
        "# Text data\n",
        "encoded_questions_input_ids = encoded_input['input_ids'][:num_samples]\n",
        "encoded_questions_attention_masks = encoded_input['attention_mask'][:num_samples]\n",
        "\n",
        "# Validation data\n",
        "val_encoded_questions_input_ids = encoded_input['input_ids'][num_samples: num_samples+rest]\n",
        "val_encoded_questions_attention_masks = encoded_input['attention_mask'][num_samples: num_samples+rest]"
      ],
      "metadata": {
        "colab": {
          "base_uri": "https://localhost:8080/"
        },
        "id": "SjtNy2No7yM0",
        "outputId": "ad5fb28d-0fda-409f-99c5-d1c1d4776990"
      },
      "execution_count": 50,
      "outputs": [
        {
          "output_type": "stream",
          "name": "stdout",
          "text": [
            "9575\n"
          ]
        }
      ]
    },
    {
      "cell_type": "code",
      "source": [
        "# Experiment Labels\n",
        "\n",
        "output_labels = train_output_labels[:num_samples]\n",
        "validation_output_labels = train_output_labels[num_samples: num_samples+rest]"
      ],
      "metadata": {
        "id": "yoD1A9y3A4kf"
      },
      "execution_count": 51,
      "outputs": []
    },
    {
      "cell_type": "code",
      "source": [
        "callback = keras.callbacks.EarlyStopping(monitor='loss', patience=3)\n"
      ],
      "metadata": {
        "id": "pwyDtSZA78f4"
      },
      "execution_count": 52,
      "outputs": []
    },
    {
      "cell_type": "code",
      "source": [
        "# Train the Model\n",
        "\n",
        "history = model.fit([image_data, encoded_questions_input_ids, encoded_questions_attention_masks], output_labels,\n",
        "                    validation_data=([validation_image_data, val_encoded_questions_input_ids, val_encoded_questions_attention_masks], validation_output_labels),\n",
        "                    epochs=5,\n",
        "                    batch_size=32,\n",
        "                    callbacks=[callback])"
      ],
      "metadata": {
        "colab": {
          "base_uri": "https://localhost:8080/"
        },
        "id": "b8ejhnEJ8A34",
        "outputId": "82e435de-2cd7-47a0-b58e-8cc86c660382"
      },
      "execution_count": 54,
      "outputs": [
        {
          "output_type": "stream",
          "name": "stdout",
          "text": [
            "Epoch 1/5\n"
          ]
        },
        {
          "output_type": "stream",
          "name": "stderr",
          "text": [
            "WARNING:tensorflow:Gradients do not exist for variables ['tf_bert_model_4/bert/pooler/dense/kernel:0', 'tf_bert_model_4/bert/pooler/dense/bias:0'] when minimizing the loss. If you're using `model.compile()`, did you forget to provide a `loss` argument?\n",
            "WARNING:tensorflow:Gradients do not exist for variables ['tf_bert_model_4/bert/pooler/dense/kernel:0', 'tf_bert_model_4/bert/pooler/dense/bias:0'] when minimizing the loss. If you're using `model.compile()`, did you forget to provide a `loss` argument?\n",
            "WARNING:tensorflow:Gradients do not exist for variables ['tf_bert_model_4/bert/pooler/dense/kernel:0', 'tf_bert_model_4/bert/pooler/dense/bias:0'] when minimizing the loss. If you're using `model.compile()`, did you forget to provide a `loss` argument?\n",
            "WARNING:tensorflow:Gradients do not exist for variables ['tf_bert_model_4/bert/pooler/dense/kernel:0', 'tf_bert_model_4/bert/pooler/dense/bias:0'] when minimizing the loss. If you're using `model.compile()`, did you forget to provide a `loss` argument?\n"
          ]
        },
        {
          "output_type": "stream",
          "name": "stdout",
          "text": [
            "907/907 [==============================] - 318s 259ms/step - loss: 1.7418 - accuracy: 0.3659 - val_loss: 1.6167 - val_accuracy: 0.3742\n",
            "Epoch 2/5\n",
            "907/907 [==============================] - 243s 268ms/step - loss: 1.6013 - accuracy: 0.3683 - val_loss: 1.5360 - val_accuracy: 0.3696\n",
            "Epoch 3/5\n",
            "907/907 [==============================] - 243s 268ms/step - loss: 1.5429 - accuracy: 0.3667 - val_loss: 1.4935 - val_accuracy: 0.3746\n",
            "Epoch 4/5\n",
            "907/907 [==============================] - 243s 268ms/step - loss: 1.4910 - accuracy: 0.3660 - val_loss: 1.4616 - val_accuracy: 0.3699\n",
            "Epoch 5/5\n",
            "907/907 [==============================] - 223s 246ms/step - loss: 1.4628 - accuracy: 0.3663 - val_loss: 1.4553 - val_accuracy: 0.3707\n"
          ]
        }
      ]
    },
    {
      "cell_type": "markdown",
      "source": [
        "# Inference\n"
      ],
      "metadata": {
        "id": "i_1P6sr1788z"
      }
    },
    {
      "cell_type": "code",
      "source": [
        "test_encoded_questions = tokenizer(test_questions, return_tensors='tf', padding=\"max_length\", truncation=True, max_length=MAX_QUESTION_LENGTH)\n",
        "\n",
        "test_encoded_questions.input_ids.shape, test_encoded_questions.attention_mask.shape"
      ],
      "metadata": {
        "colab": {
          "base_uri": "https://localhost:8080/"
        },
        "id": "W0d2a2st8Jtd",
        "outputId": "05d46644-9d34-4a02-b6cb-6381a680adb0"
      },
      "execution_count": 55,
      "outputs": [
        {
          "output_type": "execute_result",
          "data": {
            "text/plain": [
              "(TensorShape([9673, 30]), TensorShape([9673, 30]))"
            ]
          },
          "metadata": {},
          "execution_count": 55
        }
      ]
    },
    {
      "cell_type": "code",
      "source": [
        "result = model.predict([test_images, test_encoded_questions.input_ids, test_encoded_questions.attention_mask])"
      ],
      "metadata": {
        "colab": {
          "base_uri": "https://localhost:8080/"
        },
        "id": "Ndbhv4E_8vYt",
        "outputId": "a5714e90-14a6-4257-b522-8c794abf0ce1"
      },
      "execution_count": 56,
      "outputs": [
        {
          "output_type": "stream",
          "name": "stdout",
          "text": [
            "303/303 [==============================] - 32s 74ms/step\n"
          ]
        }
      ]
    },
    {
      "cell_type": "code",
      "source": [
        "# Apply argmax to get the predicted class\n",
        "predictions = np.argmax(result, axis=-1)\n",
        "\n",
        "print(f\"For {predictions.shape} test examples, Predicted Class: {predictions}\")\n"
      ],
      "metadata": {
        "colab": {
          "base_uri": "https://localhost:8080/"
        },
        "id": "zikSoNvCDev-",
        "outputId": "8eba1f0d-eaa5-4aeb-b1c0-1d3badb0bfd2"
      },
      "execution_count": 57,
      "outputs": [
        {
          "output_type": "stream",
          "name": "stdout",
          "text": [
            "For (9673,) test examples, Predicted Class: [4 4 4 ... 4 4 4]\n"
          ]
        }
      ]
    },
    {
      "cell_type": "code",
      "source": [
        "(predictions.shape)\n"
      ],
      "metadata": {
        "colab": {
          "base_uri": "https://localhost:8080/"
        },
        "id": "yilCKtNXuw8f",
        "outputId": "1d1d3889-6511-4c7b-9f02-c80c463f25ec"
      },
      "execution_count": 58,
      "outputs": [
        {
          "output_type": "execute_result",
          "data": {
            "text/plain": [
              "(9673,)"
            ]
          },
          "metadata": {},
          "execution_count": 58
        }
      ]
    },
    {
      "cell_type": "code",
      "source": [
        "# Example true labels\n",
        "true_labels = np.array(test_answer_labels) # Assuming one-hot encoded labels for 3 classes\n",
        "\n",
        "# Calculate loss\n",
        "loss_fn = tf.keras.losses.SparseCategoricalCrossentropy()\n",
        "loss = loss_fn(true_labels, result).numpy()\n",
        "print(\"Loss:\", loss)\n",
        "\n",
        "# Calculate accuracy\n",
        "accuracy_fn = tf.keras.metrics.SparseCategoricalAccuracy()\n",
        "accuracy_fn.update_state(true_labels, result)\n",
        "accuracy = accuracy_fn.result().numpy()\n",
        "print(\"Accuracy:\", accuracy)"
      ],
      "metadata": {
        "colab": {
          "base_uri": "https://localhost:8080/"
        },
        "id": "4NaRIy267Vj7",
        "outputId": "80cd3edb-65d2-4f18-e3fe-8130e1f30a30"
      },
      "execution_count": 59,
      "outputs": [
        {
          "output_type": "stream",
          "name": "stdout",
          "text": [
            "Loss: 2.307786\n",
            "Accuracy: 0.3736173\n"
          ]
        }
      ]
    },
    {
      "cell_type": "code",
      "source": [
        "# Plot accuracy and loss\n",
        "\n",
        "import matplotlib.pyplot as plt\n",
        "\n",
        "plt.figure(figsize=(12, 4))\n",
        "\n",
        "# Plot accuracy\n",
        "plt.subplot(1, 2, 1)\n",
        "plt.plot(history.history['accuracy'], label='accuracy')\n",
        "plt.plot(history.history['val_accuracy'], label='val_accuracy')\n",
        "plt.xlabel('Epoch')\n",
        "plt.ylabel('Accuracy')\n",
        "plt.title('Model Accuracy')\n",
        "plt.legend()\n",
        "\n",
        "# Plot loss\n",
        "plt.subplot(1, 2, 2)\n",
        "plt.plot(history.history['loss'], label='loss')\n",
        "plt.plot(history.history['val_loss'], label='val_loss')\n",
        "plt.xlabel('Epoch')\n",
        "plt.ylabel('Loss')\n",
        "plt.title('Model Loss')\n",
        "plt.legend()\n",
        "\n",
        "plt.show()"
      ],
      "metadata": {
        "colab": {
          "base_uri": "https://localhost:8080/",
          "height": 325
        },
        "id": "iPmcfuUvTrUy",
        "outputId": "c81b6566-f5a2-4ec5-e140-9b0fca974662"
      },
      "execution_count": 60,
      "outputs": [
        {
          "output_type": "display_data",
          "data": {
            "text/plain": [
              "<Figure size 1200x400 with 2 Axes>"
            ],
            "image/png": "[encoded data removed]"
          },
          "metadata": {}
        }
      ]
    }
  ],
  "metadata": {
    "accelerator": "GPU",
    "colab": {
      "gpuType": "T4",
      "provenance": []
    },
    "kernelspec": {
      "display_name": "Python 3",
      "name": "python3"
    },
    "language_info": {
      "name": "python"
    },
    "widgets": {
      "application/vnd.jupyter.widget-state+json": {
        "da6256d1c41f46e196ff3d4e0f45f6a8": {
          "model_module": "@jupyter-widgets/controls",
          "model_name": "HBoxModel",
          "model_module_version": "1.5.0",
          "state": {
            "_dom_classes": [],
            "_model_module": "@jupyter-widgets/controls",
            "_model_module_version": "1.5.0",
            "_model_name": "HBoxModel",
            "_view_count": null,
            "_view_module": "@jupyter-widgets/controls",
            "_view_module_version": "1.5.0",
            "_view_name": "HBoxView",
            "box_style": "",
            "children": [
              "IPY_MODEL_65e7b64882e64dddb3b2cc85b6ab16ec",
              "IPY_MODEL_dcb8037c0e0348d5a0c2779c1a88f6d8",
              "IPY_MODEL_e8bd98099d964d53b7733e29b7783226"
            ],
            "layout": "IPY_MODEL_dbfe91b0ca6a49458d5c34e6c485f3c7"
          }
        },
        "65e7b64882e64dddb3b2cc85b6ab16ec": {
          "model_module": "@jupyter-widgets/controls",
          "model_name": "HTMLModel",
          "model_module_version": "1.5.0",
          "state": {
            "_dom_classes": [],
            "_model_module": "@jupyter-widgets/controls",
            "_model_module_version": "1.5.0",
            "_model_name": "HTMLModel",
            "_view_count": null,
            "_view_module": "@jupyter-widgets/controls",
            "_view_module_version": "1.5.0",
            "_view_name": "HTMLView",
            "description": "",
            "description_tooltip": null,
            "layout": "IPY_MODEL_549ae68c0fdb4ea9ad0588cba0ee8459",
            "placeholder": "​",
            "style": "IPY_MODEL_8b3d7ea05c034ad8b573ffc463ef0438",
            "value": "tokenizer_config.json: 100%"
          }
        },
        "dcb8037c0e0348d5a0c2779c1a88f6d8": {
          "model_module": "@jupyter-widgets/controls",
          "model_name": "FloatProgressModel",
          "model_module_version": "1.5.0",
          "state": {
            "_dom_classes": [],
            "_model_module": "@jupyter-widgets/controls",
            "_model_module_version": "1.5.0",
            "_model_name": "FloatProgressModel",
            "_view_count": null,
            "_view_module": "@jupyter-widgets/controls",
            "_view_module_version": "1.5.0",
            "_view_name": "ProgressView",
            "bar_style": "success",
            "description": "",
            "description_tooltip": null,
            "layout": "IPY_MODEL_3ccbe561ceb14f888a0c9e2c233c2ed3",
            "max": 48,
            "min": 0,
            "orientation": "horizontal",
            "style": "IPY_MODEL_3662f9c3d70744ca8256706c03dabe93",
            "value": 48
          }
        },
        "e8bd98099d964d53b7733e29b7783226": {
          "model_module": "@jupyter-widgets/controls",
          "model_name": "HTMLModel",
          "model_module_version": "1.5.0",
          "state": {
            "_dom_classes": [],
            "_model_module": "@jupyter-widgets/controls",
            "_model_module_version": "1.5.0",
            "_model_name": "HTMLModel",
            "_view_count": null,
            "_view_module": "@jupyter-widgets/controls",
            "_view_module_version": "1.5.0",
            "_view_name": "HTMLView",
            "description": "",
            "description_tooltip": null,
            "layout": "IPY_MODEL_2f85258df89e4853a28d415f8d87471e",
            "placeholder": "​",
            "style": "IPY_MODEL_97b953c506e742219e71ccbb34ba80df",
            "value": " 48.0/48.0 [00:00&lt;00:00, 2.77kB/s]"
          }
        },
        "dbfe91b0ca6a49458d5c34e6c485f3c7": {
          "model_module": "@jupyter-widgets/base",
          "model_name": "LayoutModel",
          "model_module_version": "1.2.0",
          "state": {
            "_model_module": "@jupyter-widgets/base",
            "_model_module_version": "1.2.0",
            "_model_name": "LayoutModel",
            "_view_count": null,
            "_view_module": "@jupyter-widgets/base",
            "_view_module_version": "1.2.0",
            "_view_name": "LayoutView",
            "align_content": null,
            "align_items": null,
            "align_self": null,
            "border": null,
            "bottom": null,
            "display": null,
            "flex": null,
            "flex_flow": null,
            "grid_area": null,
            "grid_auto_columns": null,
            "grid_auto_flow": null,
            "grid_auto_rows": null,
            "grid_column": null,
            "grid_gap": null,
            "grid_row": null,
            "grid_template_areas": null,
            "grid_template_columns": null,
            "grid_template_rows": null,
            "height": null,
            "justify_content": null,
            "justify_items": null,
            "left": null,
            "margin": null,
            "max_height": null,
            "max_width": null,
            "min_height": null,
            "min_width": null,
            "object_fit": null,
            "object_position": null,
            "order": null,
            "overflow": null,
            "overflow_x": null,
            "overflow_y": null,
            "padding": null,
            "right": null,
            "top": null,
            "visibility": null,
            "width": null
          }
        },
        "549ae68c0fdb4ea9ad0588cba0ee8459": {
          "model_module": "@jupyter-widgets/base",
          "model_name": "LayoutModel",
          "model_module_version": "1.2.0",
          "state": {
            "_model_module": "@jupyter-widgets/base",
            "_model_module_version": "1.2.0",
            "_model_name": "LayoutModel",
            "_view_count": null,
            "_view_module": "@jupyter-widgets/base",
            "_view_module_version": "1.2.0",
            "_view_name": "LayoutView",
            "align_content": null,
            "align_items": null,
            "align_self": null,
            "border": null,
            "bottom": null,
            "display": null,
            "flex": null,
            "flex_flow": null,
            "grid_area": null,
            "grid_auto_columns": null,
            "grid_auto_flow": null,
            "grid_auto_rows": null,
            "grid_column": null,
            "grid_gap": null,
            "grid_row": null,
            "grid_template_areas": null,
            "grid_template_columns": null,
            "grid_template_rows": null,
            "height": null,
            "justify_content": null,
            "justify_items": null,
            "left": null,
            "margin": null,
            "max_height": null,
            "max_width": null,
            "min_height": null,
            "min_width": null,
            "object_fit": null,
            "object_position": null,
            "order": null,
            "overflow": null,
            "overflow_x": null,
            "overflow_y": null,
            "padding": null,
            "right": null,
            "top": null,
            "visibility": null,
            "width": null
          }
        },
        "8b3d7ea05c034ad8b573ffc463ef0438": {
          "model_module": "@jupyter-widgets/controls",
          "model_name": "DescriptionStyleModel",
          "model_module_version": "1.5.0",
          "state": {
            "_model_module": "@jupyter-widgets/controls",
            "_model_module_version": "1.5.0",
            "_model_name": "DescriptionStyleModel",
            "_view_count": null,
            "_view_module": "@jupyter-widgets/base",
            "_view_module_version": "1.2.0",
            "_view_name": "StyleView",
            "description_width": ""
          }
        },
        "3ccbe561ceb14f888a0c9e2c233c2ed3": {
          "model_module": "@jupyter-widgets/base",
          "model_name": "LayoutModel",
          "model_module_version": "1.2.0",
          "state": {
            "_model_module": "@jupyter-widgets/base",
            "_model_module_version": "1.2.0",
            "_model_name": "LayoutModel",
            "_view_count": null,
            "_view_module": "@jupyter-widgets/base",
            "_view_module_version": "1.2.0",
            "_view_name": "LayoutView",
            "align_content": null,
            "align_items": null,
            "align_self": null,
            "border": null,
            "bottom": null,
            "display": null,
            "flex": null,
            "flex_flow": null,
            "grid_area": null,
            "grid_auto_columns": null,
            "grid_auto_flow": null,
            "grid_auto_rows": null,
            "grid_column": null,
            "grid_gap": null,
            "grid_row": null,
            "grid_template_areas": null,
            "grid_template_columns": null,
            "grid_template_rows": null,
            "height": null,
            "justify_content": null,
            "justify_items": null,
            "left": null,
            "margin": null,
            "max_height": null,
            "max_width": null,
            "min_height": null,
            "min_width": null,
            "object_fit": null,
            "object_position": null,
            "order": null,
            "overflow": null,
            "overflow_x": null,
            "overflow_y": null,
            "padding": null,
            "right": null,
            "top": null,
            "visibility": null,
            "width": null
          }
        },
        "3662f9c3d70744ca8256706c03dabe93": {
          "model_module": "@jupyter-widgets/controls",
          "model_name": "ProgressStyleModel",
          "model_module_version": "1.5.0",
          "state": {
            "_model_module": "@jupyter-widgets/controls",
            "_model_module_version": "1.5.0",
            "_model_name": "ProgressStyleModel",
            "_view_count": null,
            "_view_module": "@jupyter-widgets/base",
            "_view_module_version": "1.2.0",
            "_view_name": "StyleView",
            "bar_color": null,
            "description_width": ""
          }
        },
        "2f85258df89e4853a28d415f8d87471e": {
          "model_module": "@jupyter-widgets/base",
          "model_name": "LayoutModel",
          "model_module_version": "1.2.0",
          "state": {
            "_model_module": "@jupyter-widgets/base",
            "_model_module_version": "1.2.0",
            "_model_name": "LayoutModel",
            "_view_count": null,
            "_view_module": "@jupyter-widgets/base",
            "_view_module_version": "1.2.0",
            "_view_name": "LayoutView",
            "align_content": null,
            "align_items": null,
            "align_self": null,
            "border": null,
            "bottom": null,
            "display": null,
            "flex": null,
            "flex_flow": null,
            "grid_area": null,
            "grid_auto_columns": null,
            "grid_auto_flow": null,
            "grid_auto_rows": null,
            "grid_column": null,
            "grid_gap": null,
            "grid_row": null,
            "grid_template_areas": null,
            "grid_template_columns": null,
            "grid_template_rows": null,
            "height": null,
            "justify_content": null,
            "justify_items": null,
            "left": null,
            "margin": null,
            "max_height": null,
            "max_width": null,
            "min_height": null,
            "min_width": null,
            "object_fit": null,
            "object_position": null,
            "order": null,
            "overflow": null,
            "overflow_x": null,
            "overflow_y": null,
            "padding": null,
            "right": null,
            "top": null,
            "visibility": null,
            "width": null
          }
        },
        "97b953c506e742219e71ccbb34ba80df": {
          "model_module": "@jupyter-widgets/controls",
          "model_name": "DescriptionStyleModel",
          "model_module_version": "1.5.0",
          "state": {
            "_model_module": "@jupyter-widgets/controls",
            "_model_module_version": "1.5.0",
            "_model_name": "DescriptionStyleModel",
            "_view_count": null,
            "_view_module": "@jupyter-widgets/base",
            "_view_module_version": "1.2.0",
            "_view_name": "StyleView",
            "description_width": ""
          }
        },
        "f468cd3d075b47d484fdcbf955b485eb": {
          "model_module": "@jupyter-widgets/controls",
          "model_name": "HBoxModel",
          "model_module_version": "1.5.0",
          "state": {
            "_dom_classes": [],
            "_model_module": "@jupyter-widgets/controls",
            "_model_module_version": "1.5.0",
            "_model_name": "HBoxModel",
            "_view_count": null,
            "_view_module": "@jupyter-widgets/controls",
            "_view_module_version": "1.5.0",
            "_view_name": "HBoxView",
            "box_style": "",
            "children": [
              "IPY_MODEL_be8eaa0607ce45cb92e5b4e93131eeab",
              "IPY_MODEL_0904e413982c4216b58178090dd22f52",
              "IPY_MODEL_6b76514b41034113bcf33e0169ba8d90"
            ],
            "layout": "IPY_MODEL_4e8f40e1a2e241efb7f655f223602c49"
          }
        },
        "be8eaa0607ce45cb92e5b4e93131eeab": {
          "model_module": "@jupyter-widgets/controls",
          "model_name": "HTMLModel",
          "model_module_version": "1.5.0",
          "state": {
            "_dom_classes": [],
            "_model_module": "@jupyter-widgets/controls",
            "_model_module_version": "1.5.0",
            "_model_name": "HTMLModel",
            "_view_count": null,
            "_view_module": "@jupyter-widgets/controls",
            "_view_module_version": "1.5.0",
            "_view_name": "HTMLView",
            "description": "",
            "description_tooltip": null,
            "layout": "IPY_MODEL_82d48e616bdb4238913ca6cdbc37d039",
            "placeholder": "​",
            "style": "IPY_MODEL_1efbe12dafbc49b2b605242040e6b0cb",
            "value": "vocab.txt: 100%"
          }
        },
        "0904e413982c4216b58178090dd22f52": {
          "model_module": "@jupyter-widgets/controls",
          "model_name": "FloatProgressModel",
          "model_module_version": "1.5.0",
          "state": {
            "_dom_classes": [],
            "_model_module": "@jupyter-widgets/controls",
            "_model_module_version": "1.5.0",
            "_model_name": "FloatProgressModel",
            "_view_count": null,
            "_view_module": "@jupyter-widgets/controls",
            "_view_module_version": "1.5.0",
            "_view_name": "ProgressView",
            "bar_style": "success",
            "description": "",
            "description_tooltip": null,
            "layout": "IPY_MODEL_67c2068b04954b8abeb767a2851c2890",
            "max": 231508,
            "min": 0,
            "orientation": "horizontal",
            "style": "IPY_MODEL_3ceab18a599e4162a040a37f234450d7",
            "value": 231508
          }
        },
        "6b76514b41034113bcf33e0169ba8d90": {
          "model_module": "@jupyter-widgets/controls",
          "model_name": "HTMLModel",
          "model_module_version": "1.5.0",
          "state": {
            "_dom_classes": [],
            "_model_module": "@jupyter-widgets/controls",
            "_model_module_version": "1.5.0",
            "_model_name": "HTMLModel",
            "_view_count": null,
            "_view_module": "@jupyter-widgets/controls",
            "_view_module_version": "1.5.0",
            "_view_name": "HTMLView",
            "description": "",
            "description_tooltip": null,
            "layout": "IPY_MODEL_7fb29afc103e445897edb724be2fafcb",
            "placeholder": "​",
            "style": "IPY_MODEL_aa160237174e43769a2f2c3ef522ae14",
            "value": " 232k/232k [00:00&lt;00:00, 9.15MB/s]"
          }
        },
        "4e8f40e1a2e241efb7f655f223602c49": {
          "model_module": "@jupyter-widgets/base",
          "model_name": "LayoutModel",
          "model_module_version": "1.2.0",
          "state": {
            "_model_module": "@jupyter-widgets/base",
            "_model_module_version": "1.2.0",
            "_model_name": "LayoutModel",
            "_view_count": null,
            "_view_module": "@jupyter-widgets/base",
            "_view_module_version": "1.2.0",
            "_view_name": "LayoutView",
            "align_content": null,
            "align_items": null,
            "align_self": null,
            "border": null,
            "bottom": null,
            "display": null,
            "flex": null,
            "flex_flow": null,
            "grid_area": null,
            "grid_auto_columns": null,
            "grid_auto_flow": null,
            "grid_auto_rows": null,
            "grid_column": null,
            "grid_gap": null,
            "grid_row": null,
            "grid_template_areas": null,
            "grid_template_columns": null,
            "grid_template_rows": null,
            "height": null,
            "justify_content": null,
            "justify_items": null,
            "left": null,
            "margin": null,
            "max_height": null,
            "max_width": null,
            "min_height": null,
            "min_width": null,
            "object_fit": null,
            "object_position": null,
            "order": null,
            "overflow": null,
            "overflow_x": null,
            "overflow_y": null,
            "padding": null,
            "right": null,
            "top": null,
            "visibility": null,
            "width": null
          }
        },
        "82d48e616bdb4238913ca6cdbc37d039": {
          "model_module": "@jupyter-widgets/base",
          "model_name": "LayoutModel",
          "model_module_version": "1.2.0",
          "state": {
            "_model_module": "@jupyter-widgets/base",
            "_model_module_version": "1.2.0",
            "_model_name": "LayoutModel",
            "_view_count": null,
            "_view_module": "@jupyter-widgets/base",
            "_view_module_version": "1.2.0",
            "_view_name": "LayoutView",
            "align_content": null,
            "align_items": null,
            "align_self": null,
            "border": null,
            "bottom": null,
            "display": null,
            "flex": null,
            "flex_flow": null,
            "grid_area": null,
            "grid_auto_columns": null,
            "grid_auto_flow": null,
            "grid_auto_rows": null,
            "grid_column": null,
            "grid_gap": null,
            "grid_row": null,
            "grid_template_areas": null,
            "grid_template_columns": null,
            "grid_template_rows": null,
            "height": null,
            "justify_content": null,
            "justify_items": null,
            "left": null,
            "margin": null,
            "max_height": null,
            "max_width": null,
            "min_height": null,
            "min_width": null,
            "object_fit": null,
            "object_position": null,
            "order": null,
            "overflow": null,
            "overflow_x": null,
            "overflow_y": null,
            "padding": null,
            "right": null,
            "top": null,
            "visibility": null,
            "width": null
          }
        },
        "1efbe12dafbc49b2b605242040e6b0cb": {
          "model_module": "@jupyter-widgets/controls",
          "model_name": "DescriptionStyleModel",
          "model_module_version": "1.5.0",
          "state": {
            "_model_module": "@jupyter-widgets/controls",
            "_model_module_version": "1.5.0",
            "_model_name": "DescriptionStyleModel",
            "_view_count": null,
            "_view_module": "@jupyter-widgets/base",
            "_view_module_version": "1.2.0",
            "_view_name": "StyleView",
            "description_width": ""
          }
        },
        "67c2068b04954b8abeb767a2851c2890": {
          "model_module": "@jupyter-widgets/base",
          "model_name": "LayoutModel",
          "model_module_version": "1.2.0",
          "state": {
            "_model_module": "@jupyter-widgets/base",
            "_model_module_version": "1.2.0",
            "_model_name": "LayoutModel",
            "_view_count": null,
            "_view_module": "@jupyter-widgets/base",
            "_view_module_version": "1.2.0",
            "_view_name": "LayoutView",
            "align_content": null,
            "align_items": null,
            "align_self": null,
            "border": null,
            "bottom": null,
            "display": null,
            "flex": null,
            "flex_flow": null,
            "grid_area": null,
            "grid_auto_columns": null,
            "grid_auto_flow": null,
            "grid_auto_rows": null,
            "grid_column": null,
            "grid_gap": null,
            "grid_row": null,
            "grid_template_areas": null,
            "grid_template_columns": null,
            "grid_template_rows": null,
            "height": null,
            "justify_content": null,
            "justify_items": null,
            "left": null,
            "margin": null,
            "max_height": null,
            "max_width": null,
            "min_height": null,
            "min_width": null,
            "object_fit": null,
            "object_position": null,
            "order": null,
            "overflow": null,
            "overflow_x": null,
            "overflow_y": null,
            "padding": null,
            "right": null,
            "top": null,
            "visibility": null,
            "width": null
          }
        },
        "3ceab18a599e4162a040a37f234450d7": {
          "model_module": "@jupyter-widgets/controls",
          "model_name": "ProgressStyleModel",
          "model_module_version": "1.5.0",
          "state": {
            "_model_module": "@jupyter-widgets/controls",
            "_model_module_version": "1.5.0",
            "_model_name": "ProgressStyleModel",
            "_view_count": null,
            "_view_module": "@jupyter-widgets/base",
            "_view_module_version": "1.2.0",
            "_view_name": "StyleView",
            "bar_color": null,
            "description_width": ""
          }
        },
        "7fb29afc103e445897edb724be2fafcb": {
          "model_module": "@jupyter-widgets/base",
          "model_name": "LayoutModel",
          "model_module_version": "1.2.0",
          "state": {
            "_model_module": "@jupyter-widgets/base",
            "_model_module_version": "1.2.0",
            "_model_name": "LayoutModel",
            "_view_count": null,
            "_view_module": "@jupyter-widgets/base",
            "_view_module_version": "1.2.0",
            "_view_name": "LayoutView",
            "align_content": null,
            "align_items": null,
            "align_self": null,
            "border": null,
            "bottom": null,
            "display": null,
            "flex": null,
            "flex_flow": null,
            "grid_area": null,
            "grid_auto_columns": null,
            "grid_auto_flow": null,
            "grid_auto_rows": null,
            "grid_column": null,
            "grid_gap": null,
            "grid_row": null,
            "grid_template_areas": null,
            "grid_template_columns": null,
            "grid_template_rows": null,
            "height": null,
            "justify_content": null,
            "justify_items": null,
            "left": null,
            "margin": null,
            "max_height": null,
            "max_width": null,
            "min_height": null,
            "min_width": null,
            "object_fit": null,
            "object_position": null,
            "order": null,
            "overflow": null,
            "overflow_x": null,
            "overflow_y": null,
            "padding": null,
            "right": null,
            "top": null,
            "visibility": null,
            "width": null
          }
        },
        "aa160237174e43769a2f2c3ef522ae14": {
          "model_module": "@jupyter-widgets/controls",
          "model_name": "DescriptionStyleModel",
          "model_module_version": "1.5.0",
          "state": {
            "_model_module": "@jupyter-widgets/controls",
            "_model_module_version": "1.5.0",
            "_model_name": "DescriptionStyleModel",
            "_view_count": null,
            "_view_module": "@jupyter-widgets/base",
            "_view_module_version": "1.2.0",
            "_view_name": "StyleView",
            "description_width": ""
          }
        },
        "8277b54cb6b24478833358d10502db17": {
          "model_module": "@jupyter-widgets/controls",
          "model_name": "HBoxModel",
          "model_module_version": "1.5.0",
          "state": {
            "_dom_classes": [],
            "_model_module": "@jupyter-widgets/controls",
            "_model_module_version": "1.5.0",
            "_model_name": "HBoxModel",
            "_view_count": null,
            "_view_module": "@jupyter-widgets/controls",
            "_view_module_version": "1.5.0",
            "_view_name": "HBoxView",
            "box_style": "",
            "children": [
              "IPY_MODEL_ff8a8872faa7496d8615019137cb3a5c",
              "IPY_MODEL_1f006887f26545e287f138a79241d193",
              "IPY_MODEL_4ba39a6dcafe441086965206f4960d39"
            ],
            "layout": "IPY_MODEL_629e942e8f5b48568b7454445cb54604"
          }
        },
        "ff8a8872faa7496d8615019137cb3a5c": {
          "model_module": "@jupyter-widgets/controls",
          "model_name": "HTMLModel",
          "model_module_version": "1.5.0",
          "state": {
            "_dom_classes": [],
            "_model_module": "@jupyter-widgets/controls",
            "_model_module_version": "1.5.0",
            "_model_name": "HTMLModel",
            "_view_count": null,
            "_view_module": "@jupyter-widgets/controls",
            "_view_module_version": "1.5.0",
            "_view_name": "HTMLView",
            "description": "",
            "description_tooltip": null,
            "layout": "IPY_MODEL_c0a18c9e5dc0495aa531d2a8b89bf68b",
            "placeholder": "​",
            "style": "IPY_MODEL_f5ad037727524424b281607f4be88d8d",
            "value": "tokenizer.json: 100%"
          }
        },
        "1f006887f26545e287f138a79241d193": {
          "model_module": "@jupyter-widgets/controls",
          "model_name": "FloatProgressModel",
          "model_module_version": "1.5.0",
          "state": {
            "_dom_classes": [],
            "_model_module": "@jupyter-widgets/controls",
            "_model_module_version": "1.5.0",
            "_model_name": "FloatProgressModel",
            "_view_count": null,
            "_view_module": "@jupyter-widgets/controls",
            "_view_module_version": "1.5.0",
            "_view_name": "ProgressView",
            "bar_style": "success",
            "description": "",
            "description_tooltip": null,
            "layout": "IPY_MODEL_e95b653fbddc4764a5e302920a768d21",
            "max": 466062,
            "min": 0,
            "orientation": "horizontal",
            "style": "IPY_MODEL_2a815bd3d88a44d2931babfb0b30a789",
            "value": 466062
          }
        },
        "4ba39a6dcafe441086965206f4960d39": {
          "model_module": "@jupyter-widgets/controls",
          "model_name": "HTMLModel",
          "model_module_version": "1.5.0",
          "state": {
            "_dom_classes": [],
            "_model_module": "@jupyter-widgets/controls",
            "_model_module_version": "1.5.0",
            "_model_name": "HTMLModel",
            "_view_count": null,
            "_view_module": "@jupyter-widgets/controls",
            "_view_module_version": "1.5.0",
            "_view_name": "HTMLView",
            "description": "",
            "description_tooltip": null,
            "layout": "IPY_MODEL_a2118dd710b24ccab6227674be238aba",
            "placeholder": "​",
            "style": "IPY_MODEL_1023092e12af4d87aed936fd0fae4442",
            "value": " 466k/466k [00:00&lt;00:00, 2.16MB/s]"
          }
        },
        "629e942e8f5b48568b7454445cb54604": {
          "model_module": "@jupyter-widgets/base",
          "model_name": "LayoutModel",
          "model_module_version": "1.2.0",
          "state": {
            "_model_module": "@jupyter-widgets/base",
            "_model_module_version": "1.2.0",
            "_model_name": "LayoutModel",
            "_view_count": null,
            "_view_module": "@jupyter-widgets/base",
            "_view_module_version": "1.2.0",
            "_view_name": "LayoutView",
            "align_content": null,
            "align_items": null,
            "align_self": null,
            "border": null,
            "bottom": null,
            "display": null,
            "flex": null,
            "flex_flow": null,
            "grid_area": null,
            "grid_auto_columns": null,
            "grid_auto_flow": null,
            "grid_auto_rows": null,
            "grid_column": null,
            "grid_gap": null,
            "grid_row": null,
            "grid_template_areas": null,
            "grid_template_columns": null,
            "grid_template_rows": null,
            "height": null,
            "justify_content": null,
            "justify_items": null,
            "left": null,
            "margin": null,
            "max_height": null,
            "max_width": null,
            "min_height": null,
            "min_width": null,
            "object_fit": null,
            "object_position": null,
            "order": null,
            "overflow": null,
            "overflow_x": null,
            "overflow_y": null,
            "padding": null,
            "right": null,
            "top": null,
            "visibility": null,
            "width": null
          }
        },
        "c0a18c9e5dc0495aa531d2a8b89bf68b": {
          "model_module": "@jupyter-widgets/base",
          "model_name": "LayoutModel",
          "model_module_version": "1.2.0",
          "state": {
            "_model_module": "@jupyter-widgets/base",
            "_model_module_version": "1.2.0",
            "_model_name": "LayoutModel",
            "_view_count": null,
            "_view_module": "@jupyter-widgets/base",
            "_view_module_version": "1.2.0",
            "_view_name": "LayoutView",
            "align_content": null,
            "align_items": null,
            "align_self": null,
            "border": null,
            "bottom": null,
            "display": null,
            "flex": null,
            "flex_flow": null,
            "grid_area": null,
            "grid_auto_columns": null,
            "grid_auto_flow": null,
            "grid_auto_rows": null,
            "grid_column": null,
            "grid_gap": null,
            "grid_row": null,
            "grid_template_areas": null,
            "grid_template_columns": null,
            "grid_template_rows": null,
            "height": null,
            "justify_content": null,
            "justify_items": null,
            "left": null,
            "margin": null,
            "max_height": null,
            "max_width": null,
            "min_height": null,
            "min_width": null,
            "object_fit": null,
            "object_position": null,
            "order": null,
            "overflow": null,
            "overflow_x": null,
            "overflow_y": null,
            "padding": null,
            "right": null,
            "top": null,
            "visibility": null,
            "width": null
          }
        },
        "f5ad037727524424b281607f4be88d8d": {
          "model_module": "@jupyter-widgets/controls",
          "model_name": "DescriptionStyleModel",
          "model_module_version": "1.5.0",
          "state": {
            "_model_module": "@jupyter-widgets/controls",
            "_model_module_version": "1.5.0",
            "_model_name": "DescriptionStyleModel",
            "_view_count": null,
            "_view_module": "@jupyter-widgets/base",
            "_view_module_version": "1.2.0",
            "_view_name": "StyleView",
            "description_width": ""
          }
        },
        "e95b653fbddc4764a5e302920a768d21": {
          "model_module": "@jupyter-widgets/base",
          "model_name": "LayoutModel",
          "model_module_version": "1.2.0",
          "state": {
            "_model_module": "@jupyter-widgets/base",
            "_model_module_version": "1.2.0",
            "_model_name": "LayoutModel",
            "_view_count": null,
            "_view_module": "@jupyter-widgets/base",
            "_view_module_version": "1.2.0",
            "_view_name": "LayoutView",
            "align_content": null,
            "align_items": null,
            "align_self": null,
            "border": null,
            "bottom": null,
            "display": null,
            "flex": null,
            "flex_flow": null,
            "grid_area": null,
            "grid_auto_columns": null,
            "grid_auto_flow": null,
            "grid_auto_rows": null,
            "grid_column": null,
            "grid_gap": null,
            "grid_row": null,
            "grid_template_areas": null,
            "grid_template_columns": null,
            "grid_template_rows": null,
            "height": null,
            "justify_content": null,
            "justify_items": null,
            "left": null,
            "margin": null,
            "max_height": null,
            "max_width": null,
            "min_height": null,
            "min_width": null,
            "object_fit": null,
            "object_position": null,
            "order": null,
            "overflow": null,
            "overflow_x": null,
            "overflow_y": null,
            "padding": null,
            "right": null,
            "top": null,
            "visibility": null,
            "width": null
          }
        },
        "2a815bd3d88a44d2931babfb0b30a789": {
          "model_module": "@jupyter-widgets/controls",
          "model_name": "ProgressStyleModel",
          "model_module_version": "1.5.0",
          "state": {
            "_model_module": "@jupyter-widgets/controls",
            "_model_module_version": "1.5.0",
            "_model_name": "ProgressStyleModel",
            "_view_count": null,
            "_view_module": "@jupyter-widgets/base",
            "_view_module_version": "1.2.0",
            "_view_name": "StyleView",
            "bar_color": null,
            "description_width": ""
          }
        },
        "a2118dd710b24ccab6227674be238aba": {
          "model_module": "@jupyter-widgets/base",
          "model_name": "LayoutModel",
          "model_module_version": "1.2.0",
          "state": {
            "_model_module": "@jupyter-widgets/base",
            "_model_module_version": "1.2.0",
            "_model_name": "LayoutModel",
            "_view_count": null,
            "_view_module": "@jupyter-widgets/base",
            "_view_module_version": "1.2.0",
            "_view_name": "LayoutView",
            "align_content": null,
            "align_items": null,
            "align_self": null,
            "border": null,
            "bottom": null,
            "display": null,
            "flex": null,
            "flex_flow": null,
            "grid_area": null,
            "grid_auto_columns": null,
            "grid_auto_flow": null,
            "grid_auto_rows": null,
            "grid_column": null,
            "grid_gap": null,
            "grid_row": null,
            "grid_template_areas": null,
            "grid_template_columns": null,
            "grid_template_rows": null,
            "height": null,
            "justify_content": null,
            "justify_items": null,
            "left": null,
            "margin": null,
            "max_height": null,
            "max_width": null,
            "min_height": null,
            "min_width": null,
            "object_fit": null,
            "object_position": null,
            "order": null,
            "overflow": null,
            "overflow_x": null,
            "overflow_y": null,
            "padding": null,
            "right": null,
            "top": null,
            "visibility": null,
            "width": null
          }
        },
        "1023092e12af4d87aed936fd0fae4442": {
          "model_module": "@jupyter-widgets/controls",
          "model_name": "DescriptionStyleModel",
          "model_module_version": "1.5.0",
          "state": {
            "_model_module": "@jupyter-widgets/controls",
            "_model_module_version": "1.5.0",
            "_model_name": "DescriptionStyleModel",
            "_view_count": null,
            "_view_module": "@jupyter-widgets/base",
            "_view_module_version": "1.2.0",
            "_view_name": "StyleView",
            "description_width": ""
          }
        },
        "00573b3ef8fc4d34b19b565dc21caa24": {
          "model_module": "@jupyter-widgets/controls",
          "model_name": "HBoxModel",
          "model_module_version": "1.5.0",
          "state": {
            "_dom_classes": [],
            "_model_module": "@jupyter-widgets/controls",
            "_model_module_version": "1.5.0",
            "_model_name": "HBoxModel",
            "_view_count": null,
            "_view_module": "@jupyter-widgets/controls",
            "_view_module_version": "1.5.0",
            "_view_name": "HBoxView",
            "box_style": "",
            "children": [
              "IPY_MODEL_bde9f830ff87418085dc000c7c25e063",
              "IPY_MODEL_97eb638bcb764626b85671571efec718",
              "IPY_MODEL_88980d47df584af8bf0a28e1775b0e3f"
            ],
            "layout": "IPY_MODEL_cd6071a48f864e749f2500db89ca3076"
          }
        },
        "bde9f830ff87418085dc000c7c25e063": {
          "model_module": "@jupyter-widgets/controls",
          "model_name": "HTMLModel",
          "model_module_version": "1.5.0",
          "state": {
            "_dom_classes": [],
            "_model_module": "@jupyter-widgets/controls",
            "_model_module_version": "1.5.0",
            "_model_name": "HTMLModel",
            "_view_count": null,
            "_view_module": "@jupyter-widgets/controls",
            "_view_module_version": "1.5.0",
            "_view_name": "HTMLView",
            "description": "",
            "description_tooltip": null,
            "layout": "IPY_MODEL_5e7abfb8dc9b417cb7118c6539b86cea",
            "placeholder": "​",
            "style": "IPY_MODEL_41cbe1e8f1884b0bb7387132524bd421",
            "value": "config.json: 100%"
          }
        },
        "97eb638bcb764626b85671571efec718": {
          "model_module": "@jupyter-widgets/controls",
          "model_name": "FloatProgressModel",
          "model_module_version": "1.5.0",
          "state": {
            "_dom_classes": [],
            "_model_module": "@jupyter-widgets/controls",
            "_model_module_version": "1.5.0",
            "_model_name": "FloatProgressModel",
            "_view_count": null,
            "_view_module": "@jupyter-widgets/controls",
            "_view_module_version": "1.5.0",
            "_view_name": "ProgressView",
            "bar_style": "success",
            "description": "",
            "description_tooltip": null,
            "layout": "IPY_MODEL_75f4b5883b8a4b3ea1c9d5ce2c911940",
            "max": 570,
            "min": 0,
            "orientation": "horizontal",
            "style": "IPY_MODEL_82cd670b4c4049a3bb8fdb11613210af",
            "value": 570
          }
        },
        "88980d47df584af8bf0a28e1775b0e3f": {
          "model_module": "@jupyter-widgets/controls",
          "model_name": "HTMLModel",
          "model_module_version": "1.5.0",
          "state": {
            "_dom_classes": [],
            "_model_module": "@jupyter-widgets/controls",
            "_model_module_version": "1.5.0",
            "_model_name": "HTMLModel",
            "_view_count": null,
            "_view_module": "@jupyter-widgets/controls",
            "_view_module_version": "1.5.0",
            "_view_name": "HTMLView",
            "description": "",
            "description_tooltip": null,
            "layout": "IPY_MODEL_8bcd6a46231b471993e74e8109ac2555",
            "placeholder": "​",
            "style": "IPY_MODEL_0433d68636cc4049856fb93e8d4dddfa",
            "value": " 570/570 [00:00&lt;00:00, 16.9kB/s]"
          }
        },
        "cd6071a48f864e749f2500db89ca3076": {
          "model_module": "@jupyter-widgets/base",
          "model_name": "LayoutModel",
          "model_module_version": "1.2.0",
          "state": {
            "_model_module": "@jupyter-widgets/base",
            "_model_module_version": "1.2.0",
            "_model_name": "LayoutModel",
            "_view_count": null,
            "_view_module": "@jupyter-widgets/base",
            "_view_module_version": "1.2.0",
            "_view_name": "LayoutView",
            "align_content": null,
            "align_items": null,
            "align_self": null,
            "border": null,
            "bottom": null,
            "display": null,
            "flex": null,
            "flex_flow": null,
            "grid_area": null,
            "grid_auto_columns": null,
            "grid_auto_flow": null,
            "grid_auto_rows": null,
            "grid_column": null,
            "grid_gap": null,
            "grid_row": null,
            "grid_template_areas": null,
            "grid_template_columns": null,
            "grid_template_rows": null,
            "height": null,
            "justify_content": null,
            "justify_items": null,
            "left": null,
            "margin": null,
            "max_height": null,
            "max_width": null,
            "min_height": null,
            "min_width": null,
            "object_fit": null,
            "object_position": null,
            "order": null,
            "overflow": null,
            "overflow_x": null,
            "overflow_y": null,
            "padding": null,
            "right": null,
            "top": null,
            "visibility": null,
            "width": null
          }
        },
        "5e7abfb8dc9b417cb7118c6539b86cea": {
          "model_module": "@jupyter-widgets/base",
          "model_name": "LayoutModel",
          "model_module_version": "1.2.0",
          "state": {
            "_model_module": "@jupyter-widgets/base",
            "_model_module_version": "1.2.0",
            "_model_name": "LayoutModel",
            "_view_count": null,
            "_view_module": "@jupyter-widgets/base",
            "_view_module_version": "1.2.0",
            "_view_name": "LayoutView",
            "align_content": null,
            "align_items": null,
            "align_self": null,
            "border": null,
            "bottom": null,
            "display": null,
            "flex": null,
            "flex_flow": null,
            "grid_area": null,
            "grid_auto_columns": null,
            "grid_auto_flow": null,
            "grid_auto_rows": null,
            "grid_column": null,
            "grid_gap": null,
            "grid_row": null,
            "grid_template_areas": null,
            "grid_template_columns": null,
            "grid_template_rows": null,
            "height": null,
            "justify_content": null,
            "justify_items": null,
            "left": null,
            "margin": null,
            "max_height": null,
            "max_width": null,
            "min_height": null,
            "min_width": null,
            "object_fit": null,
            "object_position": null,
            "order": null,
            "overflow": null,
            "overflow_x": null,
            "overflow_y": null,
            "padding": null,
            "right": null,
            "top": null,
            "visibility": null,
            "width": null
          }
        },
        "41cbe1e8f1884b0bb7387132524bd421": {
          "model_module": "@jupyter-widgets/controls",
          "model_name": "DescriptionStyleModel",
          "model_module_version": "1.5.0",
          "state": {
            "_model_module": "@jupyter-widgets/controls",
            "_model_module_version": "1.5.0",
            "_model_name": "DescriptionStyleModel",
            "_view_count": null,
            "_view_module": "@jupyter-widgets/base",
            "_view_module_version": "1.2.0",
            "_view_name": "StyleView",
            "description_width": ""
          }
        },
        "75f4b5883b8a4b3ea1c9d5ce2c911940": {
          "model_module": "@jupyter-widgets/base",
          "model_name": "LayoutModel",
          "model_module_version": "1.2.0",
          "state": {
            "_model_module": "@jupyter-widgets/base",
            "_model_module_version": "1.2.0",
            "_model_name": "LayoutModel",
            "_view_count": null,
            "_view_module": "@jupyter-widgets/base",
            "_view_module_version": "1.2.0",
            "_view_name": "LayoutView",
            "align_content": null,
            "align_items": null,
            "align_self": null,
            "border": null,
            "bottom": null,
            "display": null,
            "flex": null,
            "flex_flow": null,
            "grid_area": null,
            "grid_auto_columns": null,
            "grid_auto_flow": null,
            "grid_auto_rows": null,
            "grid_column": null,
            "grid_gap": null,
            "grid_row": null,
            "grid_template_areas": null,
            "grid_template_columns": null,
            "grid_template_rows": null,
            "height": null,
            "justify_content": null,
            "justify_items": null,
            "left": null,
            "margin": null,
            "max_height": null,
            "max_width": null,
            "min_height": null,
            "min_width": null,
            "object_fit": null,
            "object_position": null,
            "order": null,
            "overflow": null,
            "overflow_x": null,
            "overflow_y": null,
            "padding": null,
            "right": null,
            "top": null,
            "visibility": null,
            "width": null
          }
        },
        "82cd670b4c4049a3bb8fdb11613210af": {
          "model_module": "@jupyter-widgets/controls",
          "model_name": "ProgressStyleModel",
          "model_module_version": "1.5.0",
          "state": {
            "_model_module": "@jupyter-widgets/controls",
            "_model_module_version": "1.5.0",
            "_model_name": "ProgressStyleModel",
            "_view_count": null,
            "_view_module": "@jupyter-widgets/base",
            "_view_module_version": "1.2.0",
            "_view_name": "StyleView",
            "bar_color": null,
            "description_width": ""
          }
        },
        "8bcd6a46231b471993e74e8109ac2555": {
          "model_module": "@jupyter-widgets/base",
          "model_name": "LayoutModel",
          "model_module_version": "1.2.0",
          "state": {
            "_model_module": "@jupyter-widgets/base",
            "_model_module_version": "1.2.0",
            "_model_name": "LayoutModel",
            "_view_count": null,
            "_view_module": "@jupyter-widgets/base",
            "_view_module_version": "1.2.0",
            "_view_name": "LayoutView",
            "align_content": null,
            "align_items": null,
            "align_self": null,
            "border": null,
            "bottom": null,
            "display": null,
            "flex": null,
            "flex_flow": null,
            "grid_area": null,
            "grid_auto_columns": null,
            "grid_auto_flow": null,
            "grid_auto_rows": null,
            "grid_column": null,
            "grid_gap": null,
            "grid_row": null,
            "grid_template_areas": null,
            "grid_template_columns": null,
            "grid_template_rows": null,
            "height": null,
            "justify_content": null,
            "justify_items": null,
            "left": null,
            "margin": null,
            "max_height": null,
            "max_width": null,
            "min_height": null,
            "min_width": null,
            "object_fit": null,
            "object_position": null,
            "order": null,
            "overflow": null,
            "overflow_x": null,
            "overflow_y": null,
            "padding": null,
            "right": null,
            "top": null,
            "visibility": null,
            "width": null
          }
        },
        "0433d68636cc4049856fb93e8d4dddfa": {
          "model_module": "@jupyter-widgets/controls",
          "model_name": "DescriptionStyleModel",
          "model_module_version": "1.5.0",
          "state": {
            "_model_module": "@jupyter-widgets/controls",
            "_model_module_version": "1.5.0",
            "_model_name": "DescriptionStyleModel",
            "_view_count": null,
            "_view_module": "@jupyter-widgets/base",
            "_view_module_version": "1.2.0",
            "_view_name": "StyleView",
            "description_width": ""
          }
        }
      }
    }
  },
  "nbformat": 4,
  "nbformat_minor": 0
}