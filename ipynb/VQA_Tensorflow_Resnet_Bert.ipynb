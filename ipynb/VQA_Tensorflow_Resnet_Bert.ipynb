{
  "cells": [
    {
      "cell_type": "markdown",
      "metadata": {
        "id": "nBEHpClxDQdy"
      },
      "source": [
        "# Load the Data\n"
      ]
    },
    {
      "cell_type": "code",
      "execution_count": null,
      "metadata": {
        "id": "8AfMxg1QEqGK",
        "colab": {
          "base_uri": "https://localhost:8080/"
        },
        "outputId": "8f6ba6d3-d82f-4609-d6ec-38a35b541908"
      },
      "outputs": [
        {
          "output_type": "stream",
          "name": "stdout",
          "text": [
            "\u001b[31mERROR: Could not find a version that satisfies the requirement transformer (from versions: none)\u001b[0m\u001b[31m\n",
            "\u001b[0m\u001b[31mERROR: No matching distribution found for transformer\u001b[0m\u001b[31m\n",
            "\u001b[0m"
          ]
        }
      ],
      "source": [
        "!pip install -qqq easy-vqa\n",
        "!pip install -qqq sentence_transformers transformer"
      ]
    },
    {
      "cell_type": "code",
      "execution_count": null,
      "metadata": {
        "id": "7b5NHqyyFHjW"
      },
      "outputs": [],
      "source": [
        "from easy_vqa import get_train_questions, get_test_questions\n",
        "\n",
        "train_questions, train_answers, train_image_ids = get_train_questions()\n",
        "test_questions, test_answers, test_image_ids = get_test_questions()"
      ]
    },
    {
      "cell_type": "code",
      "execution_count": null,
      "metadata": {
        "colab": {
          "base_uri": "https://localhost:8080/"
        },
        "id": "UizsO-06FL47",
        "outputId": "638327d8-1d0f-4fb5-eccf-e2502a5ae827"
      },
      "outputs": [
        {
          "output_type": "execute_result",
          "data": {
            "text/plain": [
              "(38575, 9673)"
            ]
          },
          "metadata": {},
          "execution_count": 4
        }
      ],
      "source": [
        "len(train_questions), len(test_questions)"
      ]
    },
    {
      "cell_type": "code",
      "execution_count": null,
      "metadata": {
        "colab": {
          "base_uri": "https://localhost:8080/"
        },
        "id": "Ktx_bca0GW1Q",
        "outputId": "aaa60dcf-ed78-4eee-ecad-7b92bf96f18b"
      },
      "outputs": [
        {
          "output_type": "execute_result",
          "data": {
            "text/plain": [
              "['circle',\n",
              " 'green',\n",
              " 'red',\n",
              " 'gray',\n",
              " 'yes',\n",
              " 'teal',\n",
              " 'black',\n",
              " 'rectangle',\n",
              " 'yellow',\n",
              " 'triangle',\n",
              " 'brown',\n",
              " 'blue',\n",
              " 'no']"
            ]
          },
          "metadata": {},
          "execution_count": 5
        }
      ],
      "source": [
        "# Find all the possible answers\n",
        "\n",
        "from easy_vqa import get_answers\n",
        "\n",
        "all_answers = get_answers()\n",
        "all_answers"
      ]
    },
    {
      "cell_type": "markdown",
      "metadata": {
        "id": "lDQJN-YJFSLy"
      },
      "source": [
        "# Visualize the Data"
      ]
    },
    {
      "cell_type": "code",
      "execution_count": null,
      "metadata": {
        "colab": {
          "base_uri": "https://localhost:8080/"
        },
        "id": "HMivQYCFFW4D",
        "outputId": "c9512d8a-eb37-4876-f9ed-e741bde10808"
      },
      "outputs": [
        {
          "output_type": "stream",
          "name": "stdout",
          "text": [
            "Question:  what is the blue shape?, Answer:  rectangle, Image Id:  0\n",
            "Question:  what color is the shape?, Answer:  blue, Image Id:  0\n",
            "Question:  does the image contain a rectangle?, Answer:  yes, Image Id:  0\n",
            "Question:  is there a triangle in the image?, Answer:  no, Image Id:  0\n",
            "Question:  is there a black shape?, Answer:  no, Image Id:  0\n",
            "Question:  does the image not contain a gray shape?, Answer:  yes, Image Id:  0\n",
            "Question:  is there a red shape in the image?, Answer:  no, Image Id:  0\n",
            "Question:  does the image not contain a red shape?, Answer:  yes, Image Id:  0\n",
            "Question:  is there not a blue shape?, Answer:  no, Image Id:  0\n",
            "Question:  is there not a blue shape in the image?, Answer:  no, Image Id:  0\n",
            "Question:  is there not a yellow shape?, Answer:  yes, Image Id:  0\n",
            "Question:  is a teal shape present?, Answer:  no, Image Id:  0\n",
            "Question:  what color is the triangle?, Answer:  blue, Image Id:  1\n",
            "Question:  what color is the shape?, Answer:  blue, Image Id:  1\n",
            "Question:  is there not a rectangle in the image?, Answer:  yes, Image Id:  1\n",
            "Question:  is there a red shape?, Answer:  no, Image Id:  1\n",
            "Question:  is there a green shape in the image?, Answer:  no, Image Id:  1\n",
            "Question:  is there not a teal shape?, Answer:  yes, Image Id:  1\n",
            "Question:  what shape is in the image?, Answer:  triangle, Image Id:  2\n",
            "Question:  what shape does the image contain?, Answer:  triangle, Image Id:  2\n"
          ]
        }
      ],
      "source": [
        "# Verify the quesion, answers for Images\n",
        "\n",
        "for idx in range(20):\n",
        "  print('Question: ', train_questions[idx], end=', ')\n",
        "  print('Answer: ', train_answers[idx], end=', ')\n",
        "  print('Image Id: ', train_image_ids[idx])"
      ]
    },
    {
      "cell_type": "code",
      "execution_count": null,
      "metadata": {
        "id": "Z44LbQ0LFcLs"
      },
      "outputs": [],
      "source": [
        "# write a function to display the image\n",
        "\n",
        "def display_image(image_id):\n",
        "  from IPython.display import Image\n",
        "  from PIL import Image\n",
        "  image_path = f\"/usr/local/lib/python3.10/dist-packages/easy_vqa/data/train/images/{image_id}.png\"\n",
        "  display(Image.open(image_path))"
      ]
    },
    {
      "cell_type": "code",
      "execution_count": null,
      "metadata": {
        "id": "_7IkHigqGMR_"
      },
      "outputs": [],
      "source": [
        "# Visualize the data\n",
        "\n",
        "# Map questions for one particular image\n",
        "from collections import defaultdict\n",
        "\n",
        "image_qna_map = defaultdict(list)\n",
        "\n",
        "for idx in range(len(train_questions)):\n",
        "  image_qna_map[train_image_ids[idx]].append({'question': train_questions[idx], 'answer': train_answers[idx]})"
      ]
    },
    {
      "cell_type": "code",
      "execution_count": null,
      "metadata": {
        "colab": {
          "base_uri": "https://localhost:8080/",
          "height": 1000
        },
        "id": "y_bvc9imGO2X",
        "outputId": "b71e1ff3-5de5-4865-d1fa-bcd76358bf88"
      },
      "outputs": [
        {
          "output_type": "stream",
          "name": "stdout",
          "text": [
            "Image Id:  0\n"
          ]
        },
        {
          "output_type": "display_data",
          "data": {
            "text/plain": [
              "<PIL.PngImagePlugin.PngImageFile image mode=RGB size=64x64>"
            ],
            "image/png": "[encoded data removed]"
          },
          "metadata": {}
        },
        {
          "output_type": "stream",
          "name": "stdout",
          "text": [
            "{'question': 'what is the blue shape?', 'answer': 'rectangle'}\n",
            "{'question': 'what color is the shape?', 'answer': 'blue'}\n",
            "{'question': 'does the image contain a rectangle?', 'answer': 'yes'}\n",
            "{'question': 'is there a triangle in the image?', 'answer': 'no'}\n",
            "{'question': 'is there a black shape?', 'answer': 'no'}\n",
            "{'question': 'does the image not contain a gray shape?', 'answer': 'yes'}\n",
            "{'question': 'is there a red shape in the image?', 'answer': 'no'}\n",
            "{'question': 'does the image not contain a red shape?', 'answer': 'yes'}\n",
            "{'question': 'is there not a blue shape?', 'answer': 'no'}\n",
            "{'question': 'is there not a blue shape in the image?', 'answer': 'no'}\n",
            "{'question': 'is there not a yellow shape?', 'answer': 'yes'}\n",
            "{'question': 'is a teal shape present?', 'answer': 'no'}\n",
            "Image Id:  1\n"
          ]
        },
        {
          "output_type": "display_data",
          "data": {
            "text/plain": [
              "<PIL.PngImagePlugin.PngImageFile image mode=RGB size=64x64>"
            ],
            "image/png": "[encoded data removed]"
          },
          "metadata": {}
        },
        {
          "output_type": "stream",
          "name": "stdout",
          "text": [
            "{'question': 'what color is the triangle?', 'answer': 'blue'}\n",
            "{'question': 'what color is the shape?', 'answer': 'blue'}\n",
            "{'question': 'is there not a rectangle in the image?', 'answer': 'yes'}\n",
            "{'question': 'is there a red shape?', 'answer': 'no'}\n",
            "{'question': 'is there a green shape in the image?', 'answer': 'no'}\n",
            "{'question': 'is there not a teal shape?', 'answer': 'yes'}\n",
            "Image Id:  2\n"
          ]
        },
        {
          "output_type": "display_data",
          "data": {
            "text/plain": [
              "<PIL.PngImagePlugin.PngImageFile image mode=RGB size=64x64>"
            ],
            "image/png": "[encoded data removed]"
          },
          "metadata": {}
        },
        {
          "output_type": "stream",
          "name": "stdout",
          "text": [
            "{'question': 'what shape is in the image?', 'answer': 'triangle'}\n",
            "{'question': 'what shape does the image contain?', 'answer': 'triangle'}\n",
            "{'question': 'what color is the triangle?', 'answer': 'red'}\n",
            "{'question': 'what is the color of the triangle?', 'answer': 'red'}\n",
            "{'question': 'is there a circle?', 'answer': 'no'}\n",
            "{'question': 'does the image contain a green shape?', 'answer': 'no'}\n",
            "{'question': 'is there a blue shape in the image?', 'answer': 'no'}\n",
            "{'question': 'is there a teal shape?', 'answer': 'no'}\n",
            "{'question': 'is there not a teal shape in the image?', 'answer': 'yes'}\n",
            "Image Id:  3\n"
          ]
        },
        {
          "output_type": "display_data",
          "data": {
            "text/plain": [
              "<PIL.PngImagePlugin.PngImageFile image mode=RGB size=64x64>"
            ],
            "image/png": "[encoded data removed]"
          },
          "metadata": {}
        },
        {
          "output_type": "stream",
          "name": "stdout",
          "text": [
            "{'question': 'what shape is present?', 'answer': 'rectangle'}\n",
            "{'question': 'what shape does the image contain?', 'answer': 'rectangle'}\n",
            "{'question': 'what color is the rectangle?', 'answer': 'brown'}\n",
            "{'question': 'what is the color of the rectangle?', 'answer': 'brown'}\n",
            "{'question': 'what is the color of the shape?', 'answer': 'brown'}\n",
            "{'question': 'does the image not contain a circle?', 'answer': 'yes'}\n",
            "{'question': 'does the image contain a triangle?', 'answer': 'no'}\n",
            "{'question': 'does the image contain a gray shape?', 'answer': 'no'}\n",
            "{'question': 'is there a blue shape?', 'answer': 'no'}\n",
            "{'question': 'is no yellow shape present?', 'answer': 'yes'}\n",
            "{'question': 'is there not a brown shape?', 'answer': 'no'}\n",
            "Image Id:  4\n"
          ]
        },
        {
          "output_type": "display_data",
          "data": {
            "text/plain": [
              "<PIL.PngImagePlugin.PngImageFile image mode=RGB size=64x64>"
            ],
            "image/png": "[encoded data removed]"
          },
          "metadata": {}
        },
        {
          "output_type": "stream",
          "name": "stdout",
          "text": [
            "{'question': 'what is the red shape?', 'answer': 'circle'}\n",
            "{'question': 'what is the color of the circle?', 'answer': 'red'}\n",
            "{'question': 'what is the color of the shape?', 'answer': 'red'}\n",
            "{'question': 'is there not a rectangle in the image?', 'answer': 'yes'}\n",
            "{'question': 'is a circle present?', 'answer': 'yes'}\n",
            "{'question': 'does the image not contain a circle?', 'answer': 'no'}\n",
            "{'question': 'is there a black shape?', 'answer': 'no'}\n",
            "{'question': 'is there not a gray shape?', 'answer': 'yes'}\n",
            "{'question': 'does the image contain a red shape?', 'answer': 'yes'}\n",
            "{'question': 'does the image contain a yellow shape?', 'answer': 'no'}\n",
            "{'question': 'is there not a yellow shape in the image?', 'answer': 'yes'}\n",
            "{'question': 'is there a teal shape?', 'answer': 'no'}\n",
            "{'question': 'is there a brown shape in the image?', 'answer': 'no'}\n",
            "{'question': 'is there not a brown shape in the image?', 'answer': 'yes'}\n",
            "Image Id:  5\n"
          ]
        },
        {
          "output_type": "display_data",
          "data": {
            "text/plain": [
              "<PIL.PngImagePlugin.PngImageFile image mode=RGB size=64x64>"
            ],
            "image/png": "[encoded data removed]"
          },
          "metadata": {}
        },
        {
          "output_type": "stream",
          "name": "stdout",
          "text": [
            "{'question': 'what is the yellow shape?', 'answer': 'triangle'}\n",
            "{'question': 'what color is the triangle?', 'answer': 'yellow'}\n",
            "{'question': 'what is the color of the triangle?', 'answer': 'yellow'}\n",
            "{'question': 'is a rectangle present?', 'answer': 'no'}\n",
            "{'question': 'is there not a circle?', 'answer': 'yes'}\n",
            "{'question': 'is there a triangle?', 'answer': 'yes'}\n",
            "{'question': 'is a green shape present?', 'answer': 'no'}\n",
            "{'question': 'does the image contain a yellow shape?', 'answer': 'yes'}\n",
            "{'question': 'is there a brown shape in the image?', 'answer': 'no'}\n",
            "Image Id:  6\n"
          ]
        },
        {
          "output_type": "display_data",
          "data": {
            "text/plain": [
              "<PIL.PngImagePlugin.PngImageFile image mode=RGB size=64x64>"
            ],
            "image/png": "[encoded data removed]"
          },
          "metadata": {}
        },
        {
          "output_type": "stream",
          "name": "stdout",
          "text": [
            "{'question': 'what is the red shape?', 'answer': 'circle'}\n",
            "{'question': 'what is the color of the circle?', 'answer': 'red'}\n",
            "{'question': 'what is the color of the shape?', 'answer': 'red'}\n",
            "{'question': 'is no rectangle present?', 'answer': 'yes'}\n",
            "{'question': 'does the image contain a circle?', 'answer': 'yes'}\n",
            "{'question': 'is there not a circle?', 'answer': 'no'}\n",
            "{'question': 'is there not a triangle in the image?', 'answer': 'yes'}\n",
            "{'question': 'does the image not contain a gray shape?', 'answer': 'yes'}\n",
            "{'question': 'is there a green shape?', 'answer': 'no'}\n",
            "{'question': 'is there a blue shape?', 'answer': 'no'}\n",
            "{'question': 'is a blue shape present?', 'answer': 'no'}\n",
            "{'question': 'is a yellow shape present?', 'answer': 'no'}\n",
            "{'question': 'is no teal shape present?', 'answer': 'yes'}\n",
            "Image Id:  7\n"
          ]
        },
        {
          "output_type": "display_data",
          "data": {
            "text/plain": [
              "<PIL.PngImagePlugin.PngImageFile image mode=RGB size=64x64>"
            ],
            "image/png": "[encoded data removed]"
          },
          "metadata": {}
        },
        {
          "output_type": "stream",
          "name": "stdout",
          "text": [
            "{'question': 'what is the color of the circle?', 'answer': 'black'}\n",
            "{'question': 'is a rectangle present?', 'answer': 'no'}\n",
            "{'question': 'is there not a triangle?', 'answer': 'yes'}\n",
            "{'question': 'is there not a gray shape?', 'answer': 'yes'}\n",
            "{'question': 'is there not a gray shape in the image?', 'answer': 'yes'}\n",
            "{'question': 'is there a red shape?', 'answer': 'no'}\n",
            "{'question': 'is there not a brown shape?', 'answer': 'yes'}\n",
            "Image Id:  8\n"
          ]
        },
        {
          "output_type": "display_data",
          "data": {
            "text/plain": [
              "<PIL.PngImagePlugin.PngImageFile image mode=RGB size=64x64>"
            ],
            "image/png": "[encoded data removed]"
          },
          "metadata": {}
        },
        {
          "output_type": "stream",
          "name": "stdout",
          "text": [
            "{'question': 'what is the color of the rectangle?', 'answer': 'brown'}\n",
            "{'question': 'does the image not contain a circle?', 'answer': 'yes'}\n",
            "{'question': 'is no gray shape present?', 'answer': 'yes'}\n",
            "{'question': 'does the image contain a red shape?', 'answer': 'no'}\n",
            "{'question': 'is no red shape present?', 'answer': 'yes'}\n",
            "{'question': 'does the image not contain a green shape?', 'answer': 'yes'}\n",
            "{'question': 'is there a blue shape in the image?', 'answer': 'no'}\n",
            "{'question': 'does the image not contain a blue shape?', 'answer': 'yes'}\n",
            "{'question': 'is there a teal shape in the image?', 'answer': 'no'}\n",
            "{'question': 'is there a brown shape in the image?', 'answer': 'yes'}\n",
            "Image Id:  9\n"
          ]
        },
        {
          "output_type": "display_data",
          "data": {
            "text/plain": [
              "<PIL.PngImagePlugin.PngImageFile image mode=RGB size=64x64>"
            ],
            "image/png": "[encoded data removed]"
          },
          "metadata": {}
        },
        {
          "output_type": "stream",
          "name": "stdout",
          "text": [
            "{'question': 'what shape is in the image?', 'answer': 'rectangle'}\n",
            "{'question': 'what is the yellow shape?', 'answer': 'rectangle'}\n",
            "{'question': 'what is the color of the rectangle?', 'answer': 'yellow'}\n",
            "{'question': 'what color is the shape?', 'answer': 'yellow'}\n",
            "{'question': 'is there a rectangle?', 'answer': 'yes'}\n",
            "{'question': 'is a gray shape present?', 'answer': 'no'}\n",
            "{'question': 'is a red shape present?', 'answer': 'no'}\n",
            "{'question': 'is no red shape present?', 'answer': 'yes'}\n",
            "{'question': 'does the image not contain a blue shape?', 'answer': 'yes'}\n",
            "{'question': 'is there a brown shape?', 'answer': 'no'}\n",
            "{'question': 'does the image not contain a brown shape?', 'answer': 'yes'}\n"
          ]
        }
      ],
      "source": [
        "# Display Image and question-answers\n",
        "for idx in range(10):\n",
        "  print('Image Id: ', idx)\n",
        "  display_image(idx)\n",
        "  for qna in image_qna_map[idx]:\n",
        "    print(qna)"
      ]
    },
    {
      "cell_type": "code",
      "execution_count": null,
      "metadata": {
        "colab": {
          "base_uri": "https://localhost:8080/"
        },
        "id": "Pv3XS9EyGbAb",
        "outputId": "44cd9314-27fa-4798-dc30-aec6b148f774"
      },
      "outputs": [
        {
          "output_type": "execute_result",
          "data": {
            "text/plain": [
              "{'circle': 0,\n",
              " 'green': 1,\n",
              " 'red': 2,\n",
              " 'gray': 3,\n",
              " 'yes': 4,\n",
              " 'teal': 5,\n",
              " 'black': 6,\n",
              " 'rectangle': 7,\n",
              " 'yellow': 8,\n",
              " 'triangle': 9,\n",
              " 'brown': 10,\n",
              " 'blue': 11,\n",
              " 'no': 12}"
            ]
          },
          "metadata": {},
          "execution_count": 11
        }
      ],
      "source": [
        "# Get index mapping for the answer labels\n",
        "label2Index = {label: idx for idx, label in enumerate(all_answers)}\n",
        "label2Index"
      ]
    },
    {
      "cell_type": "code",
      "execution_count": null,
      "metadata": {
        "colab": {
          "base_uri": "https://localhost:8080/"
        },
        "id": "9cG7ys3PHnCV",
        "outputId": "e51d5207-45c6-4beb-ae31-559ce7f87394"
      },
      "outputs": [
        {
          "output_type": "execute_result",
          "data": {
            "text/plain": [
              "{0: 'circle',\n",
              " 1: 'green',\n",
              " 2: 'red',\n",
              " 3: 'gray',\n",
              " 4: 'yes',\n",
              " 5: 'teal',\n",
              " 6: 'black',\n",
              " 7: 'rectangle',\n",
              " 8: 'yellow',\n",
              " 9: 'triangle',\n",
              " 10: 'brown',\n",
              " 11: 'blue',\n",
              " 12: 'no'}"
            ]
          },
          "metadata": {},
          "execution_count": 12
        }
      ],
      "source": [
        "# Get Label to Index mapping for the answer labels\n",
        "index2Label = {idx: label for label, idx in label2Index.items()}\n",
        "index2Label"
      ]
    },
    {
      "cell_type": "markdown",
      "metadata": {
        "id": "Sw5NkT5YGyzc"
      },
      "source": [
        "# Preprocess the Data"
      ]
    },
    {
      "cell_type": "code",
      "execution_count": null,
      "metadata": {
        "colab": {
          "base_uri": "https://localhost:8080/",
          "height": 206
        },
        "id": "eZgVHVqzG1nn",
        "outputId": "8def2c1f-c54e-484a-f18b-621761cd3493"
      },
      "outputs": [
        {
          "output_type": "execute_result",
          "data": {
            "text/plain": [
              "                              question  answer  \\\n",
              "0              what is the blue shape?       7   \n",
              "1             what color is the shape?      11   \n",
              "2  does the image contain a rectangle?       4   \n",
              "3    is there a triangle in the image?      12   \n",
              "4              is there a black shape?      12   \n",
              "\n",
              "                                          image_path  \n",
              "0  /usr/local/lib/python3.10/dist-packages/easy_v...  \n",
              "1  /usr/local/lib/python3.10/dist-packages/easy_v...  \n",
              "2  /usr/local/lib/python3.10/dist-packages/easy_v...  \n",
              "3  /usr/local/lib/python3.10/dist-packages/easy_v...  \n",
              "4  /usr/local/lib/python3.10/dist-packages/easy_v...  "
            ],
            "text/html": [
              "\n",
              "  <div id=\"df-a37581cb-2d04-4661-8aac-21a9e88bee95\" class=\"colab-df-container\">\n",
              "    <div>\n",
              "<style scoped>\n",
              "    .dataframe tbody tr th:only-of-type {\n",
              "        vertical-align: middle;\n",
              "    }\n",
              "\n",
              "    .dataframe tbody tr th {\n",
              "        vertical-align: top;\n",
              "    }\n",
              "\n",
              "    .dataframe thead th {\n",
              "        text-align: right;\n",
              "    }\n",
              "</style>\n",
              "<table border=\"1\" class=\"dataframe\">\n",
              "  <thead>\n",
              "    <tr style=\"text-align: right;\">\n",
              "      <th></th>\n",
              "      <th>question</th>\n",
              "      <th>answer</th>\n",
              "      <th>image_path</th>\n",
              "    </tr>\n",
              "  </thead>\n",
              "  <tbody>\n",
              "    <tr>\n",
              "      <th>0</th>\n",
              "      <td>what is the blue shape?</td>\n",
              "      <td>7</td>\n",
              "      <td>/usr/local/lib/python3.10/dist-packages/easy_v...</td>\n",
              "    </tr>\n",
              "    <tr>\n",
              "      <th>1</th>\n",
              "      <td>what color is the shape?</td>\n",
              "      <td>11</td>\n",
              "      <td>/usr/local/lib/python3.10/dist-packages/easy_v...</td>\n",
              "    </tr>\n",
              "    <tr>\n",
              "      <th>2</th>\n",
              "      <td>does the image contain a rectangle?</td>\n",
              "      <td>4</td>\n",
              "      <td>/usr/local/lib/python3.10/dist-packages/easy_v...</td>\n",
              "    </tr>\n",
              "    <tr>\n",
              "      <th>3</th>\n",
              "      <td>is there a triangle in the image?</td>\n",
              "      <td>12</td>\n",
              "      <td>/usr/local/lib/python3.10/dist-packages/easy_v...</td>\n",
              "    </tr>\n",
              "    <tr>\n",
              "      <th>4</th>\n",
              "      <td>is there a black shape?</td>\n",
              "      <td>12</td>\n",
              "      <td>/usr/local/lib/python3.10/dist-packages/easy_v...</td>\n",
              "    </tr>\n",
              "  </tbody>\n",
              "</table>\n",
              "</div>\n",
              "    <div class=\"colab-df-buttons\">\n",
              "\n",
              "  <div class=\"colab-df-container\">\n",
              "    <button class=\"colab-df-convert\" onclick=\"convertToInteractive('df-a37581cb-2d04-4661-8aac-21a9e88bee95')\"\n",
              "            title=\"Convert this dataframe to an interactive table.\"\n",
              "            style=\"display:none;\">\n",
              "\n",
              "  <svg xmlns=\"http://www.w3.org/2000/svg\" height=\"24px\" viewBox=\"0 -960 960 960\">\n",
              "    <path d=\"M120-120v-720h720v720H120Zm60-500h600v-160H180v160Zm220 220h160v-160H400v160Zm0 220h160v-160H400v160ZM180-400h160v-160H180v160Zm440 0h160v-160H620v160ZM180-180h160v-160H180v160Zm440 0h160v-160H620v160Z\"/>\n",
              "  </svg>\n",
              "    </button>\n",
              "\n",
              "  <style>\n",
              "    .colab-df-container {\n",
              "      display:flex;\n",
              "      gap: 12px;\n",
              "    }\n",
              "\n",
              "    .colab-df-convert {\n",
              "      background-color: #E8F0FE;\n",
              "      border: none;\n",
              "      border-radius: 50%;\n",
              "      cursor: pointer;\n",
              "      display: none;\n",
              "      fill: #1967D2;\n",
              "      height: 32px;\n",
              "      padding: 0 0 0 0;\n",
              "      width: 32px;\n",
              "    }\n",
              "\n",
              "    .colab-df-convert:hover {\n",
              "      background-color: #E2EBFA;\n",
              "      box-shadow: 0px 1px 2px rgba(60, 64, 67, 0.3), 0px 1px 3px 1px rgba(60, 64, 67, 0.15);\n",
              "      fill: #174EA6;\n",
              "    }\n",
              "\n",
              "    .colab-df-buttons div {\n",
              "      margin-bottom: 4px;\n",
              "    }\n",
              "\n",
              "    [theme=dark] .colab-df-convert {\n",
              "      background-color: #3B4455;\n",
              "      fill: #D2E3FC;\n",
              "    }\n",
              "\n",
              "    [theme=dark] .colab-df-convert:hover {\n",
              "      background-color: #434B5C;\n",
              "      box-shadow: 0px 1px 3px 1px rgba(0, 0, 0, 0.15);\n",
              "      filter: drop-shadow(0px 1px 2px rgba(0, 0, 0, 0.3));\n",
              "      fill: #FFFFFF;\n",
              "    }\n",
              "  </style>\n",
              "\n",
              "    <script>\n",
              "      const buttonEl =\n",
              "        document.querySelector('#df-a37581cb-2d04-4661-8aac-21a9e88bee95 button.colab-df-convert');\n",
              "      buttonEl.style.display =\n",
              "        google.colab.kernel.accessAllowed ? 'block' : 'none';\n",
              "\n",
              "      async function convertToInteractive(key) {\n",
              "        const element = document.querySelector('#df-a37581cb-2d04-4661-8aac-21a9e88bee95');\n",
              "        const dataTable =\n",
              "          await google.colab.kernel.invokeFunction('convertToInteractive',\n",
              "                                                    [key], {});\n",
              "        if (!dataTable) return;\n",
              "\n",
              "        const docLinkHtml = 'Like what you see? Visit the ' +\n",
              "          '<a target=\"_blank\" href=https://colab.research.google.com/notebooks/data_table.ipynb>data table notebook</a>'\n",
              "          + ' to learn more about interactive tables.';\n",
              "        element.innerHTML = '';\n",
              "        dataTable['output_type'] = 'display_data';\n",
              "        await google.colab.output.renderOutput(dataTable, element);\n",
              "        const docLink = document.createElement('div');\n",
              "        docLink.innerHTML = docLinkHtml;\n",
              "        element.appendChild(docLink);\n",
              "      }\n",
              "    </script>\n",
              "  </div>\n",
              "\n",
              "\n",
              "<div id=\"df-a4c4a0a7-58f3-4df3-a792-0921c5aec7e1\">\n",
              "  <button class=\"colab-df-quickchart\" onclick=\"quickchart('df-a4c4a0a7-58f3-4df3-a792-0921c5aec7e1')\"\n",
              "            title=\"Suggest charts\"\n",
              "            style=\"display:none;\">\n",
              "\n",
              "<svg xmlns=\"http://www.w3.org/2000/svg\" height=\"24px\"viewBox=\"0 0 24 24\"\n",
              "     width=\"24px\">\n",
              "    <g>\n",
              "        <path d=\"M19 3H5c-1.1 0-2 .9-2 2v14c0 1.1.9 2 2 2h14c1.1 0 2-.9 2-2V5c0-1.1-.9-2-2-2zM9 17H7v-7h2v7zm4 0h-2V7h2v10zm4 0h-2v-4h2v4z\"/>\n",
              "    </g>\n",
              "</svg>\n",
              "  </button>\n",
              "\n",
              "<style>\n",
              "  .colab-df-quickchart {\n",
              "      --bg-color: #E8F0FE;\n",
              "      --fill-color: #1967D2;\n",
              "      --hover-bg-color: #E2EBFA;\n",
              "      --hover-fill-color: #174EA6;\n",
              "      --disabled-fill-color: #AAA;\n",
              "      --disabled-bg-color: #DDD;\n",
              "  }\n",
              "\n",
              "  [theme=dark] .colab-df-quickchart {\n",
              "      --bg-color: #3B4455;\n",
              "      --fill-color: #D2E3FC;\n",
              "      --hover-bg-color: #434B5C;\n",
              "      --hover-fill-color: #FFFFFF;\n",
              "      --disabled-bg-color: #3B4455;\n",
              "      --disabled-fill-color: #666;\n",
              "  }\n",
              "\n",
              "  .colab-df-quickchart {\n",
              "    background-color: var(--bg-color);\n",
              "    border: none;\n",
              "    border-radius: 50%;\n",
              "    cursor: pointer;\n",
              "    display: none;\n",
              "    fill: var(--fill-color);\n",
              "    height: 32px;\n",
              "    padding: 0;\n",
              "    width: 32px;\n",
              "  }\n",
              "\n",
              "  .colab-df-quickchart:hover {\n",
              "    background-color: var(--hover-bg-color);\n",
              "    box-shadow: 0 1px 2px rgba(60, 64, 67, 0.3), 0 1px 3px 1px rgba(60, 64, 67, 0.15);\n",
              "    fill: var(--button-hover-fill-color);\n",
              "  }\n",
              "\n",
              "  .colab-df-quickchart-complete:disabled,\n",
              "  .colab-df-quickchart-complete:disabled:hover {\n",
              "    background-color: var(--disabled-bg-color);\n",
              "    fill: var(--disabled-fill-color);\n",
              "    box-shadow: none;\n",
              "  }\n",
              "\n",
              "  .colab-df-spinner {\n",
              "    border: 2px solid var(--fill-color);\n",
              "    border-color: transparent;\n",
              "    border-bottom-color: var(--fill-color);\n",
              "    animation:\n",
              "      spin 1s steps(1) infinite;\n",
              "  }\n",
              "\n",
              "  @keyframes spin {\n",
              "    0% {\n",
              "      border-color: transparent;\n",
              "      border-bottom-color: var(--fill-color);\n",
              "      border-left-color: var(--fill-color);\n",
              "    }\n",
              "    20% {\n",
              "      border-color: transparent;\n",
              "      border-left-color: var(--fill-color);\n",
              "      border-top-color: var(--fill-color);\n",
              "    }\n",
              "    30% {\n",
              "      border-color: transparent;\n",
              "      border-left-color: var(--fill-color);\n",
              "      border-top-color: var(--fill-color);\n",
              "      border-right-color: var(--fill-color);\n",
              "    }\n",
              "    40% {\n",
              "      border-color: transparent;\n",
              "      border-right-color: var(--fill-color);\n",
              "      border-top-color: var(--fill-color);\n",
              "    }\n",
              "    60% {\n",
              "      border-color: transparent;\n",
              "      border-right-color: var(--fill-color);\n",
              "    }\n",
              "    80% {\n",
              "      border-color: transparent;\n",
              "      border-right-color: var(--fill-color);\n",
              "      border-bottom-color: var(--fill-color);\n",
              "    }\n",
              "    90% {\n",
              "      border-color: transparent;\n",
              "      border-bottom-color: var(--fill-color);\n",
              "    }\n",
              "  }\n",
              "</style>\n",
              "\n",
              "  <script>\n",
              "    async function quickchart(key) {\n",
              "      const quickchartButtonEl =\n",
              "        document.querySelector('#' + key + ' button');\n",
              "      quickchartButtonEl.disabled = true;  // To prevent multiple clicks.\n",
              "      quickchartButtonEl.classList.add('colab-df-spinner');\n",
              "      try {\n",
              "        const charts = await google.colab.kernel.invokeFunction(\n",
              "            'suggestCharts', [key], {});\n",
              "      } catch (error) {\n",
              "        console.error('Error during call to suggestCharts:', error);\n",
              "      }\n",
              "      quickchartButtonEl.classList.remove('colab-df-spinner');\n",
              "      quickchartButtonEl.classList.add('colab-df-quickchart-complete');\n",
              "    }\n",
              "    (() => {\n",
              "      let quickchartButtonEl =\n",
              "        document.querySelector('#df-a4c4a0a7-58f3-4df3-a792-0921c5aec7e1 button');\n",
              "      quickchartButtonEl.style.display =\n",
              "        google.colab.kernel.accessAllowed ? 'block' : 'none';\n",
              "    })();\n",
              "  </script>\n",
              "</div>\n",
              "\n",
              "    </div>\n",
              "  </div>\n"
            ],
            "application/vnd.google.colaboratory.intrinsic+json": {
              "type": "dataframe",
              "variable_name": "train_df",
              "summary": "{\n  \"name\": \"train_df\",\n  \"rows\": 38575,\n  \"fields\": [\n    {\n      \"column\": \"question\",\n      \"properties\": {\n        \"dtype\": \"category\",\n        \"num_unique_values\": 107,\n        \"samples\": [\n          \"is there a black shape in the image?\",\n          \"is there not a yellow shape?\",\n          \"is there a black shape?\"\n        ],\n        \"semantic_type\": \"\",\n        \"description\": \"\"\n      }\n    },\n    {\n      \"column\": \"answer\",\n      \"properties\": {\n        \"dtype\": \"number\",\n        \"std\": 4,\n        \"min\": 0,\n        \"max\": 12,\n        \"num_unique_values\": 13,\n        \"samples\": [\n          5,\n          6,\n          7\n        ],\n        \"semantic_type\": \"\",\n        \"description\": \"\"\n      }\n    },\n    {\n      \"column\": \"image_path\",\n      \"properties\": {\n        \"dtype\": \"category\",\n        \"num_unique_values\": 4000,\n        \"samples\": [\n          \"/usr/local/lib/python3.10/dist-packages/easy_vqa/data/train/images/555.png\",\n          \"/usr/local/lib/python3.10/dist-packages/easy_vqa/data/train/images/3491.png\",\n          \"/usr/local/lib/python3.10/dist-packages/easy_vqa/data/train/images/527.png\"\n        ],\n        \"semantic_type\": \"\",\n        \"description\": \"\"\n      }\n    }\n  ]\n}"
            }
          },
          "metadata": {},
          "execution_count": 13
        }
      ],
      "source": [
        "# Generate a Train dataframe\n",
        "\n",
        "import pandas as pd\n",
        "\n",
        "image_paths = [f\"/usr/local/lib/python3.10/dist-packages/easy_vqa/data/train/images/{image_id}.png\" for image_id in train_image_ids]\n",
        "train_answer_labels = [label2Index[answer] for answer in train_answers]\n",
        "\n",
        "train_df = pd.DataFrame({'question': train_questions, 'answer': train_answer_labels, 'image_path': image_paths})\n",
        "train_df.head()"
      ]
    },
    {
      "cell_type": "code",
      "execution_count": null,
      "metadata": {
        "colab": {
          "base_uri": "https://localhost:8080/",
          "height": 206
        },
        "id": "eYOVNwJWG6w1",
        "outputId": "44c46cb2-83ab-49cc-d892-e91820bbe755"
      },
      "outputs": [
        {
          "output_type": "execute_result",
          "data": {
            "text/plain": [
              "                                   question  answer  \\\n",
              "0                    what is the red shape?       9   \n",
              "1        what is the color of the triangle?       2   \n",
              "2           what is the color of the shape?       2   \n",
              "3          does the image contain a circle?      12   \n",
              "4  is there not a black shape in the image?       4   \n",
              "\n",
              "                                          image_path  \n",
              "0  /usr/local/lib/python3.10/dist-packages/easy_v...  \n",
              "1  /usr/local/lib/python3.10/dist-packages/easy_v...  \n",
              "2  /usr/local/lib/python3.10/dist-packages/easy_v...  \n",
              "3  /usr/local/lib/python3.10/dist-packages/easy_v...  \n",
              "4  /usr/local/lib/python3.10/dist-packages/easy_v...  "
            ],
            "text/html": [
              "\n",
              "  <div id=\"df-9e89e1aa-67d7-4378-8867-f94366d4d14e\" class=\"colab-df-container\">\n",
              "    <div>\n",
              "<style scoped>\n",
              "    .dataframe tbody tr th:only-of-type {\n",
              "        vertical-align: middle;\n",
              "    }\n",
              "\n",
              "    .dataframe tbody tr th {\n",
              "        vertical-align: top;\n",
              "    }\n",
              "\n",
              "    .dataframe thead th {\n",
              "        text-align: right;\n",
              "    }\n",
              "</style>\n",
              "<table border=\"1\" class=\"dataframe\">\n",
              "  <thead>\n",
              "    <tr style=\"text-align: right;\">\n",
              "      <th></th>\n",
              "      <th>question</th>\n",
              "      <th>answer</th>\n",
              "      <th>image_path</th>\n",
              "    </tr>\n",
              "  </thead>\n",
              "  <tbody>\n",
              "    <tr>\n",
              "      <th>0</th>\n",
              "      <td>what is the red shape?</td>\n",
              "      <td>9</td>\n",
              "      <td>/usr/local/lib/python3.10/dist-packages/easy_v...</td>\n",
              "    </tr>\n",
              "    <tr>\n",
              "      <th>1</th>\n",
              "      <td>what is the color of the triangle?</td>\n",
              "      <td>2</td>\n",
              "      <td>/usr/local/lib/python3.10/dist-packages/easy_v...</td>\n",
              "    </tr>\n",
              "    <tr>\n",
              "      <th>2</th>\n",
              "      <td>what is the color of the shape?</td>\n",
              "      <td>2</td>\n",
              "      <td>/usr/local/lib/python3.10/dist-packages/easy_v...</td>\n",
              "    </tr>\n",
              "    <tr>\n",
              "      <th>3</th>\n",
              "      <td>does the image contain a circle?</td>\n",
              "      <td>12</td>\n",
              "      <td>/usr/local/lib/python3.10/dist-packages/easy_v...</td>\n",
              "    </tr>\n",
              "    <tr>\n",
              "      <th>4</th>\n",
              "      <td>is there not a black shape in the image?</td>\n",
              "      <td>4</td>\n",
              "      <td>/usr/local/lib/python3.10/dist-packages/easy_v...</td>\n",
              "    </tr>\n",
              "  </tbody>\n",
              "</table>\n",
              "</div>\n",
              "    <div class=\"colab-df-buttons\">\n",
              "\n",
              "  <div class=\"colab-df-container\">\n",
              "    <button class=\"colab-df-convert\" onclick=\"convertToInteractive('df-9e89e1aa-67d7-4378-8867-f94366d4d14e')\"\n",
              "            title=\"Convert this dataframe to an interactive table.\"\n",
              "            style=\"display:none;\">\n",
              "\n",
              "  <svg xmlns=\"http://www.w3.org/2000/svg\" height=\"24px\" viewBox=\"0 -960 960 960\">\n",
              "    <path d=\"M120-120v-720h720v720H120Zm60-500h600v-160H180v160Zm220 220h160v-160H400v160Zm0 220h160v-160H400v160ZM180-400h160v-160H180v160Zm440 0h160v-160H620v160ZM180-180h160v-160H180v160Zm440 0h160v-160H620v160Z\"/>\n",
              "  </svg>\n",
              "    </button>\n",
              "\n",
              "  <style>\n",
              "    .colab-df-container {\n",
              "      display:flex;\n",
              "      gap: 12px;\n",
              "    }\n",
              "\n",
              "    .colab-df-convert {\n",
              "      background-color: #E8F0FE;\n",
              "      border: none;\n",
              "      border-radius: 50%;\n",
              "      cursor: pointer;\n",
              "      display: none;\n",
              "      fill: #1967D2;\n",
              "      height: 32px;\n",
              "      padding: 0 0 0 0;\n",
              "      width: 32px;\n",
              "    }\n",
              "\n",
              "    .colab-df-convert:hover {\n",
              "      background-color: #E2EBFA;\n",
              "      box-shadow: 0px 1px 2px rgba(60, 64, 67, 0.3), 0px 1px 3px 1px rgba(60, 64, 67, 0.15);\n",
              "      fill: #174EA6;\n",
              "    }\n",
              "\n",
              "    .colab-df-buttons div {\n",
              "      margin-bottom: 4px;\n",
              "    }\n",
              "\n",
              "    [theme=dark] .colab-df-convert {\n",
              "      background-color: #3B4455;\n",
              "      fill: #D2E3FC;\n",
              "    }\n",
              "\n",
              "    [theme=dark] .colab-df-convert:hover {\n",
              "      background-color: #434B5C;\n",
              "      box-shadow: 0px 1px 3px 1px rgba(0, 0, 0, 0.15);\n",
              "      filter: drop-shadow(0px 1px 2px rgba(0, 0, 0, 0.3));\n",
              "      fill: #FFFFFF;\n",
              "    }\n",
              "  </style>\n",
              "\n",
              "    <script>\n",
              "      const buttonEl =\n",
              "        document.querySelector('#df-9e89e1aa-67d7-4378-8867-f94366d4d14e button.colab-df-convert');\n",
              "      buttonEl.style.display =\n",
              "        google.colab.kernel.accessAllowed ? 'block' : 'none';\n",
              "\n",
              "      async function convertToInteractive(key) {\n",
              "        const element = document.querySelector('#df-9e89e1aa-67d7-4378-8867-f94366d4d14e');\n",
              "        const dataTable =\n",
              "          await google.colab.kernel.invokeFunction('convertToInteractive',\n",
              "                                                    [key], {});\n",
              "        if (!dataTable) return;\n",
              "\n",
              "        const docLinkHtml = 'Like what you see? Visit the ' +\n",
              "          '<a target=\"_blank\" href=https://colab.research.google.com/notebooks/data_table.ipynb>data table notebook</a>'\n",
              "          + ' to learn more about interactive tables.';\n",
              "        element.innerHTML = '';\n",
              "        dataTable['output_type'] = 'display_data';\n",
              "        await google.colab.output.renderOutput(dataTable, element);\n",
              "        const docLink = document.createElement('div');\n",
              "        docLink.innerHTML = docLinkHtml;\n",
              "        element.appendChild(docLink);\n",
              "      }\n",
              "    </script>\n",
              "  </div>\n",
              "\n",
              "\n",
              "<div id=\"df-b3dfdf8b-c24d-4f55-b07e-ac9b8c23eca6\">\n",
              "  <button class=\"colab-df-quickchart\" onclick=\"quickchart('df-b3dfdf8b-c24d-4f55-b07e-ac9b8c23eca6')\"\n",
              "            title=\"Suggest charts\"\n",
              "            style=\"display:none;\">\n",
              "\n",
              "<svg xmlns=\"http://www.w3.org/2000/svg\" height=\"24px\"viewBox=\"0 0 24 24\"\n",
              "     width=\"24px\">\n",
              "    <g>\n",
              "        <path d=\"M19 3H5c-1.1 0-2 .9-2 2v14c0 1.1.9 2 2 2h14c1.1 0 2-.9 2-2V5c0-1.1-.9-2-2-2zM9 17H7v-7h2v7zm4 0h-2V7h2v10zm4 0h-2v-4h2v4z\"/>\n",
              "    </g>\n",
              "</svg>\n",
              "  </button>\n",
              "\n",
              "<style>\n",
              "  .colab-df-quickchart {\n",
              "      --bg-color: #E8F0FE;\n",
              "      --fill-color: #1967D2;\n",
              "      --hover-bg-color: #E2EBFA;\n",
              "      --hover-fill-color: #174EA6;\n",
              "      --disabled-fill-color: #AAA;\n",
              "      --disabled-bg-color: #DDD;\n",
              "  }\n",
              "\n",
              "  [theme=dark] .colab-df-quickchart {\n",
              "      --bg-color: #3B4455;\n",
              "      --fill-color: #D2E3FC;\n",
              "      --hover-bg-color: #434B5C;\n",
              "      --hover-fill-color: #FFFFFF;\n",
              "      --disabled-bg-color: #3B4455;\n",
              "      --disabled-fill-color: #666;\n",
              "  }\n",
              "\n",
              "  .colab-df-quickchart {\n",
              "    background-color: var(--bg-color);\n",
              "    border: none;\n",
              "    border-radius: 50%;\n",
              "    cursor: pointer;\n",
              "    display: none;\n",
              "    fill: var(--fill-color);\n",
              "    height: 32px;\n",
              "    padding: 0;\n",
              "    width: 32px;\n",
              "  }\n",
              "\n",
              "  .colab-df-quickchart:hover {\n",
              "    background-color: var(--hover-bg-color);\n",
              "    box-shadow: 0 1px 2px rgba(60, 64, 67, 0.3), 0 1px 3px 1px rgba(60, 64, 67, 0.15);\n",
              "    fill: var(--button-hover-fill-color);\n",
              "  }\n",
              "\n",
              "  .colab-df-quickchart-complete:disabled,\n",
              "  .colab-df-quickchart-complete:disabled:hover {\n",
              "    background-color: var(--disabled-bg-color);\n",
              "    fill: var(--disabled-fill-color);\n",
              "    box-shadow: none;\n",
              "  }\n",
              "\n",
              "  .colab-df-spinner {\n",
              "    border: 2px solid var(--fill-color);\n",
              "    border-color: transparent;\n",
              "    border-bottom-color: var(--fill-color);\n",
              "    animation:\n",
              "      spin 1s steps(1) infinite;\n",
              "  }\n",
              "\n",
              "  @keyframes spin {\n",
              "    0% {\n",
              "      border-color: transparent;\n",
              "      border-bottom-color: var(--fill-color);\n",
              "      border-left-color: var(--fill-color);\n",
              "    }\n",
              "    20% {\n",
              "      border-color: transparent;\n",
              "      border-left-color: var(--fill-color);\n",
              "      border-top-color: var(--fill-color);\n",
              "    }\n",
              "    30% {\n",
              "      border-color: transparent;\n",
              "      border-left-color: var(--fill-color);\n",
              "      border-top-color: var(--fill-color);\n",
              "      border-right-color: var(--fill-color);\n",
              "    }\n",
              "    40% {\n",
              "      border-color: transparent;\n",
              "      border-right-color: var(--fill-color);\n",
              "      border-top-color: var(--fill-color);\n",
              "    }\n",
              "    60% {\n",
              "      border-color: transparent;\n",
              "      border-right-color: var(--fill-color);\n",
              "    }\n",
              "    80% {\n",
              "      border-color: transparent;\n",
              "      border-right-color: var(--fill-color);\n",
              "      border-bottom-color: var(--fill-color);\n",
              "    }\n",
              "    90% {\n",
              "      border-color: transparent;\n",
              "      border-bottom-color: var(--fill-color);\n",
              "    }\n",
              "  }\n",
              "</style>\n",
              "\n",
              "  <script>\n",
              "    async function quickchart(key) {\n",
              "      const quickchartButtonEl =\n",
              "        document.querySelector('#' + key + ' button');\n",
              "      quickchartButtonEl.disabled = true;  // To prevent multiple clicks.\n",
              "      quickchartButtonEl.classList.add('colab-df-spinner');\n",
              "      try {\n",
              "        const charts = await google.colab.kernel.invokeFunction(\n",
              "            'suggestCharts', [key], {});\n",
              "      } catch (error) {\n",
              "        console.error('Error during call to suggestCharts:', error);\n",
              "      }\n",
              "      quickchartButtonEl.classList.remove('colab-df-spinner');\n",
              "      quickchartButtonEl.classList.add('colab-df-quickchart-complete');\n",
              "    }\n",
              "    (() => {\n",
              "      let quickchartButtonEl =\n",
              "        document.querySelector('#df-b3dfdf8b-c24d-4f55-b07e-ac9b8c23eca6 button');\n",
              "      quickchartButtonEl.style.display =\n",
              "        google.colab.kernel.accessAllowed ? 'block' : 'none';\n",
              "    })();\n",
              "  </script>\n",
              "</div>\n",
              "\n",
              "    </div>\n",
              "  </div>\n"
            ],
            "application/vnd.google.colaboratory.intrinsic+json": {
              "type": "dataframe",
              "variable_name": "test_df",
              "summary": "{\n  \"name\": \"test_df\",\n  \"rows\": 9673,\n  \"fields\": [\n    {\n      \"column\": \"question\",\n      \"properties\": {\n        \"dtype\": \"category\",\n        \"num_unique_values\": 107,\n        \"samples\": [\n          \"is there a teal shape?\",\n          \"is there a brown shape?\",\n          \"is there not a black shape in the image?\"\n        ],\n        \"semantic_type\": \"\",\n        \"description\": \"\"\n      }\n    },\n    {\n      \"column\": \"answer\",\n      \"properties\": {\n        \"dtype\": \"number\",\n        \"std\": 4,\n        \"min\": 0,\n        \"max\": 12,\n        \"num_unique_values\": 13,\n        \"samples\": [\n          5,\n          7,\n          9\n        ],\n        \"semantic_type\": \"\",\n        \"description\": \"\"\n      }\n    },\n    {\n      \"column\": \"image_path\",\n      \"properties\": {\n        \"dtype\": \"category\",\n        \"num_unique_values\": 1000,\n        \"samples\": [\n          \"/usr/local/lib/python3.10/dist-packages/easy_vqa/data/test/images/521.png\",\n          \"/usr/local/lib/python3.10/dist-packages/easy_vqa/data/test/images/737.png\",\n          \"/usr/local/lib/python3.10/dist-packages/easy_vqa/data/test/images/740.png\"\n        ],\n        \"semantic_type\": \"\",\n        \"description\": \"\"\n      }\n    }\n  ]\n}"
            }
          },
          "metadata": {},
          "execution_count": 14
        }
      ],
      "source": [
        "# Generate a Test dataframe\n",
        "\n",
        "import pandas as pd\n",
        "\n",
        "image_paths = [f\"/usr/local/lib/python3.10/dist-packages/easy_vqa/data/test/images/{image_id}.png\" for image_id in test_image_ids]\n",
        "test_answer_labels = [label2Index[answer] for answer in test_answers]\n",
        "\n",
        "test_df = pd.DataFrame({'question': test_questions, 'answer': test_answer_labels, 'image_path': image_paths})\n",
        "test_df.head()"
      ]
    },
    {
      "cell_type": "code",
      "execution_count": null,
      "metadata": {
        "id": "iRSyxG87G_Ab"
      },
      "outputs": [],
      "source": [
        "import os\n",
        "import numpy as np\n",
        "import tensorflow as tf\n",
        "from tensorflow import keras"
      ]
    },
    {
      "cell_type": "code",
      "execution_count": null,
      "metadata": {
        "colab": {
          "base_uri": "https://localhost:8080/"
        },
        "id": "KYPwHpN8HCN4",
        "outputId": "88935916-9251-4408-daf9-d6f7dbe127bd"
      },
      "outputs": [
        {
          "output_type": "execute_result",
          "data": {
            "text/plain": [
              "(38575, 64, 64, 3)"
            ]
          },
          "metadata": {},
          "execution_count": 16
        }
      ],
      "source": [
        "train_image_dir = \"/usr/local/lib/python3.10/dist-packages/easy_vqa/data/train/images\"\n",
        "\n",
        "image_map = dict()\n",
        "\n",
        "IMAGE_SHAPE = (64, 64)\n",
        "BATCH_SIZE = 32\n",
        "\n",
        "def load_image(image_path):\n",
        "  image = tf.io.read_file(image_path)\n",
        "  image = tf.image.decode_jpeg(image, channels=3)\n",
        "  image = tf.image.resize(image, IMAGE_SHAPE)\n",
        "  image = tf.cast(image, tf.float32) / 255.0\n",
        "  return image\n",
        "\n",
        "train_images = []\n",
        "\n",
        "for image_id in train_image_ids:\n",
        "  if image_id not in image_map:\n",
        "    image_path = os.path.join(train_image_dir, f\"{image_id}.png\")\n",
        "    image = load_image(image_path)\n",
        "    image_map[image_id] = image\n",
        "\n",
        "  # Appending the arrays\n",
        "  train_images.append(image_map[image_id]) # appending image array\n",
        "\n",
        "train_images = np.array(train_images)\n",
        "train_images.shape"
      ]
    },
    {
      "cell_type": "code",
      "execution_count": null,
      "metadata": {
        "colab": {
          "base_uri": "https://localhost:8080/"
        },
        "id": "e9UkKTAJHICi",
        "outputId": "120ee75b-a89a-477c-c8c7-f93e8b77909c"
      },
      "outputs": [
        {
          "output_type": "execute_result",
          "data": {
            "text/plain": [
              "(9673, 64, 64, 3)"
            ]
          },
          "metadata": {},
          "execution_count": 17
        }
      ],
      "source": [
        "test_image_dir = \"/usr/local/lib/python3.10/dist-packages/easy_vqa/data/test/images\"\n",
        "\n",
        "test_image_map = dict()\n",
        "\n",
        "test_images = []\n",
        "\n",
        "for image_id in test_image_ids:\n",
        "  if image_id not in test_image_map:\n",
        "    image_path = os.path.join(train_image_dir, f\"{image_id}.png\")\n",
        "    image = load_image(image_path)\n",
        "    test_image_map[image_id] = image\n",
        "\n",
        "  # Appending the arrays\n",
        "  test_images.append(test_image_map[image_id]) # appending image array\n",
        "\n",
        "test_images = np.array(test_images)\n",
        "test_images.shape"
      ]
    },
    {
      "cell_type": "code",
      "execution_count": null,
      "metadata": {
        "colab": {
          "base_uri": "https://localhost:8080/"
        },
        "id": "6Q2AFDQ0HRD3",
        "outputId": "70c20970-266d-4033-f4e6-e7fbe311d4ad"
      },
      "outputs": [
        {
          "output_type": "execute_result",
          "data": {
            "text/plain": [
              "['what is the blue shape?',\n",
              " 'what color is the shape?',\n",
              " 'does the image contain a rectangle?',\n",
              " 'is there a triangle in the image?',\n",
              " 'is there a black shape?',\n",
              " 'does the image not contain a gray shape?',\n",
              " 'is there a red shape in the image?',\n",
              " 'does the image not contain a red shape?',\n",
              " 'is there not a blue shape?',\n",
              " 'is there not a blue shape in the image?']"
            ]
          },
          "metadata": {},
          "execution_count": 18
        }
      ],
      "source": [
        "train_questions = list(train_df['question'].values)\n",
        "\n",
        "train_questions[:10]"
      ]
    },
    {
      "cell_type": "code",
      "execution_count": null,
      "metadata": {
        "colab": {
          "base_uri": "https://localhost:8080/"
        },
        "id": "HAny4o0SHXcO",
        "outputId": "31dc5ab1-3e3d-4190-e6eb-4a2f9e3ad034"
      },
      "outputs": [
        {
          "output_type": "execute_result",
          "data": {
            "text/plain": [
              "(array([ 7, 11,  4, 12, 12,  4, 12,  4, 12, 12]),\n",
              " ['rectangle', 'blue', 'yes', 'no', 'no', 'yes', 'no', 'yes', 'no', 'no'])"
            ]
          },
          "metadata": {},
          "execution_count": 19
        }
      ],
      "source": [
        "train_output_labels = train_df['answer'].values\n",
        "\n",
        "train_output_labels[:10], list(map(lambda x: index2Label[x], train_output_labels))[:10]"
      ]
    },
    {
      "cell_type": "code",
      "execution_count": null,
      "metadata": {
        "colab": {
          "base_uri": "https://localhost:8080/"
        },
        "id": "vkqA9XY5MhmZ",
        "outputId": "06596690-02e2-4d85-fc33-b83c7e3130e2"
      },
      "outputs": [
        {
          "output_type": "execute_result",
          "data": {
            "text/plain": [
              "['what is the red shape?',\n",
              " 'what is the color of the triangle?',\n",
              " 'what is the color of the shape?',\n",
              " 'does the image contain a circle?',\n",
              " 'is there not a black shape in the image?',\n",
              " 'does the image contain a green shape?',\n",
              " 'is a green shape present?',\n",
              " 'is there a blue shape in the image?',\n",
              " 'is no blue shape present?',\n",
              " 'is a yellow shape present?']"
            ]
          },
          "metadata": {},
          "execution_count": 20
        }
      ],
      "source": [
        "test_questions = list(test_df['question'].values)\n",
        "\n",
        "test_questions[:10]"
      ]
    },
    {
      "cell_type": "code",
      "execution_count": null,
      "metadata": {
        "colab": {
          "base_uri": "https://localhost:8080/"
        },
        "id": "cIY_TN3jMlB7",
        "outputId": "a23134b5-3c42-4c43-b1fa-ddd0d14263d9"
      },
      "outputs": [
        {
          "output_type": "execute_result",
          "data": {
            "text/plain": [
              "(9673,)"
            ]
          },
          "metadata": {},
          "execution_count": 21
        }
      ],
      "source": [
        "test_output_labels = test_df['answer'].values\n",
        "\n",
        "test_output_labels.shape"
      ]
    },
    {
      "cell_type": "markdown",
      "metadata": {
        "id": "jGtaczIiMozT"
      },
      "source": [
        "# Create the Model"
      ]
    },
    {
      "cell_type": "markdown",
      "metadata": {
        "id": "eWBfDzKpM6Fb"
      },
      "source": [
        "- Resnet50 as the Image Feature Extraction Layer\n",
        "- BertModel for Question Text Feature Extraction Layer"
      ]
    },
    {
      "cell_type": "code",
      "execution_count": null,
      "metadata": {
        "id": "WZsaGk3voPx0"
      },
      "outputs": [],
      "source": [
        "import numpy as np\n",
        "from PIL import Image\n",
        "import tensorflow as tf\n",
        "from tensorflow.keras.layers import Input, Dense, Concatenate, Dropout, GlobalAveragePooling2D, GlobalAveragePooling1D\n",
        "from tensorflow.keras.models import Model\n",
        "from tensorflow.keras.applications import ResNet50\n",
        "from transformers import TFBertModel, BertTokenizer"
      ]
    },
    {
      "cell_type": "markdown",
      "metadata": {
        "id": "Ad4AIikaPr_M"
      },
      "source": [
        "### Preprocess text Input"
      ]
    },
    {
      "cell_type": "code",
      "execution_count": null,
      "metadata": {
        "id": "m8kWJ44aoXWe"
      },
      "outputs": [],
      "source": [
        "IMG_SHAPE = (64, 64, 3)\n",
        "MAX_QUESTION_LENGTH = 30"
      ]
    },
    {
      "cell_type": "code",
      "execution_count": null,
      "metadata": {
        "colab": {
          "base_uri": "https://localhost:8080/",
          "height": 326,
          "referenced_widgets": [
            "b0c6be1c969d4377843e15a303332ba4",
            "18f514fdd3a24b4a9f75d53d0db1d5ef",
            "25961737f96c4cc7b1e90a3c5203fa45",
            "a94f98f836e64f41b55b53ae6710288a",
            "6f81b62ad1464c7c995ab01ea78cb6d8",
            "2853899eb6bc435daf4bbd63e2071da8",
            "c35a2a743edb4485bfba6cc380f8e8ed",
            "6f33d548678c47be9065dfa25e2859f8",
            "0b1ee913d0cf464594baf4263e5fdc08",
            "a77b51d7984b4e449d11c5dce20bf552",
            "5e1961a5ab5344a9adb275ec86b12541",
            "3a3a3638487641a6a751b4df387fedbe",
            "534f7a032aaa4777bc8eb9d5fa1ab639",
            "5fb60d4039244ea192f5486bb8fc9589",
            "7dc9407368c74a848ef17c72a574e7ed",
            "3c2fd1502c0948ce90d73e0ba2083547",
            "383a27e37a7343ebbe7c8729fb3ccc1b",
            "49711612dd014ebdbf5f4928f86a666b",
            "a7d4f472c6f74543ac7d90ffffcf5789",
            "c3756087f4cc4dada1bd6ca81b919f07",
            "9c2d2d7afc2f4a92af3987c37985d509",
            "3b64dfb346e14816970e24526144cd2f",
            "4c72321c4c064fa286e24ad0dcaf7b3a",
            "623767eb4c364ba3814723e09ea8d728",
            "f12779bc5f7742589c5ec037aab83f4c",
            "33108ab0826f4ca6856ad624e4928776",
            "52bf5cc62ba94db392895cdd4b875d7b",
            "38fb6c56d0ac41818ff08f756cc087da",
            "7ce2929a873d4a4c991c71731f19babd",
            "4cf4b17769384e61a4dc406f424004f8",
            "d88fa666f2ac497e8641de6731a95cef",
            "eb9e97cad3c44319a482e1439359ff56",
            "6cbfc7e0adef459d91e3fa56f7752570",
            "a7752f9179df44d69fdc76d3614e1048",
            "51f7ec59b3044f61b42cda2e78dfdf9b",
            "8490e40d86564d81b88ac83f64c5b96d",
            "97d88e6b5fb64bc19a111ac68e5be71d",
            "65a93a6addb04359b9b57205e36debb6",
            "d74cf5df2e8047a8bc5c6ffc0570728d",
            "2fddc1eca95c4817bd461e675255ea6d",
            "59fe4ad5508f44fba59221d4aba91b4f",
            "d362b48530ad452883e031af7fad84d3",
            "3438f5d5daf9408b9856e471e92b2928",
            "a167b41f25b84442b629954dbb0f7164"
          ]
        },
        "id": "C8rd3L75PfXF",
        "outputId": "e33fe42f-a546-4983-c12c-edd15702edc9"
      },
      "outputs": [
        {
          "output_type": "stream",
          "name": "stderr",
          "text": [
            "/usr/local/lib/python3.10/dist-packages/huggingface_hub/utils/_token.py:89: UserWarning: \n",
            "The secret `HF_TOKEN` does not exist in your Colab secrets.\n",
            "To authenticate with the Hugging Face Hub, create a token in your settings tab (https://huggingface.co/settings/tokens), set it as secret in your Google Colab and restart your session.\n",
            "You will be able to reuse this secret in all of your notebooks.\n",
            "Please note that authentication is recommended but still optional to access public models or datasets.\n",
            "  warnings.warn(\n"
          ]
        },
        {
          "output_type": "display_data",
          "data": {
            "text/plain": [
              "tokenizer_config.json:   0%|          | 0.00/48.0 [00:00<?, ?B/s]"
            ],
            "application/vnd.jupyter.widget-view+json": {
              "version_major": 2,
              "version_minor": 0,
              "model_id": "b0c6be1c969d4377843e15a303332ba4"
            }
          },
          "metadata": {}
        },
        {
          "output_type": "display_data",
          "data": {
            "text/plain": [
              "vocab.txt:   0%|          | 0.00/232k [00:00<?, ?B/s]"
            ],
            "application/vnd.jupyter.widget-view+json": {
              "version_major": 2,
              "version_minor": 0,
              "model_id": "3a3a3638487641a6a751b4df387fedbe"
            }
          },
          "metadata": {}
        },
        {
          "output_type": "display_data",
          "data": {
            "text/plain": [
              "tokenizer.json:   0%|          | 0.00/466k [00:00<?, ?B/s]"
            ],
            "application/vnd.jupyter.widget-view+json": {
              "version_major": 2,
              "version_minor": 0,
              "model_id": "4c72321c4c064fa286e24ad0dcaf7b3a"
            }
          },
          "metadata": {}
        },
        {
          "output_type": "stream",
          "name": "stderr",
          "text": [
            "/usr/local/lib/python3.10/dist-packages/huggingface_hub/file_download.py:1132: FutureWarning: `resume_download` is deprecated and will be removed in version 1.0.0. Downloads always resume when possible. If you want to force a new download, use `force_download=True`.\n",
            "  warnings.warn(\n"
          ]
        },
        {
          "output_type": "display_data",
          "data": {
            "text/plain": [
              "config.json:   0%|          | 0.00/570 [00:00<?, ?B/s]"
            ],
            "application/vnd.jupyter.widget-view+json": {
              "version_major": 2,
              "version_minor": 0,
              "model_id": "a7752f9179df44d69fdc76d3614e1048"
            }
          },
          "metadata": {}
        },
        {
          "output_type": "execute_result",
          "data": {
            "text/plain": [
              "(TensorShape([38575, 30]), TensorShape([38575, 30]))"
            ]
          },
          "metadata": {},
          "execution_count": 24
        }
      ],
      "source": [
        "tokenizer = BertTokenizer.from_pretrained('bert-base-uncased')\n",
        "\n",
        "encoded_input = tokenizer(train_questions, return_tensors='tf', padding=\"max_length\", truncation=True, max_length=MAX_QUESTION_LENGTH)\n",
        "\n",
        "encoded_input.input_ids.shape, encoded_input.attention_mask.shape"
      ]
    },
    {
      "cell_type": "code",
      "execution_count": null,
      "metadata": {
        "id": "yGERjr3DlVMY"
      },
      "outputs": [],
      "source": [
        "input_ids = encoded_input['input_ids']\n",
        "attention_mask = encoded_input['attention_mask']"
      ]
    },
    {
      "cell_type": "code",
      "execution_count": null,
      "metadata": {
        "id": "SEJB0oNVmgL5"
      },
      "outputs": [],
      "source": []
    },
    {
      "cell_type": "code",
      "execution_count": null,
      "metadata": {
        "id": "Fq5SrO39QKEr"
      },
      "outputs": [],
      "source": [
        "import tensorflow as tf\n",
        "from transformers import BertTokenizer, TFBertModel\n",
        "from tensorflow import keras\n",
        "from tensorflow.keras.layers import Dense, Add, Softmax\n",
        "\n",
        "\n",
        "class VQAModel(tf.keras.Model):\n",
        "    def __init__(self, label_size, **kwargs):\n",
        "        super(VQAModel, self).__init__(**kwargs)\n",
        "        self.feature_dim = 512\n",
        "        self.vocab_size = 30522  # BERT's vocabulary size\n",
        "        self.label_size = label_size\n",
        "\n",
        "        # Image processing layers\n",
        "        self.resnet_model = ResNet50(include_top=False, weights='imagenet')\n",
        "        self.resnet_model.trainable = False\n",
        "        self.img_dense1 = Dense(1024, activation='relu')\n",
        "        self.global_avg_pooling2d = GlobalAveragePooling2D()\n",
        "\n",
        "        # Text processing layers\n",
        "        self.bert_model = TFBertModel.from_pretrained('bert-base-uncased')\n",
        "        self.global_avg_pooling1d = GlobalAveragePooling1D()\n",
        "        self.dense_text1 = Dense(self.feature_dim, activation='relu')\n",
        "\n",
        "        # Combine Image and Question Feature and Final Layers\n",
        "        self.dropout1 = Dropout(0.3)\n",
        "        self.dense1 = Dense(64, activation='relu')\n",
        "        self.dropout2 = Dropout(0.3)\n",
        "        self.dense2 = Dense(label_size, activation='softmax')\n",
        "\n",
        "    def call(self, inputs):\n",
        "        image, question, attention_masks = inputs\n",
        "\n",
        "        image_features = self.resnet_model(image)\n",
        "        x = self.global_avg_pooling2d(image_features)\n",
        "\n",
        "        # Tokenize question texts\n",
        "        question_features = self.bert_model(question, attention_mask=attention_masks)[0]\n",
        "        y = self.global_avg_pooling1d(question_features)\n",
        "        y = self.dense_text1(y)\n",
        "\n",
        "        # Combine image and question features\n",
        "        combined = Concatenate()([x, y])\n",
        "        combined = self.dropout1(combined)\n",
        "        combined = self.dense1(combined)\n",
        "        combined = self.dropout2(combined)\n",
        "\n",
        "        outputs = self.dense2(combined)\n",
        "        return outputs\n"
      ]
    },
    {
      "cell_type": "code",
      "source": [],
      "metadata": {
        "id": "68vxnXNN4lcl"
      },
      "execution_count": null,
      "outputs": []
    },
    {
      "cell_type": "code",
      "execution_count": null,
      "metadata": {
        "colab": {
          "base_uri": "https://localhost:8080/"
        },
        "id": "MWGxx0IvEZxb",
        "outputId": "cf2af18c-e473-42de-af43-2b6efffb78f9"
      },
      "outputs": [
        {
          "output_type": "stream",
          "name": "stderr",
          "text": [
            "Some weights of the PyTorch model were not used when initializing the TF 2.0 model TFBertModel: ['cls.predictions.transform.dense.bias', 'cls.predictions.transform.LayerNorm.bias', 'cls.seq_relationship.weight', 'cls.predictions.transform.dense.weight', 'cls.seq_relationship.bias', 'cls.predictions.transform.LayerNorm.weight', 'cls.predictions.bias']\n",
            "- This IS expected if you are initializing TFBertModel from a PyTorch model trained on another task or with another architecture (e.g. initializing a TFBertForSequenceClassification model from a BertForPreTraining model).\n",
            "- This IS NOT expected if you are initializing TFBertModel from a PyTorch model that you expect to be exactly identical (e.g. initializing a TFBertForSequenceClassification model from a BertForSequenceClassification model).\n",
            "All the weights of TFBertModel were initialized from the PyTorch model.\n",
            "If your task is similar to the task the model of the checkpoint was trained on, you can already use TFBertModel for predictions without further training.\n"
          ]
        }
      ],
      "source": [
        "num_classes = 13\n",
        "model = VQAModel(label_size=num_classes)"
      ]
    },
    {
      "cell_type": "code",
      "execution_count": null,
      "metadata": {
        "id": "vvYPLYaHEoC8"
      },
      "outputs": [],
      "source": [
        "model.compile(optimizer='adam', loss='sparse_categorical_crossentropy', metrics=['accuracy'])"
      ]
    },
    {
      "cell_type": "code",
      "execution_count": null,
      "metadata": {
        "id": "kYX7MkFFOIXa",
        "colab": {
          "base_uri": "https://localhost:8080/"
        },
        "outputId": "389dbbbf-ff14-4539-d364-c2edf471f927"
      },
      "outputs": [
        {
          "output_type": "stream",
          "name": "stdout",
          "text": [
            "9575\n"
          ]
        }
      ],
      "source": [
        "# Experiment data\n",
        "num_samples = 29000\n",
        "rest = len(train_images) - num_samples\n",
        "print(rest)\n",
        "\n",
        "# Image data\n",
        "image_data = train_images[:num_samples]\n",
        "validation_image_data = train_images[num_samples: num_samples+rest]\n",
        "\n",
        "# Text data\n",
        "encoded_questions_input_ids = encoded_input['input_ids'][:num_samples]\n",
        "encoded_questions_attention_masks = encoded_input['attention_mask'][:num_samples]\n",
        "\n",
        "# Validation data\n",
        "val_encoded_questions_input_ids = encoded_input['input_ids'][num_samples: num_samples+rest]\n",
        "val_encoded_questions_attention_masks = encoded_input['attention_mask'][num_samples: num_samples+rest]"
      ]
    },
    {
      "cell_type": "code",
      "execution_count": null,
      "metadata": {
        "id": "ER8KxqJgidNt"
      },
      "outputs": [],
      "source": [
        "# Experiment Labels\n",
        "\n",
        "output_labels = train_output_labels[:num_samples]\n",
        "validation_output_labels = train_output_labels[num_samples: num_samples+rest]"
      ]
    },
    {
      "cell_type": "code",
      "execution_count": null,
      "metadata": {
        "id": "fn3dqgb8jvlE"
      },
      "outputs": [],
      "source": [
        "callback = keras.callbacks.EarlyStopping(monitor='loss', patience=3)"
      ]
    },
    {
      "cell_type": "code",
      "source": [
        "len(image_data), len(encoded_questions_input_ids), len(encoded_questions_attention_masks), len(output_labels)"
      ],
      "metadata": {
        "colab": {
          "base_uri": "https://localhost:8080/"
        },
        "id": "1Qs8hI4huOUn",
        "outputId": "584a7a27-408b-44e6-8253-00f9a4ed7043"
      },
      "execution_count": null,
      "outputs": [
        {
          "output_type": "execute_result",
          "data": {
            "text/plain": [
              "(29000, 29000, 29000, 29000)"
            ]
          },
          "metadata": {},
          "execution_count": 67
        }
      ]
    },
    {
      "cell_type": "code",
      "source": [
        "len(validation_image_data), len(val_encoded_questions_input_ids), len(val_encoded_questions_attention_masks), len(validation_output_labels)"
      ],
      "metadata": {
        "colab": {
          "base_uri": "https://localhost:8080/"
        },
        "id": "zG9p9Gh3uYJZ",
        "outputId": "ff6558b4-716d-4789-9ffd-61bb35e276d3"
      },
      "execution_count": null,
      "outputs": [
        {
          "output_type": "execute_result",
          "data": {
            "text/plain": [
              "(9575, 9575, 9575, 9575)"
            ]
          },
          "metadata": {},
          "execution_count": 68
        }
      ]
    },
    {
      "cell_type": "code",
      "execution_count": null,
      "metadata": {
        "colab": {
          "base_uri": "https://localhost:8080/"
        },
        "id": "3LtoAoGpF-pF",
        "outputId": "f98a792c-2b84-4d07-d7c1-238a72615ca3"
      },
      "outputs": [
        {
          "output_type": "stream",
          "name": "stdout",
          "text": [
            "Epoch 1/5\n"
          ]
        },
        {
          "output_type": "stream",
          "name": "stderr",
          "text": [
            "WARNING:tensorflow:Gradients do not exist for variables ['tf_bert_model_1/bert/pooler/dense/kernel:0', 'tf_bert_model_1/bert/pooler/dense/bias:0'] when minimizing the loss. If you're using `model.compile()`, did you forget to provide a `loss` argument?\n",
            "WARNING:tensorflow:Gradients do not exist for variables ['tf_bert_model_1/bert/pooler/dense/kernel:0', 'tf_bert_model_1/bert/pooler/dense/bias:0'] when minimizing the loss. If you're using `model.compile()`, did you forget to provide a `loss` argument?\n",
            "WARNING:tensorflow:Gradients do not exist for variables ['tf_bert_model_1/bert/pooler/dense/kernel:0', 'tf_bert_model_1/bert/pooler/dense/bias:0'] when minimizing the loss. If you're using `model.compile()`, did you forget to provide a `loss` argument?\n",
            "WARNING:tensorflow:Gradients do not exist for variables ['tf_bert_model_1/bert/pooler/dense/kernel:0', 'tf_bert_model_1/bert/pooler/dense/bias:0'] when minimizing the loss. If you're using `model.compile()`, did you forget to provide a `loss` argument?\n"
          ]
        },
        {
          "output_type": "stream",
          "name": "stdout",
          "text": [
            "907/907 [==============================] - 177s 136ms/step - loss: 1.7581 - accuracy: 0.3625 - val_loss: 1.6586 - val_accuracy: 0.3678\n",
            "Epoch 2/5\n",
            "907/907 [==============================] - 112s 123ms/step - loss: 1.6855 - accuracy: 0.3684 - val_loss: 1.6232 - val_accuracy: 0.3678\n",
            "Epoch 3/5\n",
            "907/907 [==============================] - 112s 124ms/step - loss: 1.6580 - accuracy: 0.3714 - val_loss: 1.6053 - val_accuracy: 0.3697\n",
            "Epoch 4/5\n",
            "907/907 [==============================] - 113s 124ms/step - loss: 1.6359 - accuracy: 0.3672 - val_loss: 1.5904 - val_accuracy: 0.3646\n",
            "Epoch 5/5\n",
            "907/907 [==============================] - 113s 124ms/step - loss: 1.6241 - accuracy: 0.3704 - val_loss: 1.5748 - val_accuracy: 0.3709\n"
          ]
        }
      ],
      "source": [
        "# Train the Model\n",
        "\n",
        "history = model.fit([image_data, encoded_questions_input_ids, encoded_questions_attention_masks], output_labels,\n",
        "                    validation_data=([validation_image_data, val_encoded_questions_input_ids, val_encoded_questions_attention_masks], validation_output_labels),\n",
        "                    epochs=5,\n",
        "                    batch_size=32,\n",
        "                    callbacks=[callback])\n"
      ]
    },
    {
      "cell_type": "markdown",
      "source": [
        "#Inference"
      ],
      "metadata": {
        "id": "IwWvGvHeo3LR"
      }
    },
    {
      "cell_type": "code",
      "source": [
        "test_encoded_questions = tokenizer(test_questions, return_tensors='tf', padding=\"max_length\", truncation=True, max_length=MAX_QUESTION_LENGTH)\n",
        "\n",
        "test_encoded_questions.input_ids.shape, test_encoded_questions.attention_mask.shape"
      ],
      "metadata": {
        "colab": {
          "base_uri": "https://localhost:8080/"
        },
        "id": "oS8-cVoKqWs0",
        "outputId": "ff606bca-7730-4765-e48a-d0bc65ec4eb6"
      },
      "execution_count": null,
      "outputs": [
        {
          "output_type": "execute_result",
          "data": {
            "text/plain": [
              "(TensorShape([9673, 30]), TensorShape([9673, 30]))"
            ]
          },
          "metadata": {},
          "execution_count": 70
        }
      ]
    },
    {
      "cell_type": "code",
      "source": [
        "result = model.predict([test_images, test_encoded_questions.input_ids, test_encoded_questions.attention_mask])"
      ],
      "metadata": {
        "colab": {
          "base_uri": "https://localhost:8080/"
        },
        "id": "Dyil0Jplo6KU",
        "outputId": "52a40946-759b-4349-a115-3d24d326eb29"
      },
      "execution_count": null,
      "outputs": [
        {
          "output_type": "stream",
          "name": "stdout",
          "text": [
            "303/303 [==============================] - 21s 41ms/step\n"
          ]
        }
      ]
    },
    {
      "cell_type": "code",
      "source": [
        "# Apply argmax to get the predicted class\n",
        "predictions = np.argmax(result, axis=-1)\n",
        "\n",
        "print(f\"For {predictions.shape} test examples, Predicted Class: {predictions}\")"
      ],
      "metadata": {
        "colab": {
          "base_uri": "https://localhost:8080/"
        },
        "id": "eYhGYfxko-yK",
        "outputId": "5aad6265-1718-4711-c75a-faf9f122d3e0"
      },
      "execution_count": null,
      "outputs": [
        {
          "output_type": "stream",
          "name": "stdout",
          "text": [
            "For (9673,) test examples, Predicted Class: [12 12 12 ...  4  4  4]\n"
          ]
        }
      ]
    },
    {
      "cell_type": "code",
      "source": [
        "# Example true labels\n",
        "true_labels = np.array(test_answer_labels) # Assuming one-hot encoded labels for 3 classes\n",
        "\n",
        "# Calculate loss\n",
        "loss_fn = tf.keras.losses.SparseCategoricalCrossentropy()\n",
        "loss = loss_fn(true_labels, result).numpy()\n",
        "print(\"Loss:\", loss)\n",
        "\n",
        "# Calculate accuracy\n",
        "accuracy_fn = tf.keras.metrics.SparseCategoricalAccuracy()\n",
        "accuracy_fn.update_state(true_labels, result)\n",
        "accuracy = accuracy_fn.result().numpy()\n",
        "print(\"Accuracy:\", accuracy)"
      ],
      "metadata": {
        "colab": {
          "base_uri": "https://localhost:8080/"
        },
        "id": "hZQqL9UrpTiC",
        "outputId": "c7c3fd04-cab5-44ef-e4c5-0138a7aea417"
      },
      "execution_count": null,
      "outputs": [
        {
          "output_type": "stream",
          "name": "stdout",
          "text": [
            "Loss: 1.8066238\n",
            "Accuracy: 0.3739274\n"
          ]
        }
      ]
    },
    {
      "cell_type": "code",
      "source": [
        "# Plot accuracy and loss\n",
        "\n",
        "import matplotlib.pyplot as plt\n",
        "\n",
        "plt.figure(figsize=(12, 4))\n",
        "\n",
        "# Plot accuracy\n",
        "plt.subplot(1, 2, 1)\n",
        "plt.plot(history.history['accuracy'], label='accuracy')\n",
        "plt.plot(history.history['val_accuracy'], label='val_accuracy')\n",
        "plt.xlabel('Epoch')\n",
        "plt.ylabel('Accuracy')\n",
        "plt.title('Model Accuracy')\n",
        "plt.legend()\n",
        "\n",
        "# Plot loss\n",
        "plt.subplot(1, 2, 2)\n",
        "plt.plot(history.history['loss'], label='loss')\n",
        "plt.plot(history.history['val_loss'], label='val_loss')\n",
        "plt.xlabel('Epoch')\n",
        "plt.ylabel('Loss')\n",
        "plt.title('Model Loss')\n",
        "plt.legend()\n",
        "\n",
        "plt.show()"
      ],
      "metadata": {
        "colab": {
          "base_uri": "https://localhost:8080/",
          "height": 325
        },
        "id": "Tbi7_9IFpYW4",
        "outputId": "f07f1540-31a6-4232-a6b7-27f4ae909604"
      },
      "execution_count": null,
      "outputs": [
        {
          "output_type": "display_data",
          "data": {
            "text/plain": [
              "<Figure size 1200x400 with 2 Axes>"
            ],
            "image/png": "[encoded data removed]"
          },
          "metadata": {}
        }
      ]
    },
    {
      "cell_type": "code",
      "source": [
        "model.summary()"
      ],
      "metadata": {
        "colab": {
          "base_uri": "https://localhost:8080/"
        },
        "id": "_vxy3oWK4ngz",
        "outputId": "77568b9d-dacc-4fc6-b39e-0e20198fc28e"
      },
      "execution_count": null,
      "outputs": [
        {
          "output_type": "stream",
          "name": "stdout",
          "text": [
            "Model: \"vqa_model_1\"\n",
            "_________________________________________________________________\n",
            " Layer (type)                Output Shape              Param #   \n",
            "=================================================================\n",
            " resnet50 (Functional)       (None, None, None, 2048   23587712  \n",
            "                             )                                   \n",
            "                                                                 \n",
            " dense_3 (Dense)             multiple                  0 (unused)\n",
            "                                                                 \n",
            " global_average_pooling2d_1  multiple                  0         \n",
            "  (GlobalAveragePooling2D)                                       \n",
            "                                                                 \n",
            " global_average_pooling1d_1  multiple                  0         \n",
            "  (GlobalAveragePooling1D)                                       \n",
            "                                                                 \n",
            " dense_4 (Dense)             multiple                  393728    \n",
            "                                                                 \n",
            " dropout_2 (Dropout)         multiple                  0         \n",
            "                                                                 \n",
            " dense_5 (Dense)             multiple                  163904    \n",
            "                                                                 \n",
            " dropout_3 (Dropout)         multiple                  0         \n",
            "                                                                 \n",
            " dense_6 (Dense)             multiple                  845       \n",
            "                                                                 \n",
            "=================================================================\n",
            "Total params: 133628429 (509.75 MB)\n",
            "Trainable params: 110040717 (419.77 MB)\n",
            "Non-trainable params: 23587712 (89.98 MB)\n",
            "_________________________________________________________________\n"
          ]
        }
      ]
    }
  ],
  "metadata": {
    "colab": {
      "provenance": [],
      "machine_shape": "hm",
      "gpuType": "L4"
    },
    "kernelspec": {
      "display_name": "Python 3",
      "name": "python3"
    },
    "language_info": {
      "name": "python"
    },
    "widgets": {
      "application/vnd.jupyter.widget-state+json": {
        "b0c6be1c969d4377843e15a303332ba4": {
          "model_module": "@jupyter-widgets/controls",
          "model_name": "HBoxModel",
          "model_module_version": "1.5.0",
          "state": {
            "_dom_classes": [],
            "_model_module": "@jupyter-widgets/controls",
            "_model_module_version": "1.5.0",
            "_model_name": "HBoxModel",
            "_view_count": null,
            "_view_module": "@jupyter-widgets/controls",
            "_view_module_version": "1.5.0",
            "_view_name": "HBoxView",
            "box_style": "",
            "children": [
              "IPY_MODEL_18f514fdd3a24b4a9f75d53d0db1d5ef",
              "IPY_MODEL_25961737f96c4cc7b1e90a3c5203fa45",
              "IPY_MODEL_a94f98f836e64f41b55b53ae6710288a"
            ],
            "layout": "IPY_MODEL_6f81b62ad1464c7c995ab01ea78cb6d8"
          }
        },
        "18f514fdd3a24b4a9f75d53d0db1d5ef": {
          "model_module": "@jupyter-widgets/controls",
          "model_name": "HTMLModel",
          "model_module_version": "1.5.0",
          "state": {
            "_dom_classes": [],
            "_model_module": "@jupyter-widgets/controls",
            "_model_module_version": "1.5.0",
            "_model_name": "HTMLModel",
            "_view_count": null,
            "_view_module": "@jupyter-widgets/controls",
            "_view_module_version": "1.5.0",
            "_view_name": "HTMLView",
            "description": "",
            "description_tooltip": null,
            "layout": "IPY_MODEL_2853899eb6bc435daf4bbd63e2071da8",
            "placeholder": "​",
            "style": "IPY_MODEL_c35a2a743edb4485bfba6cc380f8e8ed",
            "value": "tokenizer_config.json: 100%"
          }
        },
        "25961737f96c4cc7b1e90a3c5203fa45": {
          "model_module": "@jupyter-widgets/controls",
          "model_name": "FloatProgressModel",
          "model_module_version": "1.5.0",
          "state": {
            "_dom_classes": [],
            "_model_module": "@jupyter-widgets/controls",
            "_model_module_version": "1.5.0",
            "_model_name": "FloatProgressModel",
            "_view_count": null,
            "_view_module": "@jupyter-widgets/controls",
            "_view_module_version": "1.5.0",
            "_view_name": "ProgressView",
            "bar_style": "success",
            "description": "",
            "description_tooltip": null,
            "layout": "IPY_MODEL_6f33d548678c47be9065dfa25e2859f8",
            "max": 48,
            "min": 0,
            "orientation": "horizontal",
            "style": "IPY_MODEL_0b1ee913d0cf464594baf4263e5fdc08",
            "value": 48
          }
        },
        "a94f98f836e64f41b55b53ae6710288a": {
          "model_module": "@jupyter-widgets/controls",
          "model_name": "HTMLModel",
          "model_module_version": "1.5.0",
          "state": {
            "_dom_classes": [],
            "_model_module": "@jupyter-widgets/controls",
            "_model_module_version": "1.5.0",
            "_model_name": "HTMLModel",
            "_view_count": null,
            "_view_module": "@jupyter-widgets/controls",
            "_view_module_version": "1.5.0",
            "_view_name": "HTMLView",
            "description": "",
            "description_tooltip": null,
            "layout": "IPY_MODEL_a77b51d7984b4e449d11c5dce20bf552",
            "placeholder": "​",
            "style": "IPY_MODEL_5e1961a5ab5344a9adb275ec86b12541",
            "value": " 48.0/48.0 [00:00&lt;00:00, 3.72kB/s]"
          }
        },
        "6f81b62ad1464c7c995ab01ea78cb6d8": {
          "model_module": "@jupyter-widgets/base",
          "model_name": "LayoutModel",
          "model_module_version": "1.2.0",
          "state": {
            "_model_module": "@jupyter-widgets/base",
            "_model_module_version": "1.2.0",
            "_model_name": "LayoutModel",
            "_view_count": null,
            "_view_module": "@jupyter-widgets/base",
            "_view_module_version": "1.2.0",
            "_view_name": "LayoutView",
            "align_content": null,
            "align_items": null,
            "align_self": null,
            "border": null,
            "bottom": null,
            "display": null,
            "flex": null,
            "flex_flow": null,
            "grid_area": null,
            "grid_auto_columns": null,
            "grid_auto_flow": null,
            "grid_auto_rows": null,
            "grid_column": null,
            "grid_gap": null,
            "grid_row": null,
            "grid_template_areas": null,
            "grid_template_columns": null,
            "grid_template_rows": null,
            "height": null,
            "justify_content": null,
            "justify_items": null,
            "left": null,
            "margin": null,
            "max_height": null,
            "max_width": null,
            "min_height": null,
            "min_width": null,
            "object_fit": null,
            "object_position": null,
            "order": null,
            "overflow": null,
            "overflow_x": null,
            "overflow_y": null,
            "padding": null,
            "right": null,
            "top": null,
            "visibility": null,
            "width": null
          }
        },
        "2853899eb6bc435daf4bbd63e2071da8": {
          "model_module": "@jupyter-widgets/base",
          "model_name": "LayoutModel",
          "model_module_version": "1.2.0",
          "state": {
            "_model_module": "@jupyter-widgets/base",
            "_model_module_version": "1.2.0",
            "_model_name": "LayoutModel",
            "_view_count": null,
            "_view_module": "@jupyter-widgets/base",
            "_view_module_version": "1.2.0",
            "_view_name": "LayoutView",
            "align_content": null,
            "align_items": null,
            "align_self": null,
            "border": null,
            "bottom": null,
            "display": null,
            "flex": null,
            "flex_flow": null,
            "grid_area": null,
            "grid_auto_columns": null,
            "grid_auto_flow": null,
            "grid_auto_rows": null,
            "grid_column": null,
            "grid_gap": null,
            "grid_row": null,
            "grid_template_areas": null,
            "grid_template_columns": null,
            "grid_template_rows": null,
            "height": null,
            "justify_content": null,
            "justify_items": null,
            "left": null,
            "margin": null,
            "max_height": null,
            "max_width": null,
            "min_height": null,
            "min_width": null,
            "object_fit": null,
            "object_position": null,
            "order": null,
            "overflow": null,
            "overflow_x": null,
            "overflow_y": null,
            "padding": null,
            "right": null,
            "top": null,
            "visibility": null,
            "width": null
          }
        },
        "c35a2a743edb4485bfba6cc380f8e8ed": {
          "model_module": "@jupyter-widgets/controls",
          "model_name": "DescriptionStyleModel",
          "model_module_version": "1.5.0",
          "state": {
            "_model_module": "@jupyter-widgets/controls",
            "_model_module_version": "1.5.0",
            "_model_name": "DescriptionStyleModel",
            "_view_count": null,
            "_view_module": "@jupyter-widgets/base",
            "_view_module_version": "1.2.0",
            "_view_name": "StyleView",
            "description_width": ""
          }
        },
        "6f33d548678c47be9065dfa25e2859f8": {
          "model_module": "@jupyter-widgets/base",
          "model_name": "LayoutModel",
          "model_module_version": "1.2.0",
          "state": {
            "_model_module": "@jupyter-widgets/base",
            "_model_module_version": "1.2.0",
            "_model_name": "LayoutModel",
            "_view_count": null,
            "_view_module": "@jupyter-widgets/base",
            "_view_module_version": "1.2.0",
            "_view_name": "LayoutView",
            "align_content": null,
            "align_items": null,
            "align_self": null,
            "border": null,
            "bottom": null,
            "display": null,
            "flex": null,
            "flex_flow": null,
            "grid_area": null,
            "grid_auto_columns": null,
            "grid_auto_flow": null,
            "grid_auto_rows": null,
            "grid_column": null,
            "grid_gap": null,
            "grid_row": null,
            "grid_template_areas": null,
            "grid_template_columns": null,
            "grid_template_rows": null,
            "height": null,
            "justify_content": null,
            "justify_items": null,
            "left": null,
            "margin": null,
            "max_height": null,
            "max_width": null,
            "min_height": null,
            "min_width": null,
            "object_fit": null,
            "object_position": null,
            "order": null,
            "overflow": null,
            "overflow_x": null,
            "overflow_y": null,
            "padding": null,
            "right": null,
            "top": null,
            "visibility": null,
            "width": null
          }
        },
        "0b1ee913d0cf464594baf4263e5fdc08": {
          "model_module": "@jupyter-widgets/controls",
          "model_name": "ProgressStyleModel",
          "model_module_version": "1.5.0",
          "state": {
            "_model_module": "@jupyter-widgets/controls",
            "_model_module_version": "1.5.0",
            "_model_name": "ProgressStyleModel",
            "_view_count": null,
            "_view_module": "@jupyter-widgets/base",
            "_view_module_version": "1.2.0",
            "_view_name": "StyleView",
            "bar_color": null,
            "description_width": ""
          }
        },
        "a77b51d7984b4e449d11c5dce20bf552": {
          "model_module": "@jupyter-widgets/base",
          "model_name": "LayoutModel",
          "model_module_version": "1.2.0",
          "state": {
            "_model_module": "@jupyter-widgets/base",
            "_model_module_version": "1.2.0",
            "_model_name": "LayoutModel",
            "_view_count": null,
            "_view_module": "@jupyter-widgets/base",
            "_view_module_version": "1.2.0",
            "_view_name": "LayoutView",
            "align_content": null,
            "align_items": null,
            "align_self": null,
            "border": null,
            "bottom": null,
            "display": null,
            "flex": null,
            "flex_flow": null,
            "grid_area": null,
            "grid_auto_columns": null,
            "grid_auto_flow": null,
            "grid_auto_rows": null,
            "grid_column": null,
            "grid_gap": null,
            "grid_row": null,
            "grid_template_areas": null,
            "grid_template_columns": null,
            "grid_template_rows": null,
            "height": null,
            "justify_content": null,
            "justify_items": null,
            "left": null,
            "margin": null,
            "max_height": null,
            "max_width": null,
            "min_height": null,
            "min_width": null,
            "object_fit": null,
            "object_position": null,
            "order": null,
            "overflow": null,
            "overflow_x": null,
            "overflow_y": null,
            "padding": null,
            "right": null,
            "top": null,
            "visibility": null,
            "width": null
          }
        },
        "5e1961a5ab5344a9adb275ec86b12541": {
          "model_module": "@jupyter-widgets/controls",
          "model_name": "DescriptionStyleModel",
          "model_module_version": "1.5.0",
          "state": {
            "_model_module": "@jupyter-widgets/controls",
            "_model_module_version": "1.5.0",
            "_model_name": "DescriptionStyleModel",
            "_view_count": null,
            "_view_module": "@jupyter-widgets/base",
            "_view_module_version": "1.2.0",
            "_view_name": "StyleView",
            "description_width": ""
          }
        },
        "3a3a3638487641a6a751b4df387fedbe": {
          "model_module": "@jupyter-widgets/controls",
          "model_name": "HBoxModel",
          "model_module_version": "1.5.0",
          "state": {
            "_dom_classes": [],
            "_model_module": "@jupyter-widgets/controls",
            "_model_module_version": "1.5.0",
            "_model_name": "HBoxModel",
            "_view_count": null,
            "_view_module": "@jupyter-widgets/controls",
            "_view_module_version": "1.5.0",
            "_view_name": "HBoxView",
            "box_style": "",
            "children": [
              "IPY_MODEL_534f7a032aaa4777bc8eb9d5fa1ab639",
              "IPY_MODEL_5fb60d4039244ea192f5486bb8fc9589",
              "IPY_MODEL_7dc9407368c74a848ef17c72a574e7ed"
            ],
            "layout": "IPY_MODEL_3c2fd1502c0948ce90d73e0ba2083547"
          }
        },
        "534f7a032aaa4777bc8eb9d5fa1ab639": {
          "model_module": "@jupyter-widgets/controls",
          "model_name": "HTMLModel",
          "model_module_version": "1.5.0",
          "state": {
            "_dom_classes": [],
            "_model_module": "@jupyter-widgets/controls",
            "_model_module_version": "1.5.0",
            "_model_name": "HTMLModel",
            "_view_count": null,
            "_view_module": "@jupyter-widgets/controls",
            "_view_module_version": "1.5.0",
            "_view_name": "HTMLView",
            "description": "",
            "description_tooltip": null,
            "layout": "IPY_MODEL_383a27e37a7343ebbe7c8729fb3ccc1b",
            "placeholder": "​",
            "style": "IPY_MODEL_49711612dd014ebdbf5f4928f86a666b",
            "value": "vocab.txt: 100%"
          }
        },
        "5fb60d4039244ea192f5486bb8fc9589": {
          "model_module": "@jupyter-widgets/controls",
          "model_name": "FloatProgressModel",
          "model_module_version": "1.5.0",
          "state": {
            "_dom_classes": [],
            "_model_module": "@jupyter-widgets/controls",
            "_model_module_version": "1.5.0",
            "_model_name": "FloatProgressModel",
            "_view_count": null,
            "_view_module": "@jupyter-widgets/controls",
            "_view_module_version": "1.5.0",
            "_view_name": "ProgressView",
            "bar_style": "success",
            "description": "",
            "description_tooltip": null,
            "layout": "IPY_MODEL_a7d4f472c6f74543ac7d90ffffcf5789",
            "max": 231508,
            "min": 0,
            "orientation": "horizontal",
            "style": "IPY_MODEL_c3756087f4cc4dada1bd6ca81b919f07",
            "value": 231508
          }
        },
        "7dc9407368c74a848ef17c72a574e7ed": {
          "model_module": "@jupyter-widgets/controls",
          "model_name": "HTMLModel",
          "model_module_version": "1.5.0",
          "state": {
            "_dom_classes": [],
            "_model_module": "@jupyter-widgets/controls",
            "_model_module_version": "1.5.0",
            "_model_name": "HTMLModel",
            "_view_count": null,
            "_view_module": "@jupyter-widgets/controls",
            "_view_module_version": "1.5.0",
            "_view_name": "HTMLView",
            "description": "",
            "description_tooltip": null,
            "layout": "IPY_MODEL_9c2d2d7afc2f4a92af3987c37985d509",
            "placeholder": "​",
            "style": "IPY_MODEL_3b64dfb346e14816970e24526144cd2f",
            "value": " 232k/232k [00:00&lt;00:00, 7.31MB/s]"
          }
        },
        "3c2fd1502c0948ce90d73e0ba2083547": {
          "model_module": "@jupyter-widgets/base",
          "model_name": "LayoutModel",
          "model_module_version": "1.2.0",
          "state": {
            "_model_module": "@jupyter-widgets/base",
            "_model_module_version": "1.2.0",
            "_model_name": "LayoutModel",
            "_view_count": null,
            "_view_module": "@jupyter-widgets/base",
            "_view_module_version": "1.2.0",
            "_view_name": "LayoutView",
            "align_content": null,
            "align_items": null,
            "align_self": null,
            "border": null,
            "bottom": null,
            "display": null,
            "flex": null,
            "flex_flow": null,
            "grid_area": null,
            "grid_auto_columns": null,
            "grid_auto_flow": null,
            "grid_auto_rows": null,
            "grid_column": null,
            "grid_gap": null,
            "grid_row": null,
            "grid_template_areas": null,
            "grid_template_columns": null,
            "grid_template_rows": null,
            "height": null,
            "justify_content": null,
            "justify_items": null,
            "left": null,
            "margin": null,
            "max_height": null,
            "max_width": null,
            "min_height": null,
            "min_width": null,
            "object_fit": null,
            "object_position": null,
            "order": null,
            "overflow": null,
            "overflow_x": null,
            "overflow_y": null,
            "padding": null,
            "right": null,
            "top": null,
            "visibility": null,
            "width": null
          }
        },
        "383a27e37a7343ebbe7c8729fb3ccc1b": {
          "model_module": "@jupyter-widgets/base",
          "model_name": "LayoutModel",
          "model_module_version": "1.2.0",
          "state": {
            "_model_module": "@jupyter-widgets/base",
            "_model_module_version": "1.2.0",
            "_model_name": "LayoutModel",
            "_view_count": null,
            "_view_module": "@jupyter-widgets/base",
            "_view_module_version": "1.2.0",
            "_view_name": "LayoutView",
            "align_content": null,
            "align_items": null,
            "align_self": null,
            "border": null,
            "bottom": null,
            "display": null,
            "flex": null,
            "flex_flow": null,
            "grid_area": null,
            "grid_auto_columns": null,
            "grid_auto_flow": null,
            "grid_auto_rows": null,
            "grid_column": null,
            "grid_gap": null,
            "grid_row": null,
            "grid_template_areas": null,
            "grid_template_columns": null,
            "grid_template_rows": null,
            "height": null,
            "justify_content": null,
            "justify_items": null,
            "left": null,
            "margin": null,
            "max_height": null,
            "max_width": null,
            "min_height": null,
            "min_width": null,
            "object_fit": null,
            "object_position": null,
            "order": null,
            "overflow": null,
            "overflow_x": null,
            "overflow_y": null,
            "padding": null,
            "right": null,
            "top": null,
            "visibility": null,
            "width": null
          }
        },
        "49711612dd014ebdbf5f4928f86a666b": {
          "model_module": "@jupyter-widgets/controls",
          "model_name": "DescriptionStyleModel",
          "model_module_version": "1.5.0",
          "state": {
            "_model_module": "@jupyter-widgets/controls",
            "_model_module_version": "1.5.0",
            "_model_name": "DescriptionStyleModel",
            "_view_count": null,
            "_view_module": "@jupyter-widgets/base",
            "_view_module_version": "1.2.0",
            "_view_name": "StyleView",
            "description_width": ""
          }
        },
        "a7d4f472c6f74543ac7d90ffffcf5789": {
          "model_module": "@jupyter-widgets/base",
          "model_name": "LayoutModel",
          "model_module_version": "1.2.0",
          "state": {
            "_model_module": "@jupyter-widgets/base",
            "_model_module_version": "1.2.0",
            "_model_name": "LayoutModel",
            "_view_count": null,
            "_view_module": "@jupyter-widgets/base",
            "_view_module_version": "1.2.0",
            "_view_name": "LayoutView",
            "align_content": null,
            "align_items": null,
            "align_self": null,
            "border": null,
            "bottom": null,
            "display": null,
            "flex": null,
            "flex_flow": null,
            "grid_area": null,
            "grid_auto_columns": null,
            "grid_auto_flow": null,
            "grid_auto_rows": null,
            "grid_column": null,
            "grid_gap": null,
            "grid_row": null,
            "grid_template_areas": null,
            "grid_template_columns": null,
            "grid_template_rows": null,
            "height": null,
            "justify_content": null,
            "justify_items": null,
            "left": null,
            "margin": null,
            "max_height": null,
            "max_width": null,
            "min_height": null,
            "min_width": null,
            "object_fit": null,
            "object_position": null,
            "order": null,
            "overflow": null,
            "overflow_x": null,
            "overflow_y": null,
            "padding": null,
            "right": null,
            "top": null,
            "visibility": null,
            "width": null
          }
        },
        "c3756087f4cc4dada1bd6ca81b919f07": {
          "model_module": "@jupyter-widgets/controls",
          "model_name": "ProgressStyleModel",
          "model_module_version": "1.5.0",
          "state": {
            "_model_module": "@jupyter-widgets/controls",
            "_model_module_version": "1.5.0",
            "_model_name": "ProgressStyleModel",
            "_view_count": null,
            "_view_module": "@jupyter-widgets/base",
            "_view_module_version": "1.2.0",
            "_view_name": "StyleView",
            "bar_color": null,
            "description_width": ""
          }
        },
        "9c2d2d7afc2f4a92af3987c37985d509": {
          "model_module": "@jupyter-widgets/base",
          "model_name": "LayoutModel",
          "model_module_version": "1.2.0",
          "state": {
            "_model_module": "@jupyter-widgets/base",
            "_model_module_version": "1.2.0",
            "_model_name": "LayoutModel",
            "_view_count": null,
            "_view_module": "@jupyter-widgets/base",
            "_view_module_version": "1.2.0",
            "_view_name": "LayoutView",
            "align_content": null,
            "align_items": null,
            "align_self": null,
            "border": null,
            "bottom": null,
            "display": null,
            "flex": null,
            "flex_flow": null,
            "grid_area": null,
            "grid_auto_columns": null,
            "grid_auto_flow": null,
            "grid_auto_rows": null,
            "grid_column": null,
            "grid_gap": null,
            "grid_row": null,
            "grid_template_areas": null,
            "grid_template_columns": null,
            "grid_template_rows": null,
            "height": null,
            "justify_content": null,
            "justify_items": null,
            "left": null,
            "margin": null,
            "max_height": null,
            "max_width": null,
            "min_height": null,
            "min_width": null,
            "object_fit": null,
            "object_position": null,
            "order": null,
            "overflow": null,
            "overflow_x": null,
            "overflow_y": null,
            "padding": null,
            "right": null,
            "top": null,
            "visibility": null,
            "width": null
          }
        },
        "3b64dfb346e14816970e24526144cd2f": {
          "model_module": "@jupyter-widgets/controls",
          "model_name": "DescriptionStyleModel",
          "model_module_version": "1.5.0",
          "state": {
            "_model_module": "@jupyter-widgets/controls",
            "_model_module_version": "1.5.0",
            "_model_name": "DescriptionStyleModel",
            "_view_count": null,
            "_view_module": "@jupyter-widgets/base",
            "_view_module_version": "1.2.0",
            "_view_name": "StyleView",
            "description_width": ""
          }
        },
        "4c72321c4c064fa286e24ad0dcaf7b3a": {
          "model_module": "@jupyter-widgets/controls",
          "model_name": "HBoxModel",
          "model_module_version": "1.5.0",
          "state": {
            "_dom_classes": [],
            "_model_module": "@jupyter-widgets/controls",
            "_model_module_version": "1.5.0",
            "_model_name": "HBoxModel",
            "_view_count": null,
            "_view_module": "@jupyter-widgets/controls",
            "_view_module_version": "1.5.0",
            "_view_name": "HBoxView",
            "box_style": "",
            "children": [
              "IPY_MODEL_623767eb4c364ba3814723e09ea8d728",
              "IPY_MODEL_f12779bc5f7742589c5ec037aab83f4c",
              "IPY_MODEL_33108ab0826f4ca6856ad624e4928776"
            ],
            "layout": "IPY_MODEL_52bf5cc62ba94db392895cdd4b875d7b"
          }
        },
        "623767eb4c364ba3814723e09ea8d728": {
          "model_module": "@jupyter-widgets/controls",
          "model_name": "HTMLModel",
          "model_module_version": "1.5.0",
          "state": {
            "_dom_classes": [],
            "_model_module": "@jupyter-widgets/controls",
            "_model_module_version": "1.5.0",
            "_model_name": "HTMLModel",
            "_view_count": null,
            "_view_module": "@jupyter-widgets/controls",
            "_view_module_version": "1.5.0",
            "_view_name": "HTMLView",
            "description": "",
            "description_tooltip": null,
            "layout": "IPY_MODEL_38fb6c56d0ac41818ff08f756cc087da",
            "placeholder": "​",
            "style": "IPY_MODEL_7ce2929a873d4a4c991c71731f19babd",
            "value": "tokenizer.json: 100%"
          }
        },
        "f12779bc5f7742589c5ec037aab83f4c": {
          "model_module": "@jupyter-widgets/controls",
          "model_name": "FloatProgressModel",
          "model_module_version": "1.5.0",
          "state": {
            "_dom_classes": [],
            "_model_module": "@jupyter-widgets/controls",
            "_model_module_version": "1.5.0",
            "_model_name": "FloatProgressModel",
            "_view_count": null,
            "_view_module": "@jupyter-widgets/controls",
            "_view_module_version": "1.5.0",
            "_view_name": "ProgressView",
            "bar_style": "success",
            "description": "",
            "description_tooltip": null,
            "layout": "IPY_MODEL_4cf4b17769384e61a4dc406f424004f8",
            "max": 466062,
            "min": 0,
            "orientation": "horizontal",
            "style": "IPY_MODEL_d88fa666f2ac497e8641de6731a95cef",
            "value": 466062
          }
        },
        "33108ab0826f4ca6856ad624e4928776": {
          "model_module": "@jupyter-widgets/controls",
          "model_name": "HTMLModel",
          "model_module_version": "1.5.0",
          "state": {
            "_dom_classes": [],
            "_model_module": "@jupyter-widgets/controls",
            "_model_module_version": "1.5.0",
            "_model_name": "HTMLModel",
            "_view_count": null,
            "_view_module": "@jupyter-widgets/controls",
            "_view_module_version": "1.5.0",
            "_view_name": "HTMLView",
            "description": "",
            "description_tooltip": null,
            "layout": "IPY_MODEL_eb9e97cad3c44319a482e1439359ff56",
            "placeholder": "​",
            "style": "IPY_MODEL_6cbfc7e0adef459d91e3fa56f7752570",
            "value": " 466k/466k [00:00&lt;00:00, 27.6MB/s]"
          }
        },
        "52bf5cc62ba94db392895cdd4b875d7b": {
          "model_module": "@jupyter-widgets/base",
          "model_name": "LayoutModel",
          "model_module_version": "1.2.0",
          "state": {
            "_model_module": "@jupyter-widgets/base",
            "_model_module_version": "1.2.0",
            "_model_name": "LayoutModel",
            "_view_count": null,
            "_view_module": "@jupyter-widgets/base",
            "_view_module_version": "1.2.0",
            "_view_name": "LayoutView",
            "align_content": null,
            "align_items": null,
            "align_self": null,
            "border": null,
            "bottom": null,
            "display": null,
            "flex": null,
            "flex_flow": null,
            "grid_area": null,
            "grid_auto_columns": null,
            "grid_auto_flow": null,
            "grid_auto_rows": null,
            "grid_column": null,
            "grid_gap": null,
            "grid_row": null,
            "grid_template_areas": null,
            "grid_template_columns": null,
            "grid_template_rows": null,
            "height": null,
            "justify_content": null,
            "justify_items": null,
            "left": null,
            "margin": null,
            "max_height": null,
            "max_width": null,
            "min_height": null,
            "min_width": null,
            "object_fit": null,
            "object_position": null,
            "order": null,
            "overflow": null,
            "overflow_x": null,
            "overflow_y": null,
            "padding": null,
            "right": null,
            "top": null,
            "visibility": null,
            "width": null
          }
        },
        "38fb6c56d0ac41818ff08f756cc087da": {
          "model_module": "@jupyter-widgets/base",
          "model_name": "LayoutModel",
          "model_module_version": "1.2.0",
          "state": {
            "_model_module": "@jupyter-widgets/base",
            "_model_module_version": "1.2.0",
            "_model_name": "LayoutModel",
            "_view_count": null,
            "_view_module": "@jupyter-widgets/base",
            "_view_module_version": "1.2.0",
            "_view_name": "LayoutView",
            "align_content": null,
            "align_items": null,
            "align_self": null,
            "border": null,
            "bottom": null,
            "display": null,
            "flex": null,
            "flex_flow": null,
            "grid_area": null,
            "grid_auto_columns": null,
            "grid_auto_flow": null,
            "grid_auto_rows": null,
            "grid_column": null,
            "grid_gap": null,
            "grid_row": null,
            "grid_template_areas": null,
            "grid_template_columns": null,
            "grid_template_rows": null,
            "height": null,
            "justify_content": null,
            "justify_items": null,
            "left": null,
            "margin": null,
            "max_height": null,
            "max_width": null,
            "min_height": null,
            "min_width": null,
            "object_fit": null,
            "object_position": null,
            "order": null,
            "overflow": null,
            "overflow_x": null,
            "overflow_y": null,
            "padding": null,
            "right": null,
            "top": null,
            "visibility": null,
            "width": null
          }
        },
        "7ce2929a873d4a4c991c71731f19babd": {
          "model_module": "@jupyter-widgets/controls",
          "model_name": "DescriptionStyleModel",
          "model_module_version": "1.5.0",
          "state": {
            "_model_module": "@jupyter-widgets/controls",
            "_model_module_version": "1.5.0",
            "_model_name": "DescriptionStyleModel",
            "_view_count": null,
            "_view_module": "@jupyter-widgets/base",
            "_view_module_version": "1.2.0",
            "_view_name": "StyleView",
            "description_width": ""
          }
        },
        "4cf4b17769384e61a4dc406f424004f8": {
          "model_module": "@jupyter-widgets/base",
          "model_name": "LayoutModel",
          "model_module_version": "1.2.0",
          "state": {
            "_model_module": "@jupyter-widgets/base",
            "_model_module_version": "1.2.0",
            "_model_name": "LayoutModel",
            "_view_count": null,
            "_view_module": "@jupyter-widgets/base",
            "_view_module_version": "1.2.0",
            "_view_name": "LayoutView",
            "align_content": null,
            "align_items": null,
            "align_self": null,
            "border": null,
            "bottom": null,
            "display": null,
            "flex": null,
            "flex_flow": null,
            "grid_area": null,
            "grid_auto_columns": null,
            "grid_auto_flow": null,
            "grid_auto_rows": null,
            "grid_column": null,
            "grid_gap": null,
            "grid_row": null,
            "grid_template_areas": null,
            "grid_template_columns": null,
            "grid_template_rows": null,
            "height": null,
            "justify_content": null,
            "justify_items": null,
            "left": null,
            "margin": null,
            "max_height": null,
            "max_width": null,
            "min_height": null,
            "min_width": null,
            "object_fit": null,
            "object_position": null,
            "order": null,
            "overflow": null,
            "overflow_x": null,
            "overflow_y": null,
            "padding": null,
            "right": null,
            "top": null,
            "visibility": null,
            "width": null
          }
        },
        "d88fa666f2ac497e8641de6731a95cef": {
          "model_module": "@jupyter-widgets/controls",
          "model_name": "ProgressStyleModel",
          "model_module_version": "1.5.0",
          "state": {
            "_model_module": "@jupyter-widgets/controls",
            "_model_module_version": "1.5.0",
            "_model_name": "ProgressStyleModel",
            "_view_count": null,
            "_view_module": "@jupyter-widgets/base",
            "_view_module_version": "1.2.0",
            "_view_name": "StyleView",
            "bar_color": null,
            "description_width": ""
          }
        },
        "eb9e97cad3c44319a482e1439359ff56": {
          "model_module": "@jupyter-widgets/base",
          "model_name": "LayoutModel",
          "model_module_version": "1.2.0",
          "state": {
            "_model_module": "@jupyter-widgets/base",
            "_model_module_version": "1.2.0",
            "_model_name": "LayoutModel",
            "_view_count": null,
            "_view_module": "@jupyter-widgets/base",
            "_view_module_version": "1.2.0",
            "_view_name": "LayoutView",
            "align_content": null,
            "align_items": null,
            "align_self": null,
            "border": null,
            "bottom": null,
            "display": null,
            "flex": null,
            "flex_flow": null,
            "grid_area": null,
            "grid_auto_columns": null,
            "grid_auto_flow": null,
            "grid_auto_rows": null,
            "grid_column": null,
            "grid_gap": null,
            "grid_row": null,
            "grid_template_areas": null,
            "grid_template_columns": null,
            "grid_template_rows": null,
            "height": null,
            "justify_content": null,
            "justify_items": null,
            "left": null,
            "margin": null,
            "max_height": null,
            "max_width": null,
            "min_height": null,
            "min_width": null,
            "object_fit": null,
            "object_position": null,
            "order": null,
            "overflow": null,
            "overflow_x": null,
            "overflow_y": null,
            "padding": null,
            "right": null,
            "top": null,
            "visibility": null,
            "width": null
          }
        },
        "6cbfc7e0adef459d91e3fa56f7752570": {
          "model_module": "@jupyter-widgets/controls",
          "model_name": "DescriptionStyleModel",
          "model_module_version": "1.5.0",
          "state": {
            "_model_module": "@jupyter-widgets/controls",
            "_model_module_version": "1.5.0",
            "_model_name": "DescriptionStyleModel",
            "_view_count": null,
            "_view_module": "@jupyter-widgets/base",
            "_view_module_version": "1.2.0",
            "_view_name": "StyleView",
            "description_width": ""
          }
        },
        "a7752f9179df44d69fdc76d3614e1048": {
          "model_module": "@jupyter-widgets/controls",
          "model_name": "HBoxModel",
          "model_module_version": "1.5.0",
          "state": {
            "_dom_classes": [],
            "_model_module": "@jupyter-widgets/controls",
            "_model_module_version": "1.5.0",
            "_model_name": "HBoxModel",
            "_view_count": null,
            "_view_module": "@jupyter-widgets/controls",
            "_view_module_version": "1.5.0",
            "_view_name": "HBoxView",
            "box_style": "",
            "children": [
              "IPY_MODEL_51f7ec59b3044f61b42cda2e78dfdf9b",
              "IPY_MODEL_8490e40d86564d81b88ac83f64c5b96d",
              "IPY_MODEL_97d88e6b5fb64bc19a111ac68e5be71d"
            ],
            "layout": "IPY_MODEL_65a93a6addb04359b9b57205e36debb6"
          }
        },
        "51f7ec59b3044f61b42cda2e78dfdf9b": {
          "model_module": "@jupyter-widgets/controls",
          "model_name": "HTMLModel",
          "model_module_version": "1.5.0",
          "state": {
            "_dom_classes": [],
            "_model_module": "@jupyter-widgets/controls",
            "_model_module_version": "1.5.0",
            "_model_name": "HTMLModel",
            "_view_count": null,
            "_view_module": "@jupyter-widgets/controls",
            "_view_module_version": "1.5.0",
            "_view_name": "HTMLView",
            "description": "",
            "description_tooltip": null,
            "layout": "IPY_MODEL_d74cf5df2e8047a8bc5c6ffc0570728d",
            "placeholder": "​",
            "style": "IPY_MODEL_2fddc1eca95c4817bd461e675255ea6d",
            "value": "config.json: 100%"
          }
        },
        "8490e40d86564d81b88ac83f64c5b96d": {
          "model_module": "@jupyter-widgets/controls",
          "model_name": "FloatProgressModel",
          "model_module_version": "1.5.0",
          "state": {
            "_dom_classes": [],
            "_model_module": "@jupyter-widgets/controls",
            "_model_module_version": "1.5.0",
            "_model_name": "FloatProgressModel",
            "_view_count": null,
            "_view_module": "@jupyter-widgets/controls",
            "_view_module_version": "1.5.0",
            "_view_name": "ProgressView",
            "bar_style": "success",
            "description": "",
            "description_tooltip": null,
            "layout": "IPY_MODEL_59fe4ad5508f44fba59221d4aba91b4f",
            "max": 570,
            "min": 0,
            "orientation": "horizontal",
            "style": "IPY_MODEL_d362b48530ad452883e031af7fad84d3",
            "value": 570
          }
        },
        "97d88e6b5fb64bc19a111ac68e5be71d": {
          "model_module": "@jupyter-widgets/controls",
          "model_name": "HTMLModel",
          "model_module_version": "1.5.0",
          "state": {
            "_dom_classes": [],
            "_model_module": "@jupyter-widgets/controls",
            "_model_module_version": "1.5.0",
            "_model_name": "HTMLModel",
            "_view_count": null,
            "_view_module": "@jupyter-widgets/controls",
            "_view_module_version": "1.5.0",
            "_view_name": "HTMLView",
            "description": "",
            "description_tooltip": null,
            "layout": "IPY_MODEL_3438f5d5daf9408b9856e471e92b2928",
            "placeholder": "​",
            "style": "IPY_MODEL_a167b41f25b84442b629954dbb0f7164",
            "value": " 570/570 [00:00&lt;00:00, 47.6kB/s]"
          }
        },
        "65a93a6addb04359b9b57205e36debb6": {
          "model_module": "@jupyter-widgets/base",
          "model_name": "LayoutModel",
          "model_module_version": "1.2.0",
          "state": {
            "_model_module": "@jupyter-widgets/base",
            "_model_module_version": "1.2.0",
            "_model_name": "LayoutModel",
            "_view_count": null,
            "_view_module": "@jupyter-widgets/base",
            "_view_module_version": "1.2.0",
            "_view_name": "LayoutView",
            "align_content": null,
            "align_items": null,
            "align_self": null,
            "border": null,
            "bottom": null,
            "display": null,
            "flex": null,
            "flex_flow": null,
            "grid_area": null,
            "grid_auto_columns": null,
            "grid_auto_flow": null,
            "grid_auto_rows": null,
            "grid_column": null,
            "grid_gap": null,
            "grid_row": null,
            "grid_template_areas": null,
            "grid_template_columns": null,
            "grid_template_rows": null,
            "height": null,
            "justify_content": null,
            "justify_items": null,
            "left": null,
            "margin": null,
            "max_height": null,
            "max_width": null,
            "min_height": null,
            "min_width": null,
            "object_fit": null,
            "object_position": null,
            "order": null,
            "overflow": null,
            "overflow_x": null,
            "overflow_y": null,
            "padding": null,
            "right": null,
            "top": null,
            "visibility": null,
            "width": null
          }
        },
        "d74cf5df2e8047a8bc5c6ffc0570728d": {
          "model_module": "@jupyter-widgets/base",
          "model_name": "LayoutModel",
          "model_module_version": "1.2.0",
          "state": {
            "_model_module": "@jupyter-widgets/base",
            "_model_module_version": "1.2.0",
            "_model_name": "LayoutModel",
            "_view_count": null,
            "_view_module": "@jupyter-widgets/base",
            "_view_module_version": "1.2.0",
            "_view_name": "LayoutView",
            "align_content": null,
            "align_items": null,
            "align_self": null,
            "border": null,
            "bottom": null,
            "display": null,
            "flex": null,
            "flex_flow": null,
            "grid_area": null,
            "grid_auto_columns": null,
            "grid_auto_flow": null,
            "grid_auto_rows": null,
            "grid_column": null,
            "grid_gap": null,
            "grid_row": null,
            "grid_template_areas": null,
            "grid_template_columns": null,
            "grid_template_rows": null,
            "height": null,
            "justify_content": null,
            "justify_items": null,
            "left": null,
            "margin": null,
            "max_height": null,
            "max_width": null,
            "min_height": null,
            "min_width": null,
            "object_fit": null,
            "object_position": null,
            "order": null,
            "overflow": null,
            "overflow_x": null,
            "overflow_y": null,
            "padding": null,
            "right": null,
            "top": null,
            "visibility": null,
            "width": null
          }
        },
        "2fddc1eca95c4817bd461e675255ea6d": {
          "model_module": "@jupyter-widgets/controls",
          "model_name": "DescriptionStyleModel",
          "model_module_version": "1.5.0",
          "state": {
            "_model_module": "@jupyter-widgets/controls",
            "_model_module_version": "1.5.0",
            "_model_name": "DescriptionStyleModel",
            "_view_count": null,
            "_view_module": "@jupyter-widgets/base",
            "_view_module_version": "1.2.0",
            "_view_name": "StyleView",
            "description_width": ""
          }
        },
        "59fe4ad5508f44fba59221d4aba91b4f": {
          "model_module": "@jupyter-widgets/base",
          "model_name": "LayoutModel",
          "model_module_version": "1.2.0",
          "state": {
            "_model_module": "@jupyter-widgets/base",
            "_model_module_version": "1.2.0",
            "_model_name": "LayoutModel",
            "_view_count": null,
            "_view_module": "@jupyter-widgets/base",
            "_view_module_version": "1.2.0",
            "_view_name": "LayoutView",
            "align_content": null,
            "align_items": null,
            "align_self": null,
            "border": null,
            "bottom": null,
            "display": null,
            "flex": null,
            "flex_flow": null,
            "grid_area": null,
            "grid_auto_columns": null,
            "grid_auto_flow": null,
            "grid_auto_rows": null,
            "grid_column": null,
            "grid_gap": null,
            "grid_row": null,
            "grid_template_areas": null,
            "grid_template_columns": null,
            "grid_template_rows": null,
            "height": null,
            "justify_content": null,
            "justify_items": null,
            "left": null,
            "margin": null,
            "max_height": null,
            "max_width": null,
            "min_height": null,
            "min_width": null,
            "object_fit": null,
            "object_position": null,
            "order": null,
            "overflow": null,
            "overflow_x": null,
            "overflow_y": null,
            "padding": null,
            "right": null,
            "top": null,
            "visibility": null,
            "width": null
          }
        },
        "d362b48530ad452883e031af7fad84d3": {
          "model_module": "@jupyter-widgets/controls",
          "model_name": "ProgressStyleModel",
          "model_module_version": "1.5.0",
          "state": {
            "_model_module": "@jupyter-widgets/controls",
            "_model_module_version": "1.5.0",
            "_model_name": "ProgressStyleModel",
            "_view_count": null,
            "_view_module": "@jupyter-widgets/base",
            "_view_module_version": "1.2.0",
            "_view_name": "StyleView",
            "bar_color": null,
            "description_width": ""
          }
        },
        "3438f5d5daf9408b9856e471e92b2928": {
          "model_module": "@jupyter-widgets/base",
          "model_name": "LayoutModel",
          "model_module_version": "1.2.0",
          "state": {
            "_model_module": "@jupyter-widgets/base",
            "_model_module_version": "1.2.0",
            "_model_name": "LayoutModel",
            "_view_count": null,
            "_view_module": "@jupyter-widgets/base",
            "_view_module_version": "1.2.0",
            "_view_name": "LayoutView",
            "align_content": null,
            "align_items": null,
            "align_self": null,
            "border": null,
            "bottom": null,
            "display": null,
            "flex": null,
            "flex_flow": null,
            "grid_area": null,
            "grid_auto_columns": null,
            "grid_auto_flow": null,
            "grid_auto_rows": null,
            "grid_column": null,
            "grid_gap": null,
            "grid_row": null,
            "grid_template_areas": null,
            "grid_template_columns": null,
            "grid_template_rows": null,
            "height": null,
            "justify_content": null,
            "justify_items": null,
            "left": null,
            "margin": null,
            "max_height": null,
            "max_width": null,
            "min_height": null,
            "min_width": null,
            "object_fit": null,
            "object_position": null,
            "order": null,
            "overflow": null,
            "overflow_x": null,
            "overflow_y": null,
            "padding": null,
            "right": null,
            "top": null,
            "visibility": null,
            "width": null
          }
        },
        "a167b41f25b84442b629954dbb0f7164": {
          "model_module": "@jupyter-widgets/controls",
          "model_name": "DescriptionStyleModel",
          "model_module_version": "1.5.0",
          "state": {
            "_model_module": "@jupyter-widgets/controls",
            "_model_module_version": "1.5.0",
            "_model_name": "DescriptionStyleModel",
            "_view_count": null,
            "_view_module": "@jupyter-widgets/base",
            "_view_module_version": "1.2.0",
            "_view_name": "StyleView",
            "description_width": ""
          }
        }
      }
    },
    "accelerator": "GPU"
  },
  "nbformat": 4,
  "nbformat_minor": 0
}