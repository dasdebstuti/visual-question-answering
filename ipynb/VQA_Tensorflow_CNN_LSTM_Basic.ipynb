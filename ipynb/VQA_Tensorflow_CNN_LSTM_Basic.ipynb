{
  "cells": [
    {
      "cell_type": "markdown",
      "source": [
        "# Load the Data"
      ],
      "metadata": {
        "id": "buY-59Qgi6z4"
      }
    },
    {
      "cell_type": "code",
      "execution_count": null,
      "metadata": {
        "id": "3bkxTPFIkbSZ"
      },
      "outputs": [],
      "source": [
        "!pip install -qqq easy-vqa\n",
        "!pip install -qqq sentence_transformers transformer\n"
      ]
    },
    {
      "cell_type": "code",
      "execution_count": null,
      "metadata": {
        "id": "w_lYv0ndkpgE"
      },
      "outputs": [],
      "source": [
        "from easy_vqa import get_train_questions, get_test_questions\n",
        "\n",
        "train_questions, train_answers, train_image_ids = get_train_questions()\n",
        "test_questions, test_answers, test_image_ids = get_test_questions()"
      ]
    },
    {
      "cell_type": "code",
      "execution_count": null,
      "metadata": {
        "colab": {
          "base_uri": "https://localhost:8080/"
        },
        "id": "sAEveZC3pxsz",
        "outputId": "5fea8495-cb2b-4f26-cb4b-edecd3a99d61"
      },
      "outputs": [
        {
          "output_type": "execute_result",
          "data": {
            "text/plain": [
              "(38575, 9673)"
            ]
          },
          "metadata": {},
          "execution_count": 4
        }
      ],
      "source": [
        "len(train_questions), len(test_questions)"
      ]
    },
    {
      "cell_type": "markdown",
      "source": [
        "#Visualize the Data"
      ],
      "metadata": {
        "id": "2ojsvk9TW_Y9"
      }
    },
    {
      "cell_type": "code",
      "execution_count": null,
      "metadata": {
        "colab": {
          "base_uri": "https://localhost:8080/"
        },
        "id": "G5-Mf9oek2eg",
        "outputId": "0cf6a5f1-8734-4298-e6a1-1429d7f6f56a"
      },
      "outputs": [
        {
          "output_type": "stream",
          "name": "stdout",
          "text": [
            "Question:  what is the blue shape?, Answer:  rectangle, Image Id:  0\n",
            "Question:  what color is the shape?, Answer:  blue, Image Id:  0\n",
            "Question:  does the image contain a rectangle?, Answer:  yes, Image Id:  0\n",
            "Question:  is there a triangle in the image?, Answer:  no, Image Id:  0\n",
            "Question:  is there a black shape?, Answer:  no, Image Id:  0\n",
            "Question:  does the image not contain a gray shape?, Answer:  yes, Image Id:  0\n",
            "Question:  is there a red shape in the image?, Answer:  no, Image Id:  0\n",
            "Question:  does the image not contain a red shape?, Answer:  yes, Image Id:  0\n",
            "Question:  is there not a blue shape?, Answer:  no, Image Id:  0\n",
            "Question:  is there not a blue shape in the image?, Answer:  no, Image Id:  0\n",
            "Question:  is there not a yellow shape?, Answer:  yes, Image Id:  0\n",
            "Question:  is a teal shape present?, Answer:  no, Image Id:  0\n",
            "Question:  what color is the triangle?, Answer:  blue, Image Id:  1\n",
            "Question:  what color is the shape?, Answer:  blue, Image Id:  1\n",
            "Question:  is there not a rectangle in the image?, Answer:  yes, Image Id:  1\n",
            "Question:  is there a red shape?, Answer:  no, Image Id:  1\n",
            "Question:  is there a green shape in the image?, Answer:  no, Image Id:  1\n",
            "Question:  is there not a teal shape?, Answer:  yes, Image Id:  1\n",
            "Question:  what shape is in the image?, Answer:  triangle, Image Id:  2\n",
            "Question:  what shape does the image contain?, Answer:  triangle, Image Id:  2\n"
          ]
        }
      ],
      "source": [
        "# Verify the quesion, answers for Images\n",
        "\n",
        "for idx in range(20):\n",
        "  print('Question: ', train_questions[idx], end=', ')\n",
        "  print('Answer: ', train_answers[idx], end=', ')\n",
        "  print('Image Id: ', train_image_ids[idx])\n"
      ]
    },
    {
      "cell_type": "code",
      "execution_count": null,
      "metadata": {
        "id": "I17KfZhjopZe"
      },
      "outputs": [],
      "source": [
        "# write a function to display the image\n",
        "\n",
        "def display_image(image_id):\n",
        "  from IPython.display import Image\n",
        "  from PIL import Image\n",
        "  image_path = f\"/usr/local/lib/python3.10/dist-packages/easy_vqa/data/train/images/{image_id}.png\"\n",
        "  display(Image.open(image_path))\n"
      ]
    },
    {
      "cell_type": "code",
      "execution_count": null,
      "metadata": {
        "id": "BDm0ZZZBl4cr"
      },
      "outputs": [],
      "source": [
        "# Visualize the data\n",
        "\n",
        "# Map questions for one particular image\n",
        "from collections import defaultdict\n",
        "\n",
        "image_qna_map = defaultdict(list)\n",
        "\n",
        "for idx in range(len(train_questions)):\n",
        "  image_qna_map[train_image_ids[idx]].append({'question': train_questions[idx], 'answer': train_answers[idx]})"
      ]
    },
    {
      "cell_type": "code",
      "execution_count": null,
      "metadata": {
        "colab": {
          "base_uri": "https://localhost:8080/",
          "height": 1000
        },
        "id": "m31kFVNuqJvZ",
        "outputId": "39b2493d-2c8b-4064-8a6b-2dab49dc4bdf"
      },
      "outputs": [
        {
          "output_type": "stream",
          "name": "stdout",
          "text": [
            "Image Id:  0\n"
          ]
        },
        {
          "output_type": "display_data",
          "data": {
            "text/plain": [
              "<PIL.PngImagePlugin.PngImageFile image mode=RGB size=64x64>"
            ],
            "image/png": "[encoded data removed]"
          },
          "metadata": {}
        },
        {
          "output_type": "stream",
          "name": "stdout",
          "text": [
            "{'question': 'what is the blue shape?', 'answer': 'rectangle'}\n",
            "{'question': 'what color is the shape?', 'answer': 'blue'}\n",
            "{'question': 'does the image contain a rectangle?', 'answer': 'yes'}\n",
            "{'question': 'is there a triangle in the image?', 'answer': 'no'}\n",
            "{'question': 'is there a black shape?', 'answer': 'no'}\n",
            "{'question': 'does the image not contain a gray shape?', 'answer': 'yes'}\n",
            "{'question': 'is there a red shape in the image?', 'answer': 'no'}\n",
            "{'question': 'does the image not contain a red shape?', 'answer': 'yes'}\n",
            "{'question': 'is there not a blue shape?', 'answer': 'no'}\n",
            "{'question': 'is there not a blue shape in the image?', 'answer': 'no'}\n",
            "{'question': 'is there not a yellow shape?', 'answer': 'yes'}\n",
            "{'question': 'is a teal shape present?', 'answer': 'no'}\n",
            "Image Id:  1\n"
          ]
        },
        {
          "output_type": "display_data",
          "data": {
            "text/plain": [
              "<PIL.PngImagePlugin.PngImageFile image mode=RGB size=64x64>"
            ],
            "image/png": "[encoded data removed]"
          },
          "metadata": {}
        },
        {
          "output_type": "stream",
          "name": "stdout",
          "text": [
            "{'question': 'what color is the triangle?', 'answer': 'blue'}\n",
            "{'question': 'what color is the shape?', 'answer': 'blue'}\n",
            "{'question': 'is there not a rectangle in the image?', 'answer': 'yes'}\n",
            "{'question': 'is there a red shape?', 'answer': 'no'}\n",
            "{'question': 'is there a green shape in the image?', 'answer': 'no'}\n",
            "{'question': 'is there not a teal shape?', 'answer': 'yes'}\n",
            "Image Id:  2\n"
          ]
        },
        {
          "output_type": "display_data",
          "data": {
            "text/plain": [
              "<PIL.PngImagePlugin.PngImageFile image mode=RGB size=64x64>"
            ],
            "image/png": "[encoded data removed]"
          },
          "metadata": {}
        },
        {
          "output_type": "stream",
          "name": "stdout",
          "text": [
            "{'question': 'what shape is in the image?', 'answer': 'triangle'}\n",
            "{'question': 'what shape does the image contain?', 'answer': 'triangle'}\n",
            "{'question': 'what color is the triangle?', 'answer': 'red'}\n",
            "{'question': 'what is the color of the triangle?', 'answer': 'red'}\n",
            "{'question': 'is there a circle?', 'answer': 'no'}\n",
            "{'question': 'does the image contain a green shape?', 'answer': 'no'}\n",
            "{'question': 'is there a blue shape in the image?', 'answer': 'no'}\n",
            "{'question': 'is there a teal shape?', 'answer': 'no'}\n",
            "{'question': 'is there not a teal shape in the image?', 'answer': 'yes'}\n",
            "Image Id:  3\n"
          ]
        },
        {
          "output_type": "display_data",
          "data": {
            "text/plain": [
              "<PIL.PngImagePlugin.PngImageFile image mode=RGB size=64x64>"
            ],
            "image/png": "[encoded data removed]"
          },
          "metadata": {}
        },
        {
          "output_type": "stream",
          "name": "stdout",
          "text": [
            "{'question': 'what shape is present?', 'answer': 'rectangle'}\n",
            "{'question': 'what shape does the image contain?', 'answer': 'rectangle'}\n",
            "{'question': 'what color is the rectangle?', 'answer': 'brown'}\n",
            "{'question': 'what is the color of the rectangle?', 'answer': 'brown'}\n",
            "{'question': 'what is the color of the shape?', 'answer': 'brown'}\n",
            "{'question': 'does the image not contain a circle?', 'answer': 'yes'}\n",
            "{'question': 'does the image contain a triangle?', 'answer': 'no'}\n",
            "{'question': 'does the image contain a gray shape?', 'answer': 'no'}\n",
            "{'question': 'is there a blue shape?', 'answer': 'no'}\n",
            "{'question': 'is no yellow shape present?', 'answer': 'yes'}\n",
            "{'question': 'is there not a brown shape?', 'answer': 'no'}\n",
            "Image Id:  4\n"
          ]
        },
        {
          "output_type": "display_data",
          "data": {
            "text/plain": [
              "<PIL.PngImagePlugin.PngImageFile image mode=RGB size=64x64>"
            ],
            "image/png": "[encoded data removed]"
          },
          "metadata": {}
        },
        {
          "output_type": "stream",
          "name": "stdout",
          "text": [
            "{'question': 'what is the red shape?', 'answer': 'circle'}\n",
            "{'question': 'what is the color of the circle?', 'answer': 'red'}\n",
            "{'question': 'what is the color of the shape?', 'answer': 'red'}\n",
            "{'question': 'is there not a rectangle in the image?', 'answer': 'yes'}\n",
            "{'question': 'is a circle present?', 'answer': 'yes'}\n",
            "{'question': 'does the image not contain a circle?', 'answer': 'no'}\n",
            "{'question': 'is there a black shape?', 'answer': 'no'}\n",
            "{'question': 'is there not a gray shape?', 'answer': 'yes'}\n",
            "{'question': 'does the image contain a red shape?', 'answer': 'yes'}\n",
            "{'question': 'does the image contain a yellow shape?', 'answer': 'no'}\n",
            "{'question': 'is there not a yellow shape in the image?', 'answer': 'yes'}\n",
            "{'question': 'is there a teal shape?', 'answer': 'no'}\n",
            "{'question': 'is there a brown shape in the image?', 'answer': 'no'}\n",
            "{'question': 'is there not a brown shape in the image?', 'answer': 'yes'}\n",
            "Image Id:  5\n"
          ]
        },
        {
          "output_type": "display_data",
          "data": {
            "text/plain": [
              "<PIL.PngImagePlugin.PngImageFile image mode=RGB size=64x64>"
            ],
            "image/png": "[encoded data removed]"
          },
          "metadata": {}
        },
        {
          "output_type": "stream",
          "name": "stdout",
          "text": [
            "{'question': 'what is the yellow shape?', 'answer': 'triangle'}\n",
            "{'question': 'what color is the triangle?', 'answer': 'yellow'}\n",
            "{'question': 'what is the color of the triangle?', 'answer': 'yellow'}\n",
            "{'question': 'is a rectangle present?', 'answer': 'no'}\n",
            "{'question': 'is there not a circle?', 'answer': 'yes'}\n",
            "{'question': 'is there a triangle?', 'answer': 'yes'}\n",
            "{'question': 'is a green shape present?', 'answer': 'no'}\n",
            "{'question': 'does the image contain a yellow shape?', 'answer': 'yes'}\n",
            "{'question': 'is there a brown shape in the image?', 'answer': 'no'}\n",
            "Image Id:  6\n"
          ]
        },
        {
          "output_type": "display_data",
          "data": {
            "text/plain": [
              "<PIL.PngImagePlugin.PngImageFile image mode=RGB size=64x64>"
            ],
            "image/png": "[encoded data removed]"
          },
          "metadata": {}
        },
        {
          "output_type": "stream",
          "name": "stdout",
          "text": [
            "{'question': 'what is the red shape?', 'answer': 'circle'}\n",
            "{'question': 'what is the color of the circle?', 'answer': 'red'}\n",
            "{'question': 'what is the color of the shape?', 'answer': 'red'}\n",
            "{'question': 'is no rectangle present?', 'answer': 'yes'}\n",
            "{'question': 'does the image contain a circle?', 'answer': 'yes'}\n",
            "{'question': 'is there not a circle?', 'answer': 'no'}\n",
            "{'question': 'is there not a triangle in the image?', 'answer': 'yes'}\n",
            "{'question': 'does the image not contain a gray shape?', 'answer': 'yes'}\n",
            "{'question': 'is there a green shape?', 'answer': 'no'}\n",
            "{'question': 'is there a blue shape?', 'answer': 'no'}\n",
            "{'question': 'is a blue shape present?', 'answer': 'no'}\n",
            "{'question': 'is a yellow shape present?', 'answer': 'no'}\n",
            "{'question': 'is no teal shape present?', 'answer': 'yes'}\n",
            "Image Id:  7\n"
          ]
        },
        {
          "output_type": "display_data",
          "data": {
            "text/plain": [
              "<PIL.PngImagePlugin.PngImageFile image mode=RGB size=64x64>"
            ],
            "image/png": "[encoded data removed]"
          },
          "metadata": {}
        },
        {
          "output_type": "stream",
          "name": "stdout",
          "text": [
            "{'question': 'what is the color of the circle?', 'answer': 'black'}\n",
            "{'question': 'is a rectangle present?', 'answer': 'no'}\n",
            "{'question': 'is there not a triangle?', 'answer': 'yes'}\n",
            "{'question': 'is there not a gray shape?', 'answer': 'yes'}\n",
            "{'question': 'is there not a gray shape in the image?', 'answer': 'yes'}\n",
            "{'question': 'is there a red shape?', 'answer': 'no'}\n",
            "{'question': 'is there not a brown shape?', 'answer': 'yes'}\n",
            "Image Id:  8\n"
          ]
        },
        {
          "output_type": "display_data",
          "data": {
            "text/plain": [
              "<PIL.PngImagePlugin.PngImageFile image mode=RGB size=64x64>"
            ],
            "image/png": "[encoded data removed]"
          },
          "metadata": {}
        },
        {
          "output_type": "stream",
          "name": "stdout",
          "text": [
            "{'question': 'what is the color of the rectangle?', 'answer': 'brown'}\n",
            "{'question': 'does the image not contain a circle?', 'answer': 'yes'}\n",
            "{'question': 'is no gray shape present?', 'answer': 'yes'}\n",
            "{'question': 'does the image contain a red shape?', 'answer': 'no'}\n",
            "{'question': 'is no red shape present?', 'answer': 'yes'}\n",
            "{'question': 'does the image not contain a green shape?', 'answer': 'yes'}\n",
            "{'question': 'is there a blue shape in the image?', 'answer': 'no'}\n",
            "{'question': 'does the image not contain a blue shape?', 'answer': 'yes'}\n",
            "{'question': 'is there a teal shape in the image?', 'answer': 'no'}\n",
            "{'question': 'is there a brown shape in the image?', 'answer': 'yes'}\n",
            "Image Id:  9\n"
          ]
        },
        {
          "output_type": "display_data",
          "data": {
            "text/plain": [
              "<PIL.PngImagePlugin.PngImageFile image mode=RGB size=64x64>"
            ],
            "image/png": "[encoded data removed]"
          },
          "metadata": {}
        },
        {
          "output_type": "stream",
          "name": "stdout",
          "text": [
            "{'question': 'what shape is in the image?', 'answer': 'rectangle'}\n",
            "{'question': 'what is the yellow shape?', 'answer': 'rectangle'}\n",
            "{'question': 'what is the color of the rectangle?', 'answer': 'yellow'}\n",
            "{'question': 'what color is the shape?', 'answer': 'yellow'}\n",
            "{'question': 'is there a rectangle?', 'answer': 'yes'}\n",
            "{'question': 'is a gray shape present?', 'answer': 'no'}\n",
            "{'question': 'is a red shape present?', 'answer': 'no'}\n",
            "{'question': 'is no red shape present?', 'answer': 'yes'}\n",
            "{'question': 'does the image not contain a blue shape?', 'answer': 'yes'}\n",
            "{'question': 'is there a brown shape?', 'answer': 'no'}\n",
            "{'question': 'does the image not contain a brown shape?', 'answer': 'yes'}\n"
          ]
        }
      ],
      "source": [
        "# Display Image and question-answers\n",
        "for idx in range(10):\n",
        "  print('Image Id: ', idx)\n",
        "  display_image(idx)\n",
        "  for qna in image_qna_map[idx]:\n",
        "    print(qna)\n"
      ]
    },
    {
      "cell_type": "code",
      "execution_count": null,
      "metadata": {
        "colab": {
          "base_uri": "https://localhost:8080/"
        },
        "id": "LT2Tt5rnJEh7",
        "outputId": "d1692c93-6525-4138-c1cd-c16d2bcb4ce5"
      },
      "outputs": [
        {
          "output_type": "execute_result",
          "data": {
            "text/plain": [
              "['circle',\n",
              " 'green',\n",
              " 'red',\n",
              " 'gray',\n",
              " 'yes',\n",
              " 'teal',\n",
              " 'black',\n",
              " 'rectangle',\n",
              " 'yellow',\n",
              " 'triangle',\n",
              " 'brown',\n",
              " 'blue',\n",
              " 'no']"
            ]
          },
          "metadata": {},
          "execution_count": 10
        }
      ],
      "source": [
        "# Find all the possible answers\n",
        "\n",
        "from easy_vqa import get_answers\n",
        "\n",
        "all_answers = get_answers()\n",
        "all_answers"
      ]
    },
    {
      "cell_type": "code",
      "execution_count": null,
      "metadata": {
        "colab": {
          "base_uri": "https://localhost:8080/"
        },
        "id": "khhTfV9OJWTL",
        "outputId": "547e7da5-f3f1-4f6f-98a1-5fd27f11df30"
      },
      "outputs": [
        {
          "output_type": "execute_result",
          "data": {
            "text/plain": [
              "{'circle': 0,\n",
              " 'green': 1,\n",
              " 'red': 2,\n",
              " 'gray': 3,\n",
              " 'yes': 4,\n",
              " 'teal': 5,\n",
              " 'black': 6,\n",
              " 'rectangle': 7,\n",
              " 'yellow': 8,\n",
              " 'triangle': 9,\n",
              " 'brown': 10,\n",
              " 'blue': 11,\n",
              " 'no': 12}"
            ]
          },
          "metadata": {},
          "execution_count": 11
        }
      ],
      "source": [
        "# Get index mapping for the answer labels\n",
        "label2Index = {label: idx for idx, label in enumerate(all_answers)}\n",
        "label2Index"
      ]
    },
    {
      "cell_type": "code",
      "source": [
        "# Get Label to Index mapping for the answer labels\n",
        "index2Label = {idx: label for label, idx in label2Index.items()}\n",
        "index2Label"
      ],
      "metadata": {
        "id": "QgfIFU2jIvnV"
      },
      "execution_count": null,
      "outputs": []
    },
    {
      "cell_type": "markdown",
      "source": [
        "# Preprocess the Data"
      ],
      "metadata": {
        "id": "AoKA4qdlXRDH"
      }
    },
    {
      "cell_type": "code",
      "execution_count": null,
      "metadata": {
        "colab": {
          "base_uri": "https://localhost:8080/",
          "height": 206
        },
        "id": "ifTKqBJ-m0cI",
        "outputId": "e2cb7bb9-0e1c-4915-8ff7-6775fcc9b251"
      },
      "outputs": [
        {
          "output_type": "execute_result",
          "data": {
            "text/plain": [
              "                              question  answer  \\\n",
              "0              what is the blue shape?       7   \n",
              "1             what color is the shape?      11   \n",
              "2  does the image contain a rectangle?       4   \n",
              "3    is there a triangle in the image?      12   \n",
              "4              is there a black shape?      12   \n",
              "\n",
              "                                          image_path  \n",
              "0  /usr/local/lib/python3.10/dist-packages/easy_v...  \n",
              "1  /usr/local/lib/python3.10/dist-packages/easy_v...  \n",
              "2  /usr/local/lib/python3.10/dist-packages/easy_v...  \n",
              "3  /usr/local/lib/python3.10/dist-packages/easy_v...  \n",
              "4  /usr/local/lib/python3.10/dist-packages/easy_v...  "
            ],
            "text/html": [
              "\n",
              "  <div id=\"df-67d07a75-b025-4286-b0ee-5bf264386563\" class=\"colab-df-container\">\n",
              "    <div>\n",
              "<style scoped>\n",
              "    .dataframe tbody tr th:only-of-type {\n",
              "        vertical-align: middle;\n",
              "    }\n",
              "\n",
              "    .dataframe tbody tr th {\n",
              "        vertical-align: top;\n",
              "    }\n",
              "\n",
              "    .dataframe thead th {\n",
              "        text-align: right;\n",
              "    }\n",
              "</style>\n",
              "<table border=\"1\" class=\"dataframe\">\n",
              "  <thead>\n",
              "    <tr style=\"text-align: right;\">\n",
              "      <th></th>\n",
              "      <th>question</th>\n",
              "      <th>answer</th>\n",
              "      <th>image_path</th>\n",
              "    </tr>\n",
              "  </thead>\n",
              "  <tbody>\n",
              "    <tr>\n",
              "      <th>0</th>\n",
              "      <td>what is the blue shape?</td>\n",
              "      <td>7</td>\n",
              "      <td>/usr/local/lib/python3.10/dist-packages/easy_v...</td>\n",
              "    </tr>\n",
              "    <tr>\n",
              "      <th>1</th>\n",
              "      <td>what color is the shape?</td>\n",
              "      <td>11</td>\n",
              "      <td>/usr/local/lib/python3.10/dist-packages/easy_v...</td>\n",
              "    </tr>\n",
              "    <tr>\n",
              "      <th>2</th>\n",
              "      <td>does the image contain a rectangle?</td>\n",
              "      <td>4</td>\n",
              "      <td>/usr/local/lib/python3.10/dist-packages/easy_v...</td>\n",
              "    </tr>\n",
              "    <tr>\n",
              "      <th>3</th>\n",
              "      <td>is there a triangle in the image?</td>\n",
              "      <td>12</td>\n",
              "      <td>/usr/local/lib/python3.10/dist-packages/easy_v...</td>\n",
              "    </tr>\n",
              "    <tr>\n",
              "      <th>4</th>\n",
              "      <td>is there a black shape?</td>\n",
              "      <td>12</td>\n",
              "      <td>/usr/local/lib/python3.10/dist-packages/easy_v...</td>\n",
              "    </tr>\n",
              "  </tbody>\n",
              "</table>\n",
              "</div>\n",
              "    <div class=\"colab-df-buttons\">\n",
              "\n",
              "  <div class=\"colab-df-container\">\n",
              "    <button class=\"colab-df-convert\" onclick=\"convertToInteractive('df-67d07a75-b025-4286-b0ee-5bf264386563')\"\n",
              "            title=\"Convert this dataframe to an interactive table.\"\n",
              "            style=\"display:none;\">\n",
              "\n",
              "  <svg xmlns=\"http://www.w3.org/2000/svg\" height=\"24px\" viewBox=\"0 -960 960 960\">\n",
              "    <path d=\"M120-120v-720h720v720H120Zm60-500h600v-160H180v160Zm220 220h160v-160H400v160Zm0 220h160v-160H400v160ZM180-400h160v-160H180v160Zm440 0h160v-160H620v160ZM180-180h160v-160H180v160Zm440 0h160v-160H620v160Z\"/>\n",
              "  </svg>\n",
              "    </button>\n",
              "\n",
              "  <style>\n",
              "    .colab-df-container {\n",
              "      display:flex;\n",
              "      gap: 12px;\n",
              "    }\n",
              "\n",
              "    .colab-df-convert {\n",
              "      background-color: #E8F0FE;\n",
              "      border: none;\n",
              "      border-radius: 50%;\n",
              "      cursor: pointer;\n",
              "      display: none;\n",
              "      fill: #1967D2;\n",
              "      height: 32px;\n",
              "      padding: 0 0 0 0;\n",
              "      width: 32px;\n",
              "    }\n",
              "\n",
              "    .colab-df-convert:hover {\n",
              "      background-color: #E2EBFA;\n",
              "      box-shadow: 0px 1px 2px rgba(60, 64, 67, 0.3), 0px 1px 3px 1px rgba(60, 64, 67, 0.15);\n",
              "      fill: #174EA6;\n",
              "    }\n",
              "\n",
              "    .colab-df-buttons div {\n",
              "      margin-bottom: 4px;\n",
              "    }\n",
              "\n",
              "    [theme=dark] .colab-df-convert {\n",
              "      background-color: #3B4455;\n",
              "      fill: #D2E3FC;\n",
              "    }\n",
              "\n",
              "    [theme=dark] .colab-df-convert:hover {\n",
              "      background-color: #434B5C;\n",
              "      box-shadow: 0px 1px 3px 1px rgba(0, 0, 0, 0.15);\n",
              "      filter: drop-shadow(0px 1px 2px rgba(0, 0, 0, 0.3));\n",
              "      fill: #FFFFFF;\n",
              "    }\n",
              "  </style>\n",
              "\n",
              "    <script>\n",
              "      const buttonEl =\n",
              "        document.querySelector('#df-67d07a75-b025-4286-b0ee-5bf264386563 button.colab-df-convert');\n",
              "      buttonEl.style.display =\n",
              "        google.colab.kernel.accessAllowed ? 'block' : 'none';\n",
              "\n",
              "      async function convertToInteractive(key) {\n",
              "        const element = document.querySelector('#df-67d07a75-b025-4286-b0ee-5bf264386563');\n",
              "        const dataTable =\n",
              "          await google.colab.kernel.invokeFunction('convertToInteractive',\n",
              "                                                    [key], {});\n",
              "        if (!dataTable) return;\n",
              "\n",
              "        const docLinkHtml = 'Like what you see? Visit the ' +\n",
              "          '<a target=\"_blank\" href=https://colab.research.google.com/notebooks/data_table.ipynb>data table notebook</a>'\n",
              "          + ' to learn more about interactive tables.';\n",
              "        element.innerHTML = '';\n",
              "        dataTable['output_type'] = 'display_data';\n",
              "        await google.colab.output.renderOutput(dataTable, element);\n",
              "        const docLink = document.createElement('div');\n",
              "        docLink.innerHTML = docLinkHtml;\n",
              "        element.appendChild(docLink);\n",
              "      }\n",
              "    </script>\n",
              "  </div>\n",
              "\n",
              "\n",
              "<div id=\"df-3d818444-028d-4055-8315-b11cbc4b6577\">\n",
              "  <button class=\"colab-df-quickchart\" onclick=\"quickchart('df-3d818444-028d-4055-8315-b11cbc4b6577')\"\n",
              "            title=\"Suggest charts\"\n",
              "            style=\"display:none;\">\n",
              "\n",
              "<svg xmlns=\"http://www.w3.org/2000/svg\" height=\"24px\"viewBox=\"0 0 24 24\"\n",
              "     width=\"24px\">\n",
              "    <g>\n",
              "        <path d=\"M19 3H5c-1.1 0-2 .9-2 2v14c0 1.1.9 2 2 2h14c1.1 0 2-.9 2-2V5c0-1.1-.9-2-2-2zM9 17H7v-7h2v7zm4 0h-2V7h2v10zm4 0h-2v-4h2v4z\"/>\n",
              "    </g>\n",
              "</svg>\n",
              "  </button>\n",
              "\n",
              "<style>\n",
              "  .colab-df-quickchart {\n",
              "      --bg-color: #E8F0FE;\n",
              "      --fill-color: #1967D2;\n",
              "      --hover-bg-color: #E2EBFA;\n",
              "      --hover-fill-color: #174EA6;\n",
              "      --disabled-fill-color: #AAA;\n",
              "      --disabled-bg-color: #DDD;\n",
              "  }\n",
              "\n",
              "  [theme=dark] .colab-df-quickchart {\n",
              "      --bg-color: #3B4455;\n",
              "      --fill-color: #D2E3FC;\n",
              "      --hover-bg-color: #434B5C;\n",
              "      --hover-fill-color: #FFFFFF;\n",
              "      --disabled-bg-color: #3B4455;\n",
              "      --disabled-fill-color: #666;\n",
              "  }\n",
              "\n",
              "  .colab-df-quickchart {\n",
              "    background-color: var(--bg-color);\n",
              "    border: none;\n",
              "    border-radius: 50%;\n",
              "    cursor: pointer;\n",
              "    display: none;\n",
              "    fill: var(--fill-color);\n",
              "    height: 32px;\n",
              "    padding: 0;\n",
              "    width: 32px;\n",
              "  }\n",
              "\n",
              "  .colab-df-quickchart:hover {\n",
              "    background-color: var(--hover-bg-color);\n",
              "    box-shadow: 0 1px 2px rgba(60, 64, 67, 0.3), 0 1px 3px 1px rgba(60, 64, 67, 0.15);\n",
              "    fill: var(--button-hover-fill-color);\n",
              "  }\n",
              "\n",
              "  .colab-df-quickchart-complete:disabled,\n",
              "  .colab-df-quickchart-complete:disabled:hover {\n",
              "    background-color: var(--disabled-bg-color);\n",
              "    fill: var(--disabled-fill-color);\n",
              "    box-shadow: none;\n",
              "  }\n",
              "\n",
              "  .colab-df-spinner {\n",
              "    border: 2px solid var(--fill-color);\n",
              "    border-color: transparent;\n",
              "    border-bottom-color: var(--fill-color);\n",
              "    animation:\n",
              "      spin 1s steps(1) infinite;\n",
              "  }\n",
              "\n",
              "  @keyframes spin {\n",
              "    0% {\n",
              "      border-color: transparent;\n",
              "      border-bottom-color: var(--fill-color);\n",
              "      border-left-color: var(--fill-color);\n",
              "    }\n",
              "    20% {\n",
              "      border-color: transparent;\n",
              "      border-left-color: var(--fill-color);\n",
              "      border-top-color: var(--fill-color);\n",
              "    }\n",
              "    30% {\n",
              "      border-color: transparent;\n",
              "      border-left-color: var(--fill-color);\n",
              "      border-top-color: var(--fill-color);\n",
              "      border-right-color: var(--fill-color);\n",
              "    }\n",
              "    40% {\n",
              "      border-color: transparent;\n",
              "      border-right-color: var(--fill-color);\n",
              "      border-top-color: var(--fill-color);\n",
              "    }\n",
              "    60% {\n",
              "      border-color: transparent;\n",
              "      border-right-color: var(--fill-color);\n",
              "    }\n",
              "    80% {\n",
              "      border-color: transparent;\n",
              "      border-right-color: var(--fill-color);\n",
              "      border-bottom-color: var(--fill-color);\n",
              "    }\n",
              "    90% {\n",
              "      border-color: transparent;\n",
              "      border-bottom-color: var(--fill-color);\n",
              "    }\n",
              "  }\n",
              "</style>\n",
              "\n",
              "  <script>\n",
              "    async function quickchart(key) {\n",
              "      const quickchartButtonEl =\n",
              "        document.querySelector('#' + key + ' button');\n",
              "      quickchartButtonEl.disabled = true;  // To prevent multiple clicks.\n",
              "      quickchartButtonEl.classList.add('colab-df-spinner');\n",
              "      try {\n",
              "        const charts = await google.colab.kernel.invokeFunction(\n",
              "            'suggestCharts', [key], {});\n",
              "      } catch (error) {\n",
              "        console.error('Error during call to suggestCharts:', error);\n",
              "      }\n",
              "      quickchartButtonEl.classList.remove('colab-df-spinner');\n",
              "      quickchartButtonEl.classList.add('colab-df-quickchart-complete');\n",
              "    }\n",
              "    (() => {\n",
              "      let quickchartButtonEl =\n",
              "        document.querySelector('#df-3d818444-028d-4055-8315-b11cbc4b6577 button');\n",
              "      quickchartButtonEl.style.display =\n",
              "        google.colab.kernel.accessAllowed ? 'block' : 'none';\n",
              "    })();\n",
              "  </script>\n",
              "</div>\n",
              "\n",
              "    </div>\n",
              "  </div>\n"
            ],
            "application/vnd.google.colaboratory.intrinsic+json": {
              "type": "dataframe",
              "variable_name": "train_df",
              "summary": "{\n  \"name\": \"train_df\",\n  \"rows\": 38575,\n  \"fields\": [\n    {\n      \"column\": \"question\",\n      \"properties\": {\n        \"dtype\": \"category\",\n        \"num_unique_values\": 107,\n        \"samples\": [\n          \"is there a black shape in the image?\",\n          \"is there not a yellow shape?\",\n          \"is there a black shape?\"\n        ],\n        \"semantic_type\": \"\",\n        \"description\": \"\"\n      }\n    },\n    {\n      \"column\": \"answer\",\n      \"properties\": {\n        \"dtype\": \"number\",\n        \"std\": 4,\n        \"min\": 0,\n        \"max\": 12,\n        \"num_unique_values\": 13,\n        \"samples\": [\n          5,\n          6,\n          7\n        ],\n        \"semantic_type\": \"\",\n        \"description\": \"\"\n      }\n    },\n    {\n      \"column\": \"image_path\",\n      \"properties\": {\n        \"dtype\": \"category\",\n        \"num_unique_values\": 4000,\n        \"samples\": [\n          \"/usr/local/lib/python3.10/dist-packages/easy_vqa/data/train/images/555.png\",\n          \"/usr/local/lib/python3.10/dist-packages/easy_vqa/data/train/images/3491.png\",\n          \"/usr/local/lib/python3.10/dist-packages/easy_vqa/data/train/images/527.png\"\n        ],\n        \"semantic_type\": \"\",\n        \"description\": \"\"\n      }\n    }\n  ]\n}"
            }
          },
          "metadata": {},
          "execution_count": 12
        }
      ],
      "source": [
        "# Generate a Train dataframe\n",
        "\n",
        "import pandas as pd\n",
        "\n",
        "image_paths = [f\"/usr/local/lib/python3.10/dist-packages/easy_vqa/data/train/images/{image_id}.png\" for image_id in train_image_ids]\n",
        "train_answer_labels = [label2Index[answer] for answer in train_answers]\n",
        "\n",
        "train_df = pd.DataFrame({'question': train_questions, 'answer': train_answer_labels, 'image_path': image_paths})\n",
        "train_df.head()"
      ]
    },
    {
      "cell_type": "code",
      "source": [
        "# Generate a Test dataframe\n",
        "\n",
        "import pandas as pd\n",
        "\n",
        "image_paths = [f\"/usr/local/lib/python3.10/dist-packages/easy_vqa/data/test/images/{image_id}.png\" for image_id in test_image_ids]\n",
        "test_answer_labels = [label2Index[answer] for answer in test_answers]\n",
        "\n",
        "test_df = pd.DataFrame({'question': test_questions, 'answer': test_answer_labels, 'image_path': image_paths})\n",
        "test_df.head()"
      ],
      "metadata": {
        "colab": {
          "base_uri": "https://localhost:8080/",
          "height": 206
        },
        "id": "1bIp-Ve87v_l",
        "outputId": "22b134fe-2c19-4f25-a758-2840a8852444"
      },
      "execution_count": null,
      "outputs": [
        {
          "output_type": "execute_result",
          "data": {
            "text/plain": [
              "                                   question  answer  \\\n",
              "0                    what is the red shape?       9   \n",
              "1        what is the color of the triangle?       2   \n",
              "2           what is the color of the shape?       2   \n",
              "3          does the image contain a circle?      12   \n",
              "4  is there not a black shape in the image?       4   \n",
              "\n",
              "                                          image_path  \n",
              "0  /usr/local/lib/python3.10/dist-packages/easy_v...  \n",
              "1  /usr/local/lib/python3.10/dist-packages/easy_v...  \n",
              "2  /usr/local/lib/python3.10/dist-packages/easy_v...  \n",
              "3  /usr/local/lib/python3.10/dist-packages/easy_v...  \n",
              "4  /usr/local/lib/python3.10/dist-packages/easy_v...  "
            ],
            "text/html": [
              "\n",
              "  <div id=\"df-a06f24a7-7b33-4175-9461-ee7f28d6716a\" class=\"colab-df-container\">\n",
              "    <div>\n",
              "<style scoped>\n",
              "    .dataframe tbody tr th:only-of-type {\n",
              "        vertical-align: middle;\n",
              "    }\n",
              "\n",
              "    .dataframe tbody tr th {\n",
              "        vertical-align: top;\n",
              "    }\n",
              "\n",
              "    .dataframe thead th {\n",
              "        text-align: right;\n",
              "    }\n",
              "</style>\n",
              "<table border=\"1\" class=\"dataframe\">\n",
              "  <thead>\n",
              "    <tr style=\"text-align: right;\">\n",
              "      <th></th>\n",
              "      <th>question</th>\n",
              "      <th>answer</th>\n",
              "      <th>image_path</th>\n",
              "    </tr>\n",
              "  </thead>\n",
              "  <tbody>\n",
              "    <tr>\n",
              "      <th>0</th>\n",
              "      <td>what is the red shape?</td>\n",
              "      <td>9</td>\n",
              "      <td>/usr/local/lib/python3.10/dist-packages/easy_v...</td>\n",
              "    </tr>\n",
              "    <tr>\n",
              "      <th>1</th>\n",
              "      <td>what is the color of the triangle?</td>\n",
              "      <td>2</td>\n",
              "      <td>/usr/local/lib/python3.10/dist-packages/easy_v...</td>\n",
              "    </tr>\n",
              "    <tr>\n",
              "      <th>2</th>\n",
              "      <td>what is the color of the shape?</td>\n",
              "      <td>2</td>\n",
              "      <td>/usr/local/lib/python3.10/dist-packages/easy_v...</td>\n",
              "    </tr>\n",
              "    <tr>\n",
              "      <th>3</th>\n",
              "      <td>does the image contain a circle?</td>\n",
              "      <td>12</td>\n",
              "      <td>/usr/local/lib/python3.10/dist-packages/easy_v...</td>\n",
              "    </tr>\n",
              "    <tr>\n",
              "      <th>4</th>\n",
              "      <td>is there not a black shape in the image?</td>\n",
              "      <td>4</td>\n",
              "      <td>/usr/local/lib/python3.10/dist-packages/easy_v...</td>\n",
              "    </tr>\n",
              "  </tbody>\n",
              "</table>\n",
              "</div>\n",
              "    <div class=\"colab-df-buttons\">\n",
              "\n",
              "  <div class=\"colab-df-container\">\n",
              "    <button class=\"colab-df-convert\" onclick=\"convertToInteractive('df-a06f24a7-7b33-4175-9461-ee7f28d6716a')\"\n",
              "            title=\"Convert this dataframe to an interactive table.\"\n",
              "            style=\"display:none;\">\n",
              "\n",
              "  <svg xmlns=\"http://www.w3.org/2000/svg\" height=\"24px\" viewBox=\"0 -960 960 960\">\n",
              "    <path d=\"M120-120v-720h720v720H120Zm60-500h600v-160H180v160Zm220 220h160v-160H400v160Zm0 220h160v-160H400v160ZM180-400h160v-160H180v160Zm440 0h160v-160H620v160ZM180-180h160v-160H180v160Zm440 0h160v-160H620v160Z\"/>\n",
              "  </svg>\n",
              "    </button>\n",
              "\n",
              "  <style>\n",
              "    .colab-df-container {\n",
              "      display:flex;\n",
              "      gap: 12px;\n",
              "    }\n",
              "\n",
              "    .colab-df-convert {\n",
              "      background-color: #E8F0FE;\n",
              "      border: none;\n",
              "      border-radius: 50%;\n",
              "      cursor: pointer;\n",
              "      display: none;\n",
              "      fill: #1967D2;\n",
              "      height: 32px;\n",
              "      padding: 0 0 0 0;\n",
              "      width: 32px;\n",
              "    }\n",
              "\n",
              "    .colab-df-convert:hover {\n",
              "      background-color: #E2EBFA;\n",
              "      box-shadow: 0px 1px 2px rgba(60, 64, 67, 0.3), 0px 1px 3px 1px rgba(60, 64, 67, 0.15);\n",
              "      fill: #174EA6;\n",
              "    }\n",
              "\n",
              "    .colab-df-buttons div {\n",
              "      margin-bottom: 4px;\n",
              "    }\n",
              "\n",
              "    [theme=dark] .colab-df-convert {\n",
              "      background-color: #3B4455;\n",
              "      fill: #D2E3FC;\n",
              "    }\n",
              "\n",
              "    [theme=dark] .colab-df-convert:hover {\n",
              "      background-color: #434B5C;\n",
              "      box-shadow: 0px 1px 3px 1px rgba(0, 0, 0, 0.15);\n",
              "      filter: drop-shadow(0px 1px 2px rgba(0, 0, 0, 0.3));\n",
              "      fill: #FFFFFF;\n",
              "    }\n",
              "  </style>\n",
              "\n",
              "    <script>\n",
              "      const buttonEl =\n",
              "        document.querySelector('#df-a06f24a7-7b33-4175-9461-ee7f28d6716a button.colab-df-convert');\n",
              "      buttonEl.style.display =\n",
              "        google.colab.kernel.accessAllowed ? 'block' : 'none';\n",
              "\n",
              "      async function convertToInteractive(key) {\n",
              "        const element = document.querySelector('#df-a06f24a7-7b33-4175-9461-ee7f28d6716a');\n",
              "        const dataTable =\n",
              "          await google.colab.kernel.invokeFunction('convertToInteractive',\n",
              "                                                    [key], {});\n",
              "        if (!dataTable) return;\n",
              "\n",
              "        const docLinkHtml = 'Like what you see? Visit the ' +\n",
              "          '<a target=\"_blank\" href=https://colab.research.google.com/notebooks/data_table.ipynb>data table notebook</a>'\n",
              "          + ' to learn more about interactive tables.';\n",
              "        element.innerHTML = '';\n",
              "        dataTable['output_type'] = 'display_data';\n",
              "        await google.colab.output.renderOutput(dataTable, element);\n",
              "        const docLink = document.createElement('div');\n",
              "        docLink.innerHTML = docLinkHtml;\n",
              "        element.appendChild(docLink);\n",
              "      }\n",
              "    </script>\n",
              "  </div>\n",
              "\n",
              "\n",
              "<div id=\"df-846cbbea-37c1-41a1-960a-aedc7f71704e\">\n",
              "  <button class=\"colab-df-quickchart\" onclick=\"quickchart('df-846cbbea-37c1-41a1-960a-aedc7f71704e')\"\n",
              "            title=\"Suggest charts\"\n",
              "            style=\"display:none;\">\n",
              "\n",
              "<svg xmlns=\"http://www.w3.org/2000/svg\" height=\"24px\"viewBox=\"0 0 24 24\"\n",
              "     width=\"24px\">\n",
              "    <g>\n",
              "        <path d=\"M19 3H5c-1.1 0-2 .9-2 2v14c0 1.1.9 2 2 2h14c1.1 0 2-.9 2-2V5c0-1.1-.9-2-2-2zM9 17H7v-7h2v7zm4 0h-2V7h2v10zm4 0h-2v-4h2v4z\"/>\n",
              "    </g>\n",
              "</svg>\n",
              "  </button>\n",
              "\n",
              "<style>\n",
              "  .colab-df-quickchart {\n",
              "      --bg-color: #E8F0FE;\n",
              "      --fill-color: #1967D2;\n",
              "      --hover-bg-color: #E2EBFA;\n",
              "      --hover-fill-color: #174EA6;\n",
              "      --disabled-fill-color: #AAA;\n",
              "      --disabled-bg-color: #DDD;\n",
              "  }\n",
              "\n",
              "  [theme=dark] .colab-df-quickchart {\n",
              "      --bg-color: #3B4455;\n",
              "      --fill-color: #D2E3FC;\n",
              "      --hover-bg-color: #434B5C;\n",
              "      --hover-fill-color: #FFFFFF;\n",
              "      --disabled-bg-color: #3B4455;\n",
              "      --disabled-fill-color: #666;\n",
              "  }\n",
              "\n",
              "  .colab-df-quickchart {\n",
              "    background-color: var(--bg-color);\n",
              "    border: none;\n",
              "    border-radius: 50%;\n",
              "    cursor: pointer;\n",
              "    display: none;\n",
              "    fill: var(--fill-color);\n",
              "    height: 32px;\n",
              "    padding: 0;\n",
              "    width: 32px;\n",
              "  }\n",
              "\n",
              "  .colab-df-quickchart:hover {\n",
              "    background-color: var(--hover-bg-color);\n",
              "    box-shadow: 0 1px 2px rgba(60, 64, 67, 0.3), 0 1px 3px 1px rgba(60, 64, 67, 0.15);\n",
              "    fill: var(--button-hover-fill-color);\n",
              "  }\n",
              "\n",
              "  .colab-df-quickchart-complete:disabled,\n",
              "  .colab-df-quickchart-complete:disabled:hover {\n",
              "    background-color: var(--disabled-bg-color);\n",
              "    fill: var(--disabled-fill-color);\n",
              "    box-shadow: none;\n",
              "  }\n",
              "\n",
              "  .colab-df-spinner {\n",
              "    border: 2px solid var(--fill-color);\n",
              "    border-color: transparent;\n",
              "    border-bottom-color: var(--fill-color);\n",
              "    animation:\n",
              "      spin 1s steps(1) infinite;\n",
              "  }\n",
              "\n",
              "  @keyframes spin {\n",
              "    0% {\n",
              "      border-color: transparent;\n",
              "      border-bottom-color: var(--fill-color);\n",
              "      border-left-color: var(--fill-color);\n",
              "    }\n",
              "    20% {\n",
              "      border-color: transparent;\n",
              "      border-left-color: var(--fill-color);\n",
              "      border-top-color: var(--fill-color);\n",
              "    }\n",
              "    30% {\n",
              "      border-color: transparent;\n",
              "      border-left-color: var(--fill-color);\n",
              "      border-top-color: var(--fill-color);\n",
              "      border-right-color: var(--fill-color);\n",
              "    }\n",
              "    40% {\n",
              "      border-color: transparent;\n",
              "      border-right-color: var(--fill-color);\n",
              "      border-top-color: var(--fill-color);\n",
              "    }\n",
              "    60% {\n",
              "      border-color: transparent;\n",
              "      border-right-color: var(--fill-color);\n",
              "    }\n",
              "    80% {\n",
              "      border-color: transparent;\n",
              "      border-right-color: var(--fill-color);\n",
              "      border-bottom-color: var(--fill-color);\n",
              "    }\n",
              "    90% {\n",
              "      border-color: transparent;\n",
              "      border-bottom-color: var(--fill-color);\n",
              "    }\n",
              "  }\n",
              "</style>\n",
              "\n",
              "  <script>\n",
              "    async function quickchart(key) {\n",
              "      const quickchartButtonEl =\n",
              "        document.querySelector('#' + key + ' button');\n",
              "      quickchartButtonEl.disabled = true;  // To prevent multiple clicks.\n",
              "      quickchartButtonEl.classList.add('colab-df-spinner');\n",
              "      try {\n",
              "        const charts = await google.colab.kernel.invokeFunction(\n",
              "            'suggestCharts', [key], {});\n",
              "      } catch (error) {\n",
              "        console.error('Error during call to suggestCharts:', error);\n",
              "      }\n",
              "      quickchartButtonEl.classList.remove('colab-df-spinner');\n",
              "      quickchartButtonEl.classList.add('colab-df-quickchart-complete');\n",
              "    }\n",
              "    (() => {\n",
              "      let quickchartButtonEl =\n",
              "        document.querySelector('#df-846cbbea-37c1-41a1-960a-aedc7f71704e button');\n",
              "      quickchartButtonEl.style.display =\n",
              "        google.colab.kernel.accessAllowed ? 'block' : 'none';\n",
              "    })();\n",
              "  </script>\n",
              "</div>\n",
              "\n",
              "    </div>\n",
              "  </div>\n"
            ],
            "application/vnd.google.colaboratory.intrinsic+json": {
              "type": "dataframe",
              "variable_name": "test_df",
              "summary": "{\n  \"name\": \"test_df\",\n  \"rows\": 9673,\n  \"fields\": [\n    {\n      \"column\": \"question\",\n      \"properties\": {\n        \"dtype\": \"category\",\n        \"num_unique_values\": 107,\n        \"samples\": [\n          \"is there a teal shape?\",\n          \"is there a brown shape?\",\n          \"is there not a black shape in the image?\"\n        ],\n        \"semantic_type\": \"\",\n        \"description\": \"\"\n      }\n    },\n    {\n      \"column\": \"answer\",\n      \"properties\": {\n        \"dtype\": \"number\",\n        \"std\": 4,\n        \"min\": 0,\n        \"max\": 12,\n        \"num_unique_values\": 13,\n        \"samples\": [\n          5,\n          7,\n          9\n        ],\n        \"semantic_type\": \"\",\n        \"description\": \"\"\n      }\n    },\n    {\n      \"column\": \"image_path\",\n      \"properties\": {\n        \"dtype\": \"category\",\n        \"num_unique_values\": 1000,\n        \"samples\": [\n          \"/usr/local/lib/python3.10/dist-packages/easy_vqa/data/test/images/521.png\",\n          \"/usr/local/lib/python3.10/dist-packages/easy_vqa/data/test/images/737.png\",\n          \"/usr/local/lib/python3.10/dist-packages/easy_vqa/data/test/images/740.png\"\n        ],\n        \"semantic_type\": \"\",\n        \"description\": \"\"\n      }\n    }\n  ]\n}"
            }
          },
          "metadata": {},
          "execution_count": 13
        }
      ]
    },
    {
      "cell_type": "code",
      "execution_count": null,
      "metadata": {
        "id": "DPMCLsQVuwDG"
      },
      "outputs": [],
      "source": [
        "import os\n",
        "import numpy as np\n",
        "import tensorflow as tf\n",
        "from tensorflow import keras"
      ]
    },
    {
      "cell_type": "code",
      "execution_count": null,
      "metadata": {
        "colab": {
          "base_uri": "https://localhost:8080/"
        },
        "id": "iXJ3iZeULc-4",
        "outputId": "3145510f-73a6-4273-f682-b49c4ca871ea"
      },
      "outputs": [
        {
          "output_type": "execute_result",
          "data": {
            "text/plain": [
              "(38575, 64, 64, 3)"
            ]
          },
          "metadata": {},
          "execution_count": 15
        }
      ],
      "source": [
        "train_image_dir = \"/usr/local/lib/python3.10/dist-packages/easy_vqa/data/train/images\"\n",
        "\n",
        "image_map = dict()\n",
        "\n",
        "IMAGE_SHAPE = (64, 64)\n",
        "BATCH_SIZE = 32\n",
        "\n",
        "def load_image(image_path):\n",
        "  image = tf.io.read_file(image_path)\n",
        "  image = tf.image.decode_jpeg(image, channels=3)\n",
        "  image = tf.image.resize(image, IMAGE_SHAPE)\n",
        "  image = tf.cast(image, tf.float32) / 255.0\n",
        "  return image\n",
        "\n",
        "train_images = []\n",
        "\n",
        "for image_id in train_image_ids:\n",
        "  if image_id not in image_map:\n",
        "    image_path = os.path.join(train_image_dir, f\"{image_id}.png\")\n",
        "    image = load_image(image_path)\n",
        "    image_map[image_id] = image\n",
        "\n",
        "  # Appending the arrays\n",
        "  train_images.append(image_map[image_id]) # appending image array\n",
        "\n",
        "train_images = np.array(train_images)\n",
        "train_images.shape"
      ]
    },
    {
      "cell_type": "code",
      "execution_count": null,
      "metadata": {
        "colab": {
          "base_uri": "https://localhost:8080/"
        },
        "id": "Jh76vmGhPijQ",
        "outputId": "f92d3d83-6553-45a7-938c-28384152037b"
      },
      "outputs": [
        {
          "output_type": "execute_result",
          "data": {
            "text/plain": [
              "(9673, 64, 64, 3)"
            ]
          },
          "metadata": {},
          "execution_count": 16
        }
      ],
      "source": [
        "test_image_dir = \"/usr/local/lib/python3.10/dist-packages/easy_vqa/data/test/images\"\n",
        "\n",
        "test_image_map = dict()\n",
        "\n",
        "test_images = []\n",
        "\n",
        "for image_id in test_image_ids:\n",
        "  if image_id not in test_image_map:\n",
        "    image_path = os.path.join(train_image_dir, f\"{image_id}.png\")\n",
        "    image = load_image(image_path)\n",
        "    test_image_map[image_id] = image\n",
        "\n",
        "  # Appending the arrays\n",
        "  test_images.append(test_image_map[image_id]) # appending image array\n",
        "\n",
        "test_images = np.array(test_images)\n",
        "test_images.shape"
      ]
    },
    {
      "cell_type": "code",
      "source": [
        "train_questions = list(train_df['question'].values)\n",
        "\n",
        "train_questions[:10]"
      ],
      "metadata": {
        "colab": {
          "base_uri": "https://localhost:8080/"
        },
        "id": "25zp-kTVlJbK",
        "outputId": "ad55da60-c331-4d25-ffdd-1b88da219525"
      },
      "execution_count": null,
      "outputs": [
        {
          "output_type": "execute_result",
          "data": {
            "text/plain": [
              "['what is the blue shape?',\n",
              " 'what color is the shape?',\n",
              " 'does the image contain a rectangle?',\n",
              " 'is there a triangle in the image?',\n",
              " 'is there a black shape?',\n",
              " 'does the image not contain a gray shape?',\n",
              " 'is there a red shape in the image?',\n",
              " 'does the image not contain a red shape?',\n",
              " 'is there not a blue shape?',\n",
              " 'is there not a blue shape in the image?']"
            ]
          },
          "metadata": {},
          "execution_count": 41
        }
      ]
    },
    {
      "cell_type": "code",
      "source": [
        "train_output_labels = train_df['answer'].values\n",
        "\n",
        "train_output_labels.shape"
      ],
      "metadata": {
        "colab": {
          "base_uri": "https://localhost:8080/"
        },
        "id": "560TZ31Y55MK",
        "outputId": "9d04ade9-9476-46e7-af9e-07cd85781994"
      },
      "execution_count": null,
      "outputs": [
        {
          "output_type": "execute_result",
          "data": {
            "text/plain": [
              "(38575,)"
            ]
          },
          "metadata": {},
          "execution_count": 18
        }
      ]
    },
    {
      "cell_type": "code",
      "source": [
        "train_output_labels[:10], list(map(lambda x: index2Label[x], train_output_labels))[:10]"
      ],
      "metadata": {
        "id": "xvmRkDg9IdXM"
      },
      "execution_count": null,
      "outputs": []
    },
    {
      "cell_type": "code",
      "source": [
        "test_questions = list(test_df['question'].values)\n",
        "\n",
        "test_questions[:10]"
      ],
      "metadata": {
        "colab": {
          "base_uri": "https://localhost:8080/"
        },
        "id": "4r6M_4EOAO4Y",
        "outputId": "2a005a80-c39c-4765-fa62-c528d8dec85c"
      },
      "execution_count": null,
      "outputs": [
        {
          "output_type": "execute_result",
          "data": {
            "text/plain": [
              "['what is the red shape?',\n",
              " 'what is the color of the triangle?',\n",
              " 'what is the color of the shape?',\n",
              " 'does the image contain a circle?',\n",
              " 'is there not a black shape in the image?',\n",
              " 'does the image contain a green shape?',\n",
              " 'is a green shape present?',\n",
              " 'is there a blue shape in the image?',\n",
              " 'is no blue shape present?',\n",
              " 'is a yellow shape present?']"
            ]
          },
          "metadata": {},
          "execution_count": 38
        }
      ]
    },
    {
      "cell_type": "code",
      "source": [
        "test_output_labels = test_df['answer'].values\n",
        "\n",
        "test_output_labels.shape"
      ],
      "metadata": {
        "colab": {
          "base_uri": "https://localhost:8080/"
        },
        "id": "QiqNQd5zAXSZ",
        "outputId": "4b4aeef0-de20-475b-db6b-162491011e3a"
      },
      "execution_count": null,
      "outputs": [
        {
          "output_type": "execute_result",
          "data": {
            "text/plain": [
              "(9673,)"
            ]
          },
          "metadata": {},
          "execution_count": 20
        }
      ]
    },
    {
      "cell_type": "markdown",
      "source": [
        "# A simple Model"
      ],
      "metadata": {
        "id": "L7YTklLKXYNe"
      }
    },
    {
      "cell_type": "code",
      "source": [
        "import tensorflow as tf\n",
        "from tensorflow.keras.layers import Input, Dense, Conv2D, MaxPooling2D, Flatten, Embedding, LSTM, concatenate\n",
        "from tensorflow.keras.models import Model\n",
        "from tensorflow.keras.preprocessing.text import Tokenizer\n",
        "from tensorflow.keras.preprocessing.sequence import pad_sequences\n",
        "import numpy as np"
      ],
      "metadata": {
        "id": "FwMRhIjFVzvT"
      },
      "execution_count": null,
      "outputs": []
    },
    {
      "cell_type": "code",
      "source": [
        "# Example data\n",
        "num_samples = 5000\n",
        "max_text_length = 30\n",
        "vocab_size = 2000\n",
        "embedding_dim = 50\n",
        "image_shape = (64, 64, 3)\n",
        "num_output_labels = 13\n",
        "\n",
        "# Image data\n",
        "image_data = train_images[:num_samples]\n",
        "validation_image_data = train_images[num_samples: num_samples+1000]\n",
        "\n",
        "# Text data\n",
        "question_text_data = train_questions[:num_samples]\n",
        "validation_question_data = train_questions[num_samples: num_samples+1000]"
      ],
      "metadata": {
        "id": "R1uWf2ZtVyyk"
      },
      "execution_count": null,
      "outputs": []
    },
    {
      "cell_type": "code",
      "source": [
        "tokenizer = Tokenizer(num_words=vocab_size)\n",
        "tokenizer.fit_on_texts(question_text_data)\n",
        "sequences = tokenizer.texts_to_sequences(question_text_data)\n",
        "question_data_padded = pad_sequences(sequences, maxlen=max_text_length)\n",
        "\n",
        "tokenizer = Tokenizer(num_words=vocab_size)\n",
        "tokenizer.fit_on_texts(validation_question_data)\n",
        "sequences = tokenizer.texts_to_sequences(validation_question_data)\n",
        "val_question_data_padded = pad_sequences(sequences, maxlen=max_text_length)\n",
        "\n",
        "validation_labels = train_output_labels[num_samples: num_samples+1000]"
      ],
      "metadata": {
        "id": "qVfEHmJfZGAl"
      },
      "execution_count": null,
      "outputs": []
    },
    {
      "cell_type": "code",
      "execution_count": null,
      "metadata": {
        "id": "jd6ogF3vmyg3",
        "colab": {
          "base_uri": "https://localhost:8080/"
        },
        "outputId": "5b2635f0-9e8e-408e-d474-ef353e80d973"
      },
      "outputs": [
        {
          "output_type": "stream",
          "name": "stdout",
          "text": [
            "Model: \"model_10\"\n",
            "__________________________________________________________________________________________________\n",
            " Layer (type)                Output Shape                 Param #   Connected to                  \n",
            "==================================================================================================\n",
            " image_input (InputLayer)    [(None, 64, 64, 3)]          0         []                            \n",
            "                                                                                                  \n",
            " conv2d_21 (Conv2D)          (None, 62, 62, 32)           896       ['image_input[0][0]']         \n",
            "                                                                                                  \n",
            " text_input (InputLayer)     [(None, 30)]                 0         []                            \n",
            "                                                                                                  \n",
            " conv2d_22 (Conv2D)          (None, 60, 60, 64)           18496     ['conv2d_21[0][0]']           \n",
            "                                                                                                  \n",
            " embedding_10 (Embedding)    (None, 30, 50)               100000    ['text_input[0][0]']          \n",
            "                                                                                                  \n",
            " max_pooling2d_10 (MaxPooli  (None, 30, 30, 64)           0         ['conv2d_22[0][0]']           \n",
            " ng2D)                                                                                            \n",
            "                                                                                                  \n",
            " lstm_10 (LSTM)              (None, 128)                  91648     ['embedding_10[0][0]']        \n",
            "                                                                                                  \n",
            " flatten_10 (Flatten)        (None, 57600)                0         ['max_pooling2d_10[0][0]']    \n",
            "                                                                                                  \n",
            " dense_41 (Dense)            (None, 128)                  16512     ['lstm_10[0][0]']             \n",
            "                                                                                                  \n",
            " dense_40 (Dense)            (None, 64)                   3686464   ['flatten_10[0][0]']          \n",
            "                                                                                                  \n",
            " dense_42 (Dense)            (None, 64)                   8256      ['dense_41[0][0]']            \n",
            "                                                                                                  \n",
            " concatenate_10 (Concatenat  (None, 128)                  0         ['dense_40[0][0]',            \n",
            " e)                                                                  'dense_42[0][0]']            \n",
            "                                                                                                  \n",
            " dense_43 (Dense)            (None, 64)                   8256      ['concatenate_10[0][0]']      \n",
            "                                                                                                  \n",
            " dense_44 (Dense)            (None, 13)                   845       ['dense_43[0][0]']            \n",
            "                                                                                                  \n",
            "==================================================================================================\n",
            "Total params: 3931373 (15.00 MB)\n",
            "Trainable params: 3931373 (15.00 MB)\n",
            "Non-trainable params: 0 (0.00 Byte)\n",
            "__________________________________________________________________________________________________\n",
            "Epoch 1/10\n",
            "157/157 [==============================] - 75s 457ms/step - loss: 1.3152 - accuracy: 0.5092 - val_loss: 1.6016 - val_accuracy: 0.4900\n",
            "Epoch 2/10\n",
            "157/157 [==============================] - 69s 438ms/step - loss: 0.6746 - accuracy: 0.7310 - val_loss: 1.4570 - val_accuracy: 0.5880\n",
            "Epoch 3/10\n",
            "157/157 [==============================] - 69s 441ms/step - loss: 0.5428 - accuracy: 0.7902 - val_loss: 1.4069 - val_accuracy: 0.5700\n",
            "Epoch 4/10\n",
            "157/157 [==============================] - 71s 452ms/step - loss: 0.5027 - accuracy: 0.8094 - val_loss: 1.2734 - val_accuracy: 0.5560\n",
            "Epoch 5/10\n",
            "157/157 [==============================] - 71s 454ms/step - loss: 0.4343 - accuracy: 0.8288 - val_loss: 1.5016 - val_accuracy: 0.5630\n",
            "Epoch 6/10\n",
            "157/157 [==============================] - 71s 456ms/step - loss: 0.4015 - accuracy: 0.8398 - val_loss: 1.6624 - val_accuracy: 0.5780\n",
            "Epoch 7/10\n",
            "157/157 [==============================] - 72s 457ms/step - loss: 0.3815 - accuracy: 0.8504 - val_loss: 1.3857 - val_accuracy: 0.5900\n",
            "Epoch 8/10\n",
            "157/157 [==============================] - 71s 453ms/step - loss: 0.3711 - accuracy: 0.8576 - val_loss: 1.6416 - val_accuracy: 0.5580\n",
            "Epoch 9/10\n",
            "157/157 [==============================] - 69s 438ms/step - loss: 0.3468 - accuracy: 0.8586 - val_loss: 1.5642 - val_accuracy: 0.5700\n",
            "Epoch 10/10\n",
            "157/157 [==============================] - 69s 437ms/step - loss: 0.3321 - accuracy: 0.8658 - val_loss: 1.4394 - val_accuracy: 0.6220\n"
          ]
        }
      ],
      "source": [
        "# Image input\n",
        "image_input = Input(shape=image_shape, name='image_input')\n",
        "x = Conv2D(32, (3, 3), activation='relu')(image_input)\n",
        "x = Conv2D(64, (3, 3), activation='relu')(x)\n",
        "x = MaxPooling2D(pool_size=(2, 2), strides=None, padding='valid')(x)\n",
        "x = Flatten()(x)\n",
        "x = Dense(64, activation='relu')(x)\n",
        "\n",
        "\n",
        "# Text input\n",
        "text_input = Input(shape=(max_text_length,), dtype='int32', name='text_input')\n",
        "text_features = Embedding(input_dim=vocab_size, output_dim=embedding_dim, input_length=max_text_length)(text_input)\n",
        "y = LSTM(128)(text_features)\n",
        "y = Dense(128, activation='relu')(y)\n",
        "y = Dense(64, activation='relu')(y)\n",
        "\n",
        "\n",
        "# Concatenate features\n",
        "combined_features = concatenate([x, y])\n",
        "\n",
        "# Add dense layers for final classification\n",
        "z = Dense(64, activation='relu')(combined_features)\n",
        "output = Dense(num_output_labels, activation='softmax')(z)\n",
        "\n",
        "# Create the model\n",
        "model = Model(inputs=[image_input, text_input], outputs=output)\n",
        "\n",
        "# Compile the model\n",
        "model.compile(optimizer='adam', loss='sparse_categorical_crossentropy', metrics=['accuracy'])\n",
        "\n",
        "# Print model summary\n",
        "model.summary()\n",
        "\n",
        "# Generate dummy labels for training\n",
        "labels = train_output_labels[:num_samples]\n",
        "\n",
        "# Early Stopping callback\n",
        "callback = keras.callbacks.EarlyStopping(monitor='loss', patience=3)\n",
        "\n",
        "# Train the model\n",
        "history = model.fit([image_data, question_data_padded], labels, validation_data=([validation_image_data, val_question_data_padded],validation_labels), epochs=10, batch_size=32)\n"
      ]
    },
    {
      "cell_type": "markdown",
      "source": [
        "# Inference"
      ],
      "metadata": {
        "id": "AP-QvRyrHytY"
      }
    },
    {
      "cell_type": "code",
      "source": [
        "tokenizer = Tokenizer(num_words=vocab_size)\n",
        "tokenized_text = tokenizer.fit_on_texts(test_questions)\n",
        "sequences = tokenizer.texts_to_sequences(test_questions)\n",
        "test_data_padded = pad_sequences(sequences, maxlen=max_text_length)\n",
        "\n",
        "result = model.predict([test_images, test_data_padded])"
      ],
      "metadata": {
        "colab": {
          "base_uri": "https://localhost:8080/"
        },
        "id": "yoD1A9y3A4kf",
        "outputId": "2ece7d20-ffec-4200-fb70-5a85319ab5df"
      },
      "execution_count": null,
      "outputs": [
        {
          "output_type": "stream",
          "name": "stdout",
          "text": [
            "303/303 [==============================] - 36s 117ms/step\n"
          ]
        }
      ]
    },
    {
      "cell_type": "code",
      "source": [
        "# Apply argmax to get the predicted class\n",
        "predictions = np.argmax(result, axis=-1)\n",
        "\n",
        "print(f\"For {predictions.shape} test examples, Predicted Class: {predictions}\")\n"
      ],
      "metadata": {
        "colab": {
          "base_uri": "https://localhost:8080/"
        },
        "id": "zikSoNvCDev-",
        "outputId": "a1b6f478-9a41-4580-a0b2-452623ea9f80"
      },
      "execution_count": null,
      "outputs": [
        {
          "output_type": "stream",
          "name": "stdout",
          "text": [
            "For (9673,) test examples, Predicted Class: [ 7 11 11 ... 12 12  4]\n"
          ]
        }
      ]
    },
    {
      "cell_type": "code",
      "source": [
        "(predictions.shape)\n"
      ],
      "metadata": {
        "colab": {
          "base_uri": "https://localhost:8080/"
        },
        "id": "yilCKtNXuw8f",
        "outputId": "13007a65-bebb-410f-e7c6-3bcbe2409ff3"
      },
      "execution_count": null,
      "outputs": [
        {
          "output_type": "execute_result",
          "data": {
            "text/plain": [
              "(9673,)"
            ]
          },
          "metadata": {},
          "execution_count": 78
        }
      ]
    },
    {
      "cell_type": "code",
      "source": [
        "np.array(test_answer_labels).shape"
      ],
      "metadata": {
        "colab": {
          "base_uri": "https://localhost:8080/"
        },
        "id": "x6p6rXOrwj2p",
        "outputId": "69f1d32c-592f-48cd-ce0a-3e0a5a1b9e6b"
      },
      "execution_count": null,
      "outputs": [
        {
          "output_type": "execute_result",
          "data": {
            "text/plain": [
              "(9673,)"
            ]
          },
          "metadata": {},
          "execution_count": 79
        }
      ]
    },
    {
      "cell_type": "code",
      "source": [
        "# Example true labels\n",
        "true_labels = np.array(test_answer_labels) # Assuming one-hot encoded labels for 3 classes\n",
        "\n",
        "# Calculate loss\n",
        "loss_fn = tf.keras.losses.SparseCategoricalCrossentropy()\n",
        "loss = loss_fn(true_labels, result).numpy()\n",
        "print(\"Loss:\", loss)\n",
        "\n",
        "# Calculate accuracy\n",
        "accuracy_fn = tf.keras.metrics.SparseCategoricalAccuracy()\n",
        "accuracy_fn.update_state(true_labels, result)\n",
        "accuracy = accuracy_fn.result().numpy()\n",
        "print(\"Accuracy:\", accuracy)"
      ],
      "metadata": {
        "colab": {
          "base_uri": "https://localhost:8080/"
        },
        "id": "4NaRIy267Vj7",
        "outputId": "d5ba25a7-b518-475e-c9f2-91527284beeb"
      },
      "execution_count": null,
      "outputs": [
        {
          "output_type": "stream",
          "name": "stdout",
          "text": [
            "Loss: 1.8087503\n",
            "Accuracy: 0.6630828\n"
          ]
        }
      ]
    },
    {
      "cell_type": "code",
      "source": [
        "# Plot accuracy and loss\n",
        "\n",
        "import matplotlib.pyplot as plt\n",
        "\n",
        "plt.figure(figsize=(12, 4))\n",
        "\n",
        "# Plot accuracy\n",
        "plt.subplot(1, 2, 1)\n",
        "plt.plot(history.history['accuracy'], label='accuracy')\n",
        "plt.plot(history.history['val_accuracy'], label='val_accuracy')\n",
        "plt.xlabel('Epoch')\n",
        "plt.ylabel('Accuracy')\n",
        "plt.title('Model Accuracy')\n",
        "plt.legend()\n",
        "\n",
        "# Plot loss\n",
        "plt.subplot(1, 2, 2)\n",
        "plt.plot(history.history['loss'], label='loss')\n",
        "plt.plot(history.history['val_loss'], label='val_loss')\n",
        "plt.xlabel('Epoch')\n",
        "plt.ylabel('Loss')\n",
        "plt.title('Model Loss')\n",
        "plt.legend()\n",
        "\n",
        "plt.show()"
      ],
      "metadata": {
        "colab": {
          "base_uri": "https://localhost:8080/",
          "height": 410
        },
        "id": "iPmcfuUvTrUy",
        "outputId": "73574d1c-4265-4065-d79d-2cc955a97781"
      },
      "execution_count": null,
      "outputs": [
        {
          "output_type": "display_data",
          "data": {
            "text/plain": [
              "<Figure size 1200x400 with 2 Axes>"
            ],
            "image/png": "[encoded data removed]"
          },
          "metadata": {}
        }
      ]
    }
  ],
  "metadata": {
    "accelerator": "GPU",
    "colab": {
      "gpuType": "T4",
      "provenance": []
    },
    "kernelspec": {
      "display_name": "Python 3",
      "name": "python3"
    },
    "language_info": {
      "name": "python"
    }
  },
  "nbformat": 4,
  "nbformat_minor": 0
}